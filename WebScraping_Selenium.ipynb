{
 "cells": [
  {
   "cell_type": "markdown",
   "id": "36251d63",
   "metadata": {},
   "source": [
    "### 1. Write a python program to scrape data from http://www.naukri.com  for \"Data Analyst\" Job position in \"Bangalore\" location.  You have to scrape first 10 jobs data"
   ]
  },
  {
   "cell_type": "markdown",
   "id": "581445c2",
   "metadata": {},
   "source": [
    "Scraped Data items:-\n",
    "1. Job_title\n",
    "2. Job_location\n",
    "3. Company_Name\n",
    "4. Experience_required"
   ]
  },
  {
   "cell_type": "code",
   "execution_count": 57,
   "id": "8858d7f1",
   "metadata": {},
   "outputs": [
    {
     "name": "stdout",
     "output_type": "stream",
     "text": [
      "Requirement already satisfied: selenium in c:\\programdata\\anaconda3\\lib\\site-packages (4.1.0)\n",
      "Requirement already satisfied: urllib3[secure]~=1.26 in c:\\programdata\\anaconda3\\lib\\site-packages (from selenium) (1.26.4)\n",
      "Requirement already satisfied: trio-websocket~=0.9 in c:\\programdata\\anaconda3\\lib\\site-packages (from selenium) (0.9.2)\n",
      "Requirement already satisfied: trio~=0.17 in c:\\programdata\\anaconda3\\lib\\site-packages (from selenium) (0.19.0)\n",
      "Requirement already satisfied: outcome in c:\\programdata\\anaconda3\\lib\\site-packages (from trio~=0.17->selenium) (1.1.0)\n",
      "Requirement already satisfied: sortedcontainers in c:\\programdata\\anaconda3\\lib\\site-packages (from trio~=0.17->selenium) (2.3.0)\n",
      "Requirement already satisfied: sniffio in c:\\programdata\\anaconda3\\lib\\site-packages (from trio~=0.17->selenium) (1.2.0)\n",
      "Requirement already satisfied: idna in c:\\programdata\\anaconda3\\lib\\site-packages (from trio~=0.17->selenium) (2.10)\n",
      "Requirement already satisfied: async-generator>=1.9 in c:\\programdata\\anaconda3\\lib\\site-packages (from trio~=0.17->selenium) (1.10)\n",
      "Requirement already satisfied: attrs>=19.2.0 in c:\\programdata\\anaconda3\\lib\\site-packages (from trio~=0.17->selenium) (20.3.0)\n",
      "Requirement already satisfied: cffi>=1.14 in c:\\programdata\\anaconda3\\lib\\site-packages (from trio~=0.17->selenium) (1.14.5)\n",
      "Requirement already satisfied: pycparser in c:\\programdata\\anaconda3\\lib\\site-packages (from cffi>=1.14->trio~=0.17->selenium) (2.20)\n",
      "Requirement already satisfied: wsproto>=0.14 in c:\\programdata\\anaconda3\\lib\\site-packages (from trio-websocket~=0.9->selenium) (1.0.0)\n",
      "Requirement already satisfied: pyOpenSSL>=0.14 in c:\\programdata\\anaconda3\\lib\\site-packages (from urllib3[secure]~=1.26->selenium) (20.0.1)\n",
      "Requirement already satisfied: certifi in c:\\programdata\\anaconda3\\lib\\site-packages (from urllib3[secure]~=1.26->selenium) (2020.12.5)\n",
      "Requirement already satisfied: cryptography>=1.3.4 in c:\\programdata\\anaconda3\\lib\\site-packages (from urllib3[secure]~=1.26->selenium) (3.4.7)\n",
      "Requirement already satisfied: six>=1.5.2 in c:\\programdata\\anaconda3\\lib\\site-packages (from pyOpenSSL>=0.14->urllib3[secure]~=1.26->selenium) (1.15.0)\n",
      "Requirement already satisfied: h11<1,>=0.9.0 in c:\\programdata\\anaconda3\\lib\\site-packages (from wsproto>=0.14->trio-websocket~=0.9->selenium) (0.12.0)\n"
     ]
    }
   ],
   "source": [
    "!pip install selenium "
   ]
  },
  {
   "cell_type": "code",
   "execution_count": 58,
   "id": "ace095b3",
   "metadata": {},
   "outputs": [],
   "source": [
    "import selenium\n",
    "from selenium import webdriver\n",
    "import pandas as pd\n",
    "import warnings\n",
    "warnings.filterwarnings(\"ignore\")\n"
   ]
  },
  {
   "cell_type": "code",
   "execution_count": 59,
   "id": "10a369c1",
   "metadata": {},
   "outputs": [],
   "source": [
    "driver = webdriver.Chrome(r'C:\\Users\\Ashish Jain\\Downloads\\chromedriver_win32\\chromedriver.exe')"
   ]
  },
  {
   "cell_type": "code",
   "execution_count": 60,
   "id": "03596616",
   "metadata": {},
   "outputs": [],
   "source": [
    "url='https://www.naukri.com/'\n",
    "driver.get(url)"
   ]
  },
  {
   "cell_type": "code",
   "execution_count": 61,
   "id": "fe646f7b",
   "metadata": {},
   "outputs": [],
   "source": [
    "search_job=driver.find_element_by_id(\"qsb-keyword-sugg\")\n",
    "search_job.send_keys(\"Data Analyst,\")\n",
    "search_locn=driver.find_element_by_xpath('/html/body/div[1]/div[3]/div[2]/section/div/form/div[2]/div/div/div/div[1]/div[2]/input')\n",
    "search_locn\n",
    "search_locn.send_keys(\"Bangalore/Bangaluru\")\n",
    "search_btn=driver.find_element_by_xpath('/html/body/div[1]/div[3]/div[2]/section/div/form/div[3]/button')"
   ]
  },
  {
   "cell_type": "code",
   "execution_count": 62,
   "id": "2478273a",
   "metadata": {},
   "outputs": [
    {
     "data": {
      "text/plain": [
       "<selenium.webdriver.remote.webelement.WebElement (session=\"2a00154610c83c03caac211c8fa0cda3\", element=\"420c4ea5-062d-4553-99ad-86aaf0f3746a\")>"
      ]
     },
     "execution_count": 62,
     "metadata": {},
     "output_type": "execute_result"
    }
   ],
   "source": [
    "search_btn=driver.find_element_by_xpath(\"/html/body/div[1]/div[3]/div[2]/section/div/form/div[2]/div/div/div/div[1]/div[2]/input\")\n",
    "search_btn"
   ]
  },
  {
   "cell_type": "code",
   "execution_count": 69,
   "id": "bb812111",
   "metadata": {},
   "outputs": [],
   "source": [
    "search_btn.click()"
   ]
  },
  {
   "cell_type": "code",
   "execution_count": 71,
   "id": "b229a9d0",
   "metadata": {},
   "outputs": [
    {
     "data": {
      "text/plain": [
       "['Lead - Data Analyst / Scientist',\n",
       " 'Senior Data Analyst - Supporting Audits',\n",
       " 'Senior Data Analyst - KPO',\n",
       " 'Data Analyst',\n",
       " 'Financial Data Analyst',\n",
       " 'Tcs Hiring For Data Analyst / Engineers',\n",
       " 'Business Data Analyst - Database Design/Mining',\n",
       " 'Senior Analyst, Data Engineering',\n",
       " 'Senior Analyst, Data Engineering',\n",
       " 'Data Analyst']"
      ]
     },
     "execution_count": 71,
     "metadata": {},
     "output_type": "execute_result"
    }
   ],
   "source": [
    "title =driver.find_elements_by_xpath('//a[@class=\"title fw500 ellipsis\"]')\n",
    "\n",
    "title_name=[]\n",
    "for i in title:\n",
    "    title_name.append(i.text)\n",
    "title_name[0:10]\n",
    "#<a class=\"title fw500 ellipsis\" href=\"https://www.naukri.com/job-listings-lead-data-analyst-scientist-axim-technologies-bangalore-bengaluru-12-to-14-years-060122901886?src=jobsearchDesk&amp;sid=16416276397568475&amp;xp=1&amp;px=1\" title=\"Lead - Data Analyst / Scientist\" target=\"_blank\">Lead - Data Analyst / Scientist</a>"
   ]
  },
  {
   "cell_type": "code",
   "execution_count": 72,
   "id": "67ed932a",
   "metadata": {},
   "outputs": [],
   "source": [
    "company_tags=driver.find_elements_by_xpath('//a[@class=\"subTitle ellipsis fleft\"]')"
   ]
  },
  {
   "cell_type": "code",
   "execution_count": 73,
   "id": "a9cdf4f5",
   "metadata": {},
   "outputs": [
    {
     "data": {
      "text/plain": [
       "[<selenium.webdriver.remote.webelement.WebElement (session=\"2a00154610c83c03caac211c8fa0cda3\", element=\"fb88e765-6c47-4918-b409-0b244fb23eaa\")>,\n",
       " <selenium.webdriver.remote.webelement.WebElement (session=\"2a00154610c83c03caac211c8fa0cda3\", element=\"872eed15-a0b2-4849-bbcd-9c480e5c0137\")>,\n",
       " <selenium.webdriver.remote.webelement.WebElement (session=\"2a00154610c83c03caac211c8fa0cda3\", element=\"dbcca048-cc07-45ca-86ca-dd250b7dcb75\")>,\n",
       " <selenium.webdriver.remote.webelement.WebElement (session=\"2a00154610c83c03caac211c8fa0cda3\", element=\"13bb111a-60aa-4c9d-9d6a-0e538df2f884\")>,\n",
       " <selenium.webdriver.remote.webelement.WebElement (session=\"2a00154610c83c03caac211c8fa0cda3\", element=\"dc41f8b0-f9e3-4491-b4af-78599f9e2708\")>,\n",
       " <selenium.webdriver.remote.webelement.WebElement (session=\"2a00154610c83c03caac211c8fa0cda3\", element=\"dfc4802c-7809-4fea-be40-5d17d8b0174d\")>,\n",
       " <selenium.webdriver.remote.webelement.WebElement (session=\"2a00154610c83c03caac211c8fa0cda3\", element=\"69010151-215a-4bb7-8a44-f44458b01042\")>,\n",
       " <selenium.webdriver.remote.webelement.WebElement (session=\"2a00154610c83c03caac211c8fa0cda3\", element=\"1677e01b-d502-4844-8663-e0db0eed07d3\")>,\n",
       " <selenium.webdriver.remote.webelement.WebElement (session=\"2a00154610c83c03caac211c8fa0cda3\", element=\"2f9461ae-11c3-4313-821c-40c5a56998fd\")>,\n",
       " <selenium.webdriver.remote.webelement.WebElement (session=\"2a00154610c83c03caac211c8fa0cda3\", element=\"d7173c0d-827c-4127-9c01-fee404b91a8b\")>,\n",
       " <selenium.webdriver.remote.webelement.WebElement (session=\"2a00154610c83c03caac211c8fa0cda3\", element=\"527890e8-11de-4d99-9015-d355b6c94877\")>,\n",
       " <selenium.webdriver.remote.webelement.WebElement (session=\"2a00154610c83c03caac211c8fa0cda3\", element=\"9ee773df-f66b-4306-8b7a-1097cec59ada\")>,\n",
       " <selenium.webdriver.remote.webelement.WebElement (session=\"2a00154610c83c03caac211c8fa0cda3\", element=\"0eb93927-4dfb-45e1-a316-3b716f5dde63\")>,\n",
       " <selenium.webdriver.remote.webelement.WebElement (session=\"2a00154610c83c03caac211c8fa0cda3\", element=\"84a9577f-1930-4e83-be4e-2216a0fdfee4\")>,\n",
       " <selenium.webdriver.remote.webelement.WebElement (session=\"2a00154610c83c03caac211c8fa0cda3\", element=\"df08649c-9c51-4f6b-be08-39d014b9d88f\")>,\n",
       " <selenium.webdriver.remote.webelement.WebElement (session=\"2a00154610c83c03caac211c8fa0cda3\", element=\"6ea7823f-9af9-46ce-b78f-80202d34c035\")>,\n",
       " <selenium.webdriver.remote.webelement.WebElement (session=\"2a00154610c83c03caac211c8fa0cda3\", element=\"24dca347-c7ac-4e1e-be9f-b753c55503bb\")>,\n",
       " <selenium.webdriver.remote.webelement.WebElement (session=\"2a00154610c83c03caac211c8fa0cda3\", element=\"2b884211-42a4-4313-970d-9ac81abf0d8d\")>,\n",
       " <selenium.webdriver.remote.webelement.WebElement (session=\"2a00154610c83c03caac211c8fa0cda3\", element=\"f5ed21a2-5350-4ee3-a916-3df6b89b0156\")>,\n",
       " <selenium.webdriver.remote.webelement.WebElement (session=\"2a00154610c83c03caac211c8fa0cda3\", element=\"d11d58ab-d669-4677-8afc-66351c8c4328\")>]"
      ]
     },
     "execution_count": 73,
     "metadata": {},
     "output_type": "execute_result"
    }
   ],
   "source": [
    "company_tags"
   ]
  },
  {
   "cell_type": "code",
   "execution_count": 74,
   "id": "ec429f1f",
   "metadata": {},
   "outputs": [],
   "source": [
    "locn_tag=driver.find_elements_by_xpath('//li[@class=\"fleft grey-text br2 placeHolderLi location\"]')"
   ]
  },
  {
   "cell_type": "code",
   "execution_count": 75,
   "id": "e50b972c",
   "metadata": {},
   "outputs": [
    {
     "data": {
      "text/plain": [
       "['Bangalore/Bengaluru',\n",
       " 'Bangalore/Bengaluru',\n",
       " 'Gurgaon/Gurugram, Bangalore/Bengaluru',\n",
       " 'Bangalore/Bengaluru',\n",
       " 'Bangalore/Bengaluru',\n",
       " 'Pune, Bangalore/Bengaluru, Delhi / NCR',\n",
       " 'Bangalore/Bengaluru',\n",
       " 'Bangalore/Bengaluru',\n",
       " 'Bangalore/Bengaluru',\n",
       " 'Bangalore/Bengaluru\\n(WFH during Covid)',\n",
       " 'Bangalore/Bengaluru',\n",
       " 'Bangalore/Bengaluru',\n",
       " 'Bangalore/Bengaluru(Ulsoor)',\n",
       " 'Gurgaon/Gurugram, Bangalore/Bengaluru',\n",
       " 'Bengaluru/Bangalore',\n",
       " 'Bengaluru/Bangalore',\n",
       " 'Bengaluru/Bangalore',\n",
       " 'Bangalore/Bengaluru',\n",
       " 'Bangalore/Bengaluru',\n",
       " 'Bangalore/Bengaluru']"
      ]
     },
     "execution_count": 75,
     "metadata": {},
     "output_type": "execute_result"
    }
   ],
   "source": [
    "loc_name=[]\n",
    "for i in locn_tag:\n",
    "    loc_name.append(i.text)\n",
    "loc_name"
   ]
  },
  {
   "cell_type": "code",
   "execution_count": 76,
   "id": "0b9e9136",
   "metadata": {},
   "outputs": [
    {
     "data": {
      "text/plain": [
       "['Axim Technologies',\n",
       " 'Visa',\n",
       " 'Huquo Consulting Pvt. Ltd',\n",
       " 'Snaphunt',\n",
       " \"Moody's\",\n",
       " 'TCS',\n",
       " 'AugmatrixGo',\n",
       " 'Dell',\n",
       " 'Dell',\n",
       " 'Jebpo Services Llp']"
      ]
     },
     "execution_count": 76,
     "metadata": {},
     "output_type": "execute_result"
    }
   ],
   "source": [
    "company_name=[]\n",
    "for i in company_tags:\n",
    "    company_name.append(i.text)\n",
    "company_name[0:10]"
   ]
  },
  {
   "cell_type": "code",
   "execution_count": 77,
   "id": "a8ed77c9",
   "metadata": {},
   "outputs": [],
   "source": [
    "exp_tag=driver.find_elements_by_xpath('//li[@class=\"fleft grey-text br2 placeHolderLi experience\"]')"
   ]
  },
  {
   "cell_type": "code",
   "execution_count": 78,
   "id": "6f7329b3",
   "metadata": {},
   "outputs": [
    {
     "data": {
      "text/plain": [
       "['12-14 Yrs',\n",
       " '5-8 Yrs',\n",
       " '7-12 Yrs',\n",
       " '0-2 Yrs',\n",
       " '0-2 Yrs',\n",
       " '4-9 Yrs',\n",
       " '2-5 Yrs',\n",
       " '5-10 Yrs',\n",
       " '5-10 Yrs',\n",
       " '3-6 Yrs',\n",
       " '0-2 Yrs',\n",
       " '3-8 Yrs',\n",
       " '2-7 Yrs',\n",
       " '7-12 Yrs',\n",
       " '1-2 Yrs',\n",
       " '2-3 Yrs',\n",
       " '3-7 Yrs',\n",
       " '5-7 Yrs',\n",
       " '1-6 Yrs',\n",
       " '1-6 Yrs']"
      ]
     },
     "execution_count": 78,
     "metadata": {},
     "output_type": "execute_result"
    }
   ],
   "source": [
    "exp=[]\n",
    "for i in exp_tag:\n",
    "    exp.append(i.text)\n",
    "exp"
   ]
  },
  {
   "cell_type": "code",
   "execution_count": 79,
   "id": "34cc6faf",
   "metadata": {},
   "outputs": [
    {
     "data": {
      "text/html": [
       "<div>\n",
       "<style scoped>\n",
       "    .dataframe tbody tr th:only-of-type {\n",
       "        vertical-align: middle;\n",
       "    }\n",
       "\n",
       "    .dataframe tbody tr th {\n",
       "        vertical-align: top;\n",
       "    }\n",
       "\n",
       "    .dataframe thead th {\n",
       "        text-align: right;\n",
       "    }\n",
       "</style>\n",
       "<table border=\"1\" class=\"dataframe\">\n",
       "  <thead>\n",
       "    <tr style=\"text-align: right;\">\n",
       "      <th></th>\n",
       "      <th>Company Name</th>\n",
       "      <th>Position</th>\n",
       "      <th>Experience_Required</th>\n",
       "      <th>Location</th>\n",
       "    </tr>\n",
       "  </thead>\n",
       "  <tbody>\n",
       "    <tr>\n",
       "      <th>0</th>\n",
       "      <td>Axim Technologies</td>\n",
       "      <td>Lead - Data Analyst / Scientist</td>\n",
       "      <td>12-14 Yrs</td>\n",
       "      <td>Bangalore/Bengaluru</td>\n",
       "    </tr>\n",
       "    <tr>\n",
       "      <th>1</th>\n",
       "      <td>Visa</td>\n",
       "      <td>Senior Data Analyst - Supporting Audits</td>\n",
       "      <td>5-8 Yrs</td>\n",
       "      <td>Bangalore/Bengaluru</td>\n",
       "    </tr>\n",
       "    <tr>\n",
       "      <th>2</th>\n",
       "      <td>Huquo Consulting Pvt. Ltd</td>\n",
       "      <td>Senior Data Analyst - KPO</td>\n",
       "      <td>7-12 Yrs</td>\n",
       "      <td>Gurgaon/Gurugram, Bangalore/Bengaluru</td>\n",
       "    </tr>\n",
       "    <tr>\n",
       "      <th>3</th>\n",
       "      <td>Snaphunt</td>\n",
       "      <td>Data Analyst</td>\n",
       "      <td>0-2 Yrs</td>\n",
       "      <td>Bangalore/Bengaluru</td>\n",
       "    </tr>\n",
       "    <tr>\n",
       "      <th>4</th>\n",
       "      <td>Moody's</td>\n",
       "      <td>Financial Data Analyst</td>\n",
       "      <td>0-2 Yrs</td>\n",
       "      <td>Bangalore/Bengaluru</td>\n",
       "    </tr>\n",
       "    <tr>\n",
       "      <th>5</th>\n",
       "      <td>TCS</td>\n",
       "      <td>Tcs Hiring For Data Analyst / Engineers</td>\n",
       "      <td>4-9 Yrs</td>\n",
       "      <td>Pune, Bangalore/Bengaluru, Delhi / NCR</td>\n",
       "    </tr>\n",
       "    <tr>\n",
       "      <th>6</th>\n",
       "      <td>AugmatrixGo</td>\n",
       "      <td>Business Data Analyst - Database Design/Mining</td>\n",
       "      <td>2-5 Yrs</td>\n",
       "      <td>Bangalore/Bengaluru</td>\n",
       "    </tr>\n",
       "    <tr>\n",
       "      <th>7</th>\n",
       "      <td>Dell</td>\n",
       "      <td>Senior Analyst, Data Engineering</td>\n",
       "      <td>5-10 Yrs</td>\n",
       "      <td>Bangalore/Bengaluru</td>\n",
       "    </tr>\n",
       "    <tr>\n",
       "      <th>8</th>\n",
       "      <td>Dell</td>\n",
       "      <td>Senior Analyst, Data Engineering</td>\n",
       "      <td>5-10 Yrs</td>\n",
       "      <td>Bangalore/Bengaluru</td>\n",
       "    </tr>\n",
       "    <tr>\n",
       "      <th>9</th>\n",
       "      <td>Jebpo Services Llp</td>\n",
       "      <td>Data Analyst</td>\n",
       "      <td>3-6 Yrs</td>\n",
       "      <td>Bangalore/Bengaluru\\n(WFH during Covid)</td>\n",
       "    </tr>\n",
       "  </tbody>\n",
       "</table>\n",
       "</div>"
      ],
      "text/plain": [
       "                Company Name                                        Position  \\\n",
       "0          Axim Technologies                 Lead - Data Analyst / Scientist   \n",
       "1                       Visa         Senior Data Analyst - Supporting Audits   \n",
       "2  Huquo Consulting Pvt. Ltd                       Senior Data Analyst - KPO   \n",
       "3                   Snaphunt                                    Data Analyst   \n",
       "4                    Moody's                          Financial Data Analyst   \n",
       "5                        TCS         Tcs Hiring For Data Analyst / Engineers   \n",
       "6                AugmatrixGo  Business Data Analyst - Database Design/Mining   \n",
       "7                       Dell                Senior Analyst, Data Engineering   \n",
       "8                       Dell                Senior Analyst, Data Engineering   \n",
       "9         Jebpo Services Llp                                    Data Analyst   \n",
       "\n",
       "  Experience_Required                                 Location  \n",
       "0           12-14 Yrs                      Bangalore/Bengaluru  \n",
       "1             5-8 Yrs                      Bangalore/Bengaluru  \n",
       "2            7-12 Yrs    Gurgaon/Gurugram, Bangalore/Bengaluru  \n",
       "3             0-2 Yrs                      Bangalore/Bengaluru  \n",
       "4             0-2 Yrs                      Bangalore/Bengaluru  \n",
       "5             4-9 Yrs   Pune, Bangalore/Bengaluru, Delhi / NCR  \n",
       "6             2-5 Yrs                      Bangalore/Bengaluru  \n",
       "7            5-10 Yrs                      Bangalore/Bengaluru  \n",
       "8            5-10 Yrs                      Bangalore/Bengaluru  \n",
       "9             3-6 Yrs  Bangalore/Bengaluru\\n(WFH during Covid)  "
      ]
     },
     "execution_count": 79,
     "metadata": {},
     "output_type": "execute_result"
    }
   ],
   "source": [
    "df=pd.DataFrame({'Company Name':company_name[0:10] , 'Position' :title_name[0:10],'Experience_Required' :exp[0:10],'Location' :loc_name[0:10]})\n",
    "df"
   ]
  },
  {
   "cell_type": "markdown",
   "id": "732f70d0",
   "metadata": {},
   "source": [
    "## 2. Write a python program to scrape data for \"Data Scientist\" Job position in Bangalore location. You have to scrape 10 jobs data using"
   ]
  },
  {
   "cell_type": "markdown",
   "id": "58c4f688",
   "metadata": {},
   "source": [
    "1. Job title\n",
    "2. Job location\n",
    "3. Company name"
   ]
  },
  {
   "cell_type": "code",
   "execution_count": 95,
   "id": "35293601",
   "metadata": {},
   "outputs": [],
   "source": [
    "import selenium\n",
    "from selenium import webdriver\n",
    "import pandas as pd\n",
    "import warnings\n",
    "warnings.filterwarnings(\"ignore\")"
   ]
  },
  {
   "cell_type": "code",
   "execution_count": 96,
   "id": "bcbeb1a5",
   "metadata": {},
   "outputs": [],
   "source": [
    "driver = webdriver.Chrome(r'C:\\Users\\Ashish Jain\\Downloads\\chromedriver_win32\\chromedriver.exe')"
   ]
  },
  {
   "cell_type": "code",
   "execution_count": 97,
   "id": "b22438a9",
   "metadata": {},
   "outputs": [],
   "source": [
    "url='https://www.naukri.com/'\n",
    "driver.get(url)"
   ]
  },
  {
   "cell_type": "code",
   "execution_count": 98,
   "id": "ed2e8700",
   "metadata": {},
   "outputs": [
    {
     "data": {
      "text/plain": [
       "<selenium.webdriver.remote.webelement.WebElement (session=\"003e66f0617af003934f646f9f721c41\", element=\"e20b79a2-a7db-4f65-aaf7-c2870d77f1d0\")>"
      ]
     },
     "execution_count": 98,
     "metadata": {},
     "output_type": "execute_result"
    }
   ],
   "source": [
    "search_job=driver.find_element_by_id(\"qsb-keyword-sugg\")\n",
    "search_job"
   ]
  },
  {
   "cell_type": "code",
   "execution_count": 99,
   "id": "f03af241",
   "metadata": {},
   "outputs": [],
   "source": [
    "search_job.send_keys(\"Data scientist,\")"
   ]
  },
  {
   "cell_type": "code",
   "execution_count": 100,
   "id": "6ae0466d",
   "metadata": {},
   "outputs": [
    {
     "data": {
      "text/plain": [
       "<selenium.webdriver.remote.webelement.WebElement (session=\"003e66f0617af003934f646f9f721c41\", element=\"d754e08f-5016-43ef-9618-3d5922668709\")>"
      ]
     },
     "execution_count": 100,
     "metadata": {},
     "output_type": "execute_result"
    }
   ],
   "source": [
    "search_locn=driver.find_element_by_xpath('/html/body/div[1]/div[3]/div[2]/section/div/form/div[2]/div/div/div/div[1]/div[2]/input')\n",
    "search_locn"
   ]
  },
  {
   "cell_type": "code",
   "execution_count": 101,
   "id": "376bf111",
   "metadata": {},
   "outputs": [],
   "source": [
    "search_locn.send_keys(\"Delhi/NCR\")"
   ]
  },
  {
   "cell_type": "code",
   "execution_count": 102,
   "id": "8bf99efa",
   "metadata": {},
   "outputs": [
    {
     "data": {
      "text/plain": [
       "<selenium.webdriver.remote.webelement.WebElement (session=\"003e66f0617af003934f646f9f721c41\", element=\"5e5f3269-25f5-414b-8bc1-2baa9405e02b\")>"
      ]
     },
     "execution_count": 102,
     "metadata": {},
     "output_type": "execute_result"
    }
   ],
   "source": [
    "search_btn=driver.find_element_by_xpath('/html/body/div[1]/div[3]/div[2]/section/div/form/div[3]/button')\n",
    "search_btn"
   ]
  },
  {
   "cell_type": "code",
   "execution_count": 103,
   "id": "3c4d7ac6",
   "metadata": {},
   "outputs": [],
   "source": [
    "search_btn.click()"
   ]
  },
  {
   "cell_type": "code",
   "execution_count": 106,
   "id": "6d55baec",
   "metadata": {},
   "outputs": [],
   "source": [
    "salary_check=driver.find_element_by_xpath('/html/body/div[1]/div[3]/div[2]/section[1]/div[2]/div[1]/div[1]/span')"
   ]
  },
  {
   "cell_type": "code",
   "execution_count": 107,
   "id": "16317ca4",
   "metadata": {},
   "outputs": [],
   "source": [
    "salary_check.click()"
   ]
  },
  {
   "cell_type": "code",
   "execution_count": 108,
   "id": "03b3a409",
   "metadata": {},
   "outputs": [],
   "source": [
    "title_tag=driver.find_elements_by_xpath('//a[@class=\"title fw500 ellipsis\"]')\n"
   ]
  },
  {
   "cell_type": "code",
   "execution_count": 109,
   "id": "bf489640",
   "metadata": {},
   "outputs": [
    {
     "data": {
      "text/plain": [
       "['Data Scientist | Python | Machine Learning | Deep Learning- Fresher',\n",
       " 'Senior Data Scientist I',\n",
       " 'Senior Data Scientist I',\n",
       " 'Data Scientist || Machine Learning Engineer || Deep Learning',\n",
       " 'Senior Data Scientist',\n",
       " 'Openings For Jr/mid/Sr level data Scientists',\n",
       " 'Data Scientist II',\n",
       " 'ML Engineer/Data Scientist',\n",
       " 'Senior Data Scientist',\n",
       " 'Senior Data Scientist']"
      ]
     },
     "execution_count": 109,
     "metadata": {},
     "output_type": "execute_result"
    }
   ],
   "source": [
    "title_name=[]\n",
    "for i in title_tag:\n",
    "    title_name.append(i.text)\n",
    "title_name[0:10]"
   ]
  },
  {
   "cell_type": "code",
   "execution_count": 110,
   "id": "837dc15b",
   "metadata": {},
   "outputs": [],
   "source": [
    "company_tags=driver.find_elements_by_xpath('//a[@class=\"subTitle ellipsis fleft\"]')"
   ]
  },
  {
   "cell_type": "code",
   "execution_count": 111,
   "id": "0b0e61c9",
   "metadata": {},
   "outputs": [],
   "source": [
    "locn_tag=driver.find_elements_by_xpath('//li[@class=\"fleft grey-text br2 placeHolderLi location\"]')"
   ]
  },
  {
   "cell_type": "code",
   "execution_count": 112,
   "id": "9694b27f",
   "metadata": {},
   "outputs": [
    {
     "data": {
      "text/plain": [
       "['Noida, Gurgaon/Gurugram, Delhi / NCR',\n",
       " 'Gurgaon/Gurugram',\n",
       " 'Gurgaon/Gurugram',\n",
       " 'Noida, Gurgaon/Gurugram, Delhi / NCR',\n",
       " 'Gurgaon/Gurugram, Bangalore/Bengaluru, Mumbai (All Areas)',\n",
       " 'Kolkata, Hyderabad/Secunderabad, Pune, Ahmedabad, Chennai, Bangalore/Bengaluru, Delhi / NCR, Mumbai (All Areas)\\n(WFH during Covid)',\n",
       " 'Gurgaon/Gurugram',\n",
       " 'Kolkata, Mumbai, Visakhapatnam, Hyderabad/Secunderabad, Pune, Chennai, Ahmedabad, Delhi / NCR, Bangalore/Bengaluru\\n(WFH during Covid)',\n",
       " 'Noida',\n",
       " 'Gurgaon/Gurugram\\n(WFH during Covid)',\n",
       " 'Noida, New Delhi, Gurgaon/Gurugram, Delhi / NCR, Mumbai (All Areas)',\n",
       " 'Mumbai, Bangalore/Bengaluru, Delhi / NCR',\n",
       " 'Gurgaon/Gurugram',\n",
       " 'Gurgaon/Gurugram, Delhi / NCR',\n",
       " 'Bangalore/Bengaluru, Delhi / NCR, Mumbai (All Areas)\\n(WFH during Covid)',\n",
       " 'Gurgaon/Gurugram, Bangalore/Bengaluru',\n",
       " 'Gurgaon/Gurugram, Bangalore/Bengaluru',\n",
       " 'Gurgaon/Gurugram',\n",
       " 'Mumbai, Hyderabad/Secunderabad, New Delhi, Pune, Chennai',\n",
       " 'Gurgaon/Gurugram']"
      ]
     },
     "execution_count": 112,
     "metadata": {},
     "output_type": "execute_result"
    }
   ],
   "source": [
    "loc_name=[]\n",
    "for i in locn_tag:\n",
    "    loc_name.append(i.text)\n",
    "loc_name"
   ]
  },
  {
   "cell_type": "code",
   "execution_count": 114,
   "id": "35a488c4",
   "metadata": {},
   "outputs": [
    {
     "data": {
      "text/plain": [
       "['Schlesinger Group',\n",
       " 'Delhivery',\n",
       " 'Delhivery',\n",
       " 'Schlesinger Group',\n",
       " 'Fractal Analytics',\n",
       " 'Pluto seven business solutions (p) limited',\n",
       " 'Zenatix Solutions Private Limited',\n",
       " 'Rapid Talent Solutions',\n",
       " 'Bigshyft Hiring for Info Edge',\n",
       " 'Mobikwik']"
      ]
     },
     "execution_count": 114,
     "metadata": {},
     "output_type": "execute_result"
    }
   ],
   "source": [
    "company_name=[]\n",
    "for i in company_tags:\n",
    "    company_name.append(i.text)\n",
    "company_name[0:10]"
   ]
  },
  {
   "cell_type": "code",
   "execution_count": 115,
   "id": "bd30ca19",
   "metadata": {},
   "outputs": [
    {
     "data": {
      "text/html": [
       "<div>\n",
       "<style scoped>\n",
       "    .dataframe tbody tr th:only-of-type {\n",
       "        vertical-align: middle;\n",
       "    }\n",
       "\n",
       "    .dataframe tbody tr th {\n",
       "        vertical-align: top;\n",
       "    }\n",
       "\n",
       "    .dataframe thead th {\n",
       "        text-align: right;\n",
       "    }\n",
       "</style>\n",
       "<table border=\"1\" class=\"dataframe\">\n",
       "  <thead>\n",
       "    <tr style=\"text-align: right;\">\n",
       "      <th></th>\n",
       "      <th>Company Name</th>\n",
       "      <th>Position</th>\n",
       "      <th>Location</th>\n",
       "    </tr>\n",
       "  </thead>\n",
       "  <tbody>\n",
       "    <tr>\n",
       "      <th>0</th>\n",
       "      <td>Schlesinger Group</td>\n",
       "      <td>Data Scientist | Python | Machine Learning | D...</td>\n",
       "      <td>Noida, Gurgaon/Gurugram, Delhi / NCR</td>\n",
       "    </tr>\n",
       "    <tr>\n",
       "      <th>1</th>\n",
       "      <td>Delhivery</td>\n",
       "      <td>Senior Data Scientist I</td>\n",
       "      <td>Gurgaon/Gurugram</td>\n",
       "    </tr>\n",
       "    <tr>\n",
       "      <th>2</th>\n",
       "      <td>Delhivery</td>\n",
       "      <td>Senior Data Scientist I</td>\n",
       "      <td>Gurgaon/Gurugram</td>\n",
       "    </tr>\n",
       "    <tr>\n",
       "      <th>3</th>\n",
       "      <td>Schlesinger Group</td>\n",
       "      <td>Data Scientist || Machine Learning Engineer ||...</td>\n",
       "      <td>Noida, Gurgaon/Gurugram, Delhi / NCR</td>\n",
       "    </tr>\n",
       "    <tr>\n",
       "      <th>4</th>\n",
       "      <td>Fractal Analytics</td>\n",
       "      <td>Senior Data Scientist</td>\n",
       "      <td>Gurgaon/Gurugram, Bangalore/Bengaluru, Mumbai ...</td>\n",
       "    </tr>\n",
       "    <tr>\n",
       "      <th>5</th>\n",
       "      <td>Pluto seven business solutions (p) limited</td>\n",
       "      <td>Openings For Jr/mid/Sr level data Scientists</td>\n",
       "      <td>Kolkata, Hyderabad/Secunderabad, Pune, Ahmedab...</td>\n",
       "    </tr>\n",
       "    <tr>\n",
       "      <th>6</th>\n",
       "      <td>Zenatix Solutions Private Limited</td>\n",
       "      <td>Data Scientist II</td>\n",
       "      <td>Gurgaon/Gurugram</td>\n",
       "    </tr>\n",
       "    <tr>\n",
       "      <th>7</th>\n",
       "      <td>Rapid Talent Solutions</td>\n",
       "      <td>ML Engineer/Data Scientist</td>\n",
       "      <td>Kolkata, Mumbai, Visakhapatnam, Hyderabad/Secu...</td>\n",
       "    </tr>\n",
       "    <tr>\n",
       "      <th>8</th>\n",
       "      <td>Bigshyft Hiring for Info Edge</td>\n",
       "      <td>Senior Data Scientist</td>\n",
       "      <td>Noida</td>\n",
       "    </tr>\n",
       "    <tr>\n",
       "      <th>9</th>\n",
       "      <td>Mobikwik</td>\n",
       "      <td>Senior Data Scientist</td>\n",
       "      <td>Gurgaon/Gurugram\\n(WFH during Covid)</td>\n",
       "    </tr>\n",
       "  </tbody>\n",
       "</table>\n",
       "</div>"
      ],
      "text/plain": [
       "                                 Company Name  \\\n",
       "0                           Schlesinger Group   \n",
       "1                                   Delhivery   \n",
       "2                                   Delhivery   \n",
       "3                           Schlesinger Group   \n",
       "4                           Fractal Analytics   \n",
       "5  Pluto seven business solutions (p) limited   \n",
       "6           Zenatix Solutions Private Limited   \n",
       "7                      Rapid Talent Solutions   \n",
       "8               Bigshyft Hiring for Info Edge   \n",
       "9                                    Mobikwik   \n",
       "\n",
       "                                            Position  \\\n",
       "0  Data Scientist | Python | Machine Learning | D...   \n",
       "1                            Senior Data Scientist I   \n",
       "2                            Senior Data Scientist I   \n",
       "3  Data Scientist || Machine Learning Engineer ||...   \n",
       "4                              Senior Data Scientist   \n",
       "5       Openings For Jr/mid/Sr level data Scientists   \n",
       "6                                  Data Scientist II   \n",
       "7                         ML Engineer/Data Scientist   \n",
       "8                              Senior Data Scientist   \n",
       "9                              Senior Data Scientist   \n",
       "\n",
       "                                            Location  \n",
       "0               Noida, Gurgaon/Gurugram, Delhi / NCR  \n",
       "1                                   Gurgaon/Gurugram  \n",
       "2                                   Gurgaon/Gurugram  \n",
       "3               Noida, Gurgaon/Gurugram, Delhi / NCR  \n",
       "4  Gurgaon/Gurugram, Bangalore/Bengaluru, Mumbai ...  \n",
       "5  Kolkata, Hyderabad/Secunderabad, Pune, Ahmedab...  \n",
       "6                                   Gurgaon/Gurugram  \n",
       "7  Kolkata, Mumbai, Visakhapatnam, Hyderabad/Secu...  \n",
       "8                                              Noida  \n",
       "9               Gurgaon/Gurugram\\n(WFH during Covid)  "
      ]
     },
     "execution_count": 115,
     "metadata": {},
     "output_type": "execute_result"
    }
   ],
   "source": [
    "df=pd.DataFrame({'Company Name':company_name[0:10] , 'Position' :title_name[0:10], 'Location' :loc_name[0:10]})\n",
    "df"
   ]
  },
  {
   "cell_type": "markdown",
   "id": "5e95be29",
   "metadata": {},
   "source": [
    "## 3. In this question you have to scrape the data using the filters available on the webpage www.naukri.com"
   ]
  },
  {
   "cell_type": "markdown",
   "id": "6f254a7a",
   "metadata": {},
   "source": [
    "1. Scrape location and salary filter\n",
    "\n",
    "2. Scrape Data for \"Data Scientist\" in skills, Designation and Companies field.\n",
    "\n",
    "3. Scrape the job title, job location Company Name and experience required.\n",
    "\n",
    "4. The location filter to be used is \"Delhi/NCR\". The salary filter to be used is \"3-6\" years."
   ]
  },
  {
   "cell_type": "code",
   "execution_count": 130,
   "id": "50e925e8",
   "metadata": {},
   "outputs": [],
   "source": [
    "import selenium\n",
    "from selenium import webdriver\n",
    "import pandas as pd\n",
    "import time\n",
    "import warnings\n",
    "warnings.filterwarnings(\"ignore\")"
   ]
  },
  {
   "cell_type": "code",
   "execution_count": 131,
   "id": "6da0cba1",
   "metadata": {},
   "outputs": [],
   "source": [
    "driver = webdriver.Chrome(r'C:\\Users\\Ashish Jain\\Downloads\\chromedriver_win32\\chromedriver.exe')"
   ]
  },
  {
   "cell_type": "code",
   "execution_count": 132,
   "id": "abdc89a3",
   "metadata": {},
   "outputs": [],
   "source": [
    "url='https://www.naukri.com/'\n",
    "driver.get(url)"
   ]
  },
  {
   "cell_type": "code",
   "execution_count": 134,
   "id": "902327b1",
   "metadata": {},
   "outputs": [],
   "source": [
    "search_job=driver.find_element_by_class_name(\"suggestor-input \")\n",
    "search_job.send_keys(\"Data Scientist,\")\n",
    "\n",
    "search_locn=driver.find_element_by_xpath('/html/body/div/div[2]/div[3]/div/div/div[3]/div/div/div/input')\n",
    "search_locn.send_keys(\"Delhi/NCR\")\n",
    "search_btn=driver.find_element_by_xpath('/html/body/div/div[2]/div[3]/div/div[1]/div[6]')\n",
    "search_btn.click()\n",
    "time.sleep(2)"
   ]
  },
  {
   "cell_type": "code",
   "execution_count": 135,
   "id": "1b5bf1cb",
   "metadata": {},
   "outputs": [],
   "source": [
    "salary_check=driver.find_element_by_xpath('/html/body/div[1]/div[3]/div[2]/section[1]/div[2]/div[1]/div[2]/div[1]/label/p/span[2]')\n",
    "salary_check.click()"
   ]
  },
  {
   "cell_type": "code",
   "execution_count": 136,
   "id": "9a64cb29",
   "metadata": {},
   "outputs": [],
   "source": [
    "title_tag=driver.find_elements_by_xpath('//a[@class=\"title fw500 ellipsis\"]')\n",
    "title_name=[]\n",
    "for i in title_tag:\n",
    "    title_name.append(i.text)\n",
    "#title_name[0:10]\n",
    "\n",
    "company_tags=driver.find_elements_by_xpath('//a[@class=\"subTitle ellipsis fleft\"]')\n",
    "company_name=[]\n",
    "for i in company_tags:\n",
    "    company_name.append(i.text)\n",
    "company_name[0:10]\n",
    "\n",
    "locn_tag=driver.find_elements_by_xpath('//li[@class=\"fleft grey-text br2 placeHolderLi location\"]')\n",
    "loc_name=[]\n",
    "for i in locn_tag:\n",
    "    loc_name.append(i.text)\n",
    "    "
   ]
  },
  {
   "cell_type": "code",
   "execution_count": 137,
   "id": "e343e59c",
   "metadata": {},
   "outputs": [
    {
     "data": {
      "text/html": [
       "<div>\n",
       "<style scoped>\n",
       "    .dataframe tbody tr th:only-of-type {\n",
       "        vertical-align: middle;\n",
       "    }\n",
       "\n",
       "    .dataframe tbody tr th {\n",
       "        vertical-align: top;\n",
       "    }\n",
       "\n",
       "    .dataframe thead th {\n",
       "        text-align: right;\n",
       "    }\n",
       "</style>\n",
       "<table border=\"1\" class=\"dataframe\">\n",
       "  <thead>\n",
       "    <tr style=\"text-align: right;\">\n",
       "      <th></th>\n",
       "      <th>Company Name</th>\n",
       "      <th>Position</th>\n",
       "      <th>Location</th>\n",
       "    </tr>\n",
       "  </thead>\n",
       "  <tbody>\n",
       "    <tr>\n",
       "      <th>0</th>\n",
       "      <td>Sejal Consulting Hub</td>\n",
       "      <td>Junior Data Analyst/ Scientist- Fresher Position</td>\n",
       "      <td>Kolkata, Gurgaon/Gurugram, Bangalore/Bengaluru...</td>\n",
       "    </tr>\n",
       "    <tr>\n",
       "      <th>1</th>\n",
       "      <td>Delhivery</td>\n",
       "      <td>Senior Data Scientist I</td>\n",
       "      <td>Gurgaon/Gurugram</td>\n",
       "    </tr>\n",
       "    <tr>\n",
       "      <th>2</th>\n",
       "      <td>Delhivery</td>\n",
       "      <td>Senior Data Scientist I</td>\n",
       "      <td>Gurgaon/Gurugram</td>\n",
       "    </tr>\n",
       "    <tr>\n",
       "      <th>3</th>\n",
       "      <td>Pluto seven business solutions (p) limited</td>\n",
       "      <td>Openings For Jr/mid/Sr level data Scientists</td>\n",
       "      <td>Kolkata, Hyderabad/Secunderabad, Pune, Ahmedab...</td>\n",
       "    </tr>\n",
       "    <tr>\n",
       "      <th>4</th>\n",
       "      <td>T &amp; A Solutions</td>\n",
       "      <td>Data Scientist</td>\n",
       "      <td>Gurgaon/Gurugram</td>\n",
       "    </tr>\n",
       "    <tr>\n",
       "      <th>5</th>\n",
       "      <td>Schlesinger Group</td>\n",
       "      <td>Data Scientist | Python | Machine Learning | D...</td>\n",
       "      <td>Noida, Gurgaon/Gurugram, Delhi / NCR</td>\n",
       "    </tr>\n",
       "    <tr>\n",
       "      <th>6</th>\n",
       "      <td>Zenatix Solutions Private Limited</td>\n",
       "      <td>Data Scientist II</td>\n",
       "      <td>Gurgaon/Gurugram</td>\n",
       "    </tr>\n",
       "    <tr>\n",
       "      <th>7</th>\n",
       "      <td>Mobikwik</td>\n",
       "      <td>Senior Data Scientist</td>\n",
       "      <td>Gurgaon/Gurugram\\n(WFH during Covid)</td>\n",
       "    </tr>\n",
       "    <tr>\n",
       "      <th>8</th>\n",
       "      <td>TransOrg Solutions Services (P) Ltd.</td>\n",
       "      <td>Data Scientist/ Analyst Specialist</td>\n",
       "      <td>Noida, New Delhi, Gurgaon/Gurugram, Delhi / NC...</td>\n",
       "    </tr>\n",
       "    <tr>\n",
       "      <th>9</th>\n",
       "      <td>Schlesinger Group</td>\n",
       "      <td>Data Scientist || Machine Learning Engineer ||...</td>\n",
       "      <td>Noida, Gurgaon/Gurugram, Delhi / NCR</td>\n",
       "    </tr>\n",
       "  </tbody>\n",
       "</table>\n",
       "</div>"
      ],
      "text/plain": [
       "                                 Company Name  \\\n",
       "0                        Sejal Consulting Hub   \n",
       "1                                   Delhivery   \n",
       "2                                   Delhivery   \n",
       "3  Pluto seven business solutions (p) limited   \n",
       "4                             T & A Solutions   \n",
       "5                           Schlesinger Group   \n",
       "6           Zenatix Solutions Private Limited   \n",
       "7                                    Mobikwik   \n",
       "8        TransOrg Solutions Services (P) Ltd.   \n",
       "9                           Schlesinger Group   \n",
       "\n",
       "                                            Position  \\\n",
       "0   Junior Data Analyst/ Scientist- Fresher Position   \n",
       "1                            Senior Data Scientist I   \n",
       "2                            Senior Data Scientist I   \n",
       "3       Openings For Jr/mid/Sr level data Scientists   \n",
       "4                                     Data Scientist   \n",
       "5  Data Scientist | Python | Machine Learning | D...   \n",
       "6                                  Data Scientist II   \n",
       "7                              Senior Data Scientist   \n",
       "8                 Data Scientist/ Analyst Specialist   \n",
       "9  Data Scientist || Machine Learning Engineer ||...   \n",
       "\n",
       "                                            Location  \n",
       "0  Kolkata, Gurgaon/Gurugram, Bangalore/Bengaluru...  \n",
       "1                                   Gurgaon/Gurugram  \n",
       "2                                   Gurgaon/Gurugram  \n",
       "3  Kolkata, Hyderabad/Secunderabad, Pune, Ahmedab...  \n",
       "4                                   Gurgaon/Gurugram  \n",
       "5               Noida, Gurgaon/Gurugram, Delhi / NCR  \n",
       "6                                   Gurgaon/Gurugram  \n",
       "7               Gurgaon/Gurugram\\n(WFH during Covid)  \n",
       "8  Noida, New Delhi, Gurgaon/Gurugram, Delhi / NC...  \n",
       "9               Noida, Gurgaon/Gurugram, Delhi / NCR  "
      ]
     },
     "execution_count": 137,
     "metadata": {},
     "output_type": "execute_result"
    }
   ],
   "source": [
    "df=pd.DataFrame({'Company Name':company_name[0:10] , 'Position' :title_name[0:10], 'Location' :loc_name[0:10]})\n",
    "df"
   ]
  },
  {
   "cell_type": "markdown",
   "id": "7b91515f",
   "metadata": {},
   "source": [
    "## 4. Scrape data for first 100 sunglasses listing on www.flipkart.com. You have to scrape four attributes.\n",
    "1. Brand\n",
    "2. Product Description\n",
    "3. Price\n",
    "4. Scrape first page , repeat until 100 sunglasses explored."
   ]
  },
  {
   "cell_type": "code",
   "execution_count": 199,
   "id": "07f089d6",
   "metadata": {},
   "outputs": [],
   "source": [
    "import selenium\n",
    "from selenium import webdriver\n",
    "import pandas as pd\n",
    "import warnings\n",
    "warnings.filterwarnings(\"ignore\")\n",
    "import time"
   ]
  },
  {
   "cell_type": "code",
   "execution_count": 200,
   "id": "5d42cfaf",
   "metadata": {},
   "outputs": [],
   "source": [
    "driver = webdriver.Chrome(r'C:\\Users\\Ashish Jain\\Downloads\\chromedriver_win32\\chromedriver.exe')"
   ]
  },
  {
   "cell_type": "code",
   "execution_count": 201,
   "id": "9c6cd2f5",
   "metadata": {},
   "outputs": [],
   "source": [
    "url='https://www.flipkart.com/'\n",
    "driver.get(url)\n",
    "time.sleep(2)"
   ]
  },
  {
   "cell_type": "code",
   "execution_count": 224,
   "id": "5e97eb07",
   "metadata": {},
   "outputs": [],
   "source": [
    "search_bar_fk=driver.find_element_by_class_name('_3704LK')\n",
    "search_bar_fk.clear()\n",
    "search_bar_fk.send_keys('sunglasses')"
   ]
  },
  {
   "cell_type": "code",
   "execution_count": 225,
   "id": "acce02ef",
   "metadata": {},
   "outputs": [],
   "source": [
    "search_btn_fk=driver.find_element_by_class_name('_34RNph')\n",
    "search_btn_fk.click()"
   ]
  },
  {
   "cell_type": "code",
   "execution_count": 226,
   "id": "5cec89c0",
   "metadata": {},
   "outputs": [
    {
     "data": {
      "text/plain": [
       "<selenium.webdriver.remote.webelement.WebElement (session=\"8048adb8e31e648f907e160be85ef3ad\", element=\"25ca2957-c295-4548-ae26-1ce8c2362124\")>"
      ]
     },
     "execution_count": 226,
     "metadata": {},
     "output_type": "execute_result"
    }
   ],
   "source": [
    "search_locn=driver.find_element_by_xpath('/html/body/div/div/div[1]/div[1]/div[2]/div[2]/form/ul')\n",
    "search_locn"
   ]
  },
  {
   "cell_type": "code",
   "execution_count": 227,
   "id": "c7db9bcb",
   "metadata": {},
   "outputs": [],
   "source": [
    "product_tag=driver.find_elements_by_xpath('//div[@class=\"_2WkVRV\"]')"
   ]
  },
  {
   "cell_type": "code",
   "execution_count": 228,
   "id": "5cc594a7",
   "metadata": {},
   "outputs": [
    {
     "data": {
      "text/plain": [
       "['SRPM',\n",
       " 'kingsunglasses',\n",
       " 'Elligator',\n",
       " 'VINCENT CHASE',\n",
       " 'Fastrack',\n",
       " 'SHAAH COLLECTIONS',\n",
       " 'PIRASO',\n",
       " 'ROZZETTA CRAFT',\n",
       " 'New Specs',\n",
       " 'ROZZETTA CRAFT',\n",
       " 'PIRASO',\n",
       " 'RYLEN',\n",
       " 'ROZZETTA CRAFT',\n",
       " 'SUNBEE',\n",
       " 'New Specs',\n",
       " 'VINCENT CHASE',\n",
       " 'kingsunglasses',\n",
       " 'PHENOMENAL',\n",
       " 'Fastrack',\n",
       " 'ROZZETTA CRAFT',\n",
       " 'PIRASO',\n",
       " 'SHAAH COLLECTIONS',\n",
       " 'ROYAL SON',\n",
       " 'VINCENT CHASE',\n",
       " 'ROZZETTA CRAFT',\n",
       " 'Elligator',\n",
       " 'SUNBEE',\n",
       " 'ROZZETTA CRAFT',\n",
       " 'kingsunglasses',\n",
       " 'Rich Club',\n",
       " 'Johaena',\n",
       " 'ROZZETTA CRAFT',\n",
       " 'PHENOMENAL',\n",
       " 'PHENOMENAL',\n",
       " 'ROYAL SON',\n",
       " 'ROYAL SON',\n",
       " 'PIRASO',\n",
       " 'Lee Topper',\n",
       " 'kingsunglasses',\n",
       " 'Anemone']"
      ]
     },
     "execution_count": 228,
     "metadata": {},
     "output_type": "execute_result"
    }
   ],
   "source": [
    "title_name=[]\n",
    "for i in product_tag:\n",
    "    title_name.append(i.text)\n",
    "title_name\n"
   ]
  },
  {
   "cell_type": "code",
   "execution_count": 229,
   "id": "9f15569a",
   "metadata": {},
   "outputs": [],
   "source": [
    "price_tags=driver.find_elements_by_xpath('//div[@class=\"_30jeq3\"]')"
   ]
  },
  {
   "cell_type": "code",
   "execution_count": 230,
   "id": "0f110b67",
   "metadata": {},
   "outputs": [],
   "source": [
    "des_tag=driver.find_elements_by_xpath('//a[@class=\"IRpwTa\"]')"
   ]
  },
  {
   "cell_type": "code",
   "execution_count": 231,
   "id": "ac955572",
   "metadata": {},
   "outputs": [
    {
     "data": {
      "text/plain": [
       "['₹188',\n",
       " '₹188',\n",
       " '₹248',\n",
       " '₹999',\n",
       " '₹759',\n",
       " '₹165',\n",
       " '₹200',\n",
       " '₹449',\n",
       " '₹259',\n",
       " '₹474',\n",
       " '₹200',\n",
       " '₹182',\n",
       " '₹383',\n",
       " '₹271',\n",
       " '₹262',\n",
       " '₹999',\n",
       " '₹274',\n",
       " '₹309',\n",
       " '₹499',\n",
       " '₹426',\n",
       " '₹190',\n",
       " '₹181',\n",
       " '₹359',\n",
       " '₹999',\n",
       " '₹348',\n",
       " '₹179',\n",
       " '₹243',\n",
       " '₹426',\n",
       " '₹187',\n",
       " '₹165',\n",
       " '₹156',\n",
       " '₹426',\n",
       " '₹299',\n",
       " '₹299',\n",
       " '₹449',\n",
       " '₹569',\n",
       " '₹299',\n",
       " '₹276',\n",
       " '₹273',\n",
       " '₹499']"
      ]
     },
     "execution_count": 231,
     "metadata": {},
     "output_type": "execute_result"
    }
   ],
   "source": [
    "prices=[]\n",
    "for i in price_tags:\n",
    "    prices.append(i.text)\n",
    "prices"
   ]
  },
  {
   "cell_type": "code",
   "execution_count": 232,
   "id": "e9030e84",
   "metadata": {},
   "outputs": [
    {
     "data": {
      "text/plain": [
       "['UV Protection Wayfarer Sunglasses (56)',\n",
       " 'UV Protection Round Sunglasses (54)',\n",
       " 'UV Protection Round Sunglasses (54)',\n",
       " 'by Lenskart UV Protection Aviator Sunglasses (53)',\n",
       " 'UV Protection Wayfarer Sunglasses (Free Size)',\n",
       " 'UV Protection, Polarized, Mirrored Rectangular Sunglass...',\n",
       " 'UV Protection Aviator Sunglasses (54)',\n",
       " 'UV Protection Spectacle Sunglasses (Free Size)',\n",
       " 'UV Protection Rectangular Sunglasses (Free Size)',\n",
       " 'UV Protection Retro Square Sunglasses (Free Size)',\n",
       " 'UV Protection Aviator Sunglasses (54)',\n",
       " 'UV Protection Retro Square Sunglasses (Free Size)',\n",
       " 'UV Protection, Gradient Rectangular Sunglasses (Free Si...',\n",
       " 'UV Protection, Polarized, Mirrored Round Sunglasses (Fr...',\n",
       " 'Mirrored, UV Protection, Riding Glasses, Others Round S...',\n",
       " 'by Lenskart UV Protection Aviator Sunglasses (Free Size...',\n",
       " 'Mirrored, UV Protection Wayfarer Sunglasses (53)',\n",
       " 'UV Protection Retro Square Sunglasses (Free Size)',\n",
       " 'Gradient, UV Protection Wayfarer Sunglasses (Free Size)',\n",
       " 'UV Protection, Gradient Retro Square Sunglasses (Free S...',\n",
       " 'UV Protection Wayfarer Sunglasses (32)',\n",
       " 'UV Protection, Polarized, Mirrored Rectangular Sunglass...',\n",
       " 'Mirrored Aviator Sunglasses (55)',\n",
       " 'by Lenskart Polarized, UV Protection Aviator Sunglasses...',\n",
       " 'UV Protection, Gradient Rectangular Sunglasses (Free Si...',\n",
       " 'UV Protection Round Sunglasses (53)',\n",
       " 'UV Protection, Polarized Wayfarer Sunglasses (Free Size...',\n",
       " 'UV Protection, Gradient Round Sunglasses (Free Size)',\n",
       " 'UV Protection, Riding Glasses, Mirrored Wayfarer Sungla...',\n",
       " 'Polarized Round Sunglasses (48)',\n",
       " 'Riding Glasses, UV Protection Oval Sunglasses (48)',\n",
       " 'Gradient Round Sunglasses (Free Size)',\n",
       " 'UV Protection, Mirrored Retro Square Sunglasses (53)',\n",
       " 'UV Protection, Mirrored Retro Square Sunglasses (53)',\n",
       " 'UV Protection Rectangular Sunglasses (58)',\n",
       " 'UV Protection Retro Square Sunglasses (88)',\n",
       " 'UV Protection Aviator Sunglasses (58)',\n",
       " 'Riding Glasses, Night Vision Wrap-around Sunglasses (Fr...',\n",
       " 'UV Protection, Night Vision Wayfarer Sunglasses (Free S...',\n",
       " 'UV Protection, Others Rectangular Sunglasses (50)']"
      ]
     },
     "execution_count": 232,
     "metadata": {},
     "output_type": "execute_result"
    }
   ],
   "source": [
    "des=[]\n",
    "for i in des_tag:\n",
    "    des.append(i.text)\n",
    "des"
   ]
  },
  {
   "cell_type": "code",
   "execution_count": 233,
   "id": "f6b3b96d",
   "metadata": {},
   "outputs": [
    {
     "data": {
      "text/html": [
       "<div>\n",
       "<style scoped>\n",
       "    .dataframe tbody tr th:only-of-type {\n",
       "        vertical-align: middle;\n",
       "    }\n",
       "\n",
       "    .dataframe tbody tr th {\n",
       "        vertical-align: top;\n",
       "    }\n",
       "\n",
       "    .dataframe thead th {\n",
       "        text-align: right;\n",
       "    }\n",
       "</style>\n",
       "<table border=\"1\" class=\"dataframe\">\n",
       "  <thead>\n",
       "    <tr style=\"text-align: right;\">\n",
       "      <th></th>\n",
       "      <th>Product Name</th>\n",
       "      <th>Description</th>\n",
       "      <th>Price</th>\n",
       "    </tr>\n",
       "  </thead>\n",
       "  <tbody>\n",
       "    <tr>\n",
       "      <th>0</th>\n",
       "      <td>SRPM</td>\n",
       "      <td>UV Protection Wayfarer Sunglasses (56)</td>\n",
       "      <td>₹188</td>\n",
       "    </tr>\n",
       "    <tr>\n",
       "      <th>1</th>\n",
       "      <td>kingsunglasses</td>\n",
       "      <td>UV Protection Round Sunglasses (54)</td>\n",
       "      <td>₹188</td>\n",
       "    </tr>\n",
       "    <tr>\n",
       "      <th>2</th>\n",
       "      <td>Elligator</td>\n",
       "      <td>UV Protection Round Sunglasses (54)</td>\n",
       "      <td>₹248</td>\n",
       "    </tr>\n",
       "    <tr>\n",
       "      <th>3</th>\n",
       "      <td>VINCENT CHASE</td>\n",
       "      <td>by Lenskart UV Protection Aviator Sunglasses (53)</td>\n",
       "      <td>₹999</td>\n",
       "    </tr>\n",
       "    <tr>\n",
       "      <th>4</th>\n",
       "      <td>Fastrack</td>\n",
       "      <td>UV Protection Wayfarer Sunglasses (Free Size)</td>\n",
       "      <td>₹759</td>\n",
       "    </tr>\n",
       "    <tr>\n",
       "      <th>5</th>\n",
       "      <td>SHAAH COLLECTIONS</td>\n",
       "      <td>UV Protection, Polarized, Mirrored Rectangular...</td>\n",
       "      <td>₹165</td>\n",
       "    </tr>\n",
       "    <tr>\n",
       "      <th>6</th>\n",
       "      <td>PIRASO</td>\n",
       "      <td>UV Protection Aviator Sunglasses (54)</td>\n",
       "      <td>₹200</td>\n",
       "    </tr>\n",
       "    <tr>\n",
       "      <th>7</th>\n",
       "      <td>ROZZETTA CRAFT</td>\n",
       "      <td>UV Protection Spectacle Sunglasses (Free Size)</td>\n",
       "      <td>₹449</td>\n",
       "    </tr>\n",
       "    <tr>\n",
       "      <th>8</th>\n",
       "      <td>New Specs</td>\n",
       "      <td>UV Protection Rectangular Sunglasses (Free Size)</td>\n",
       "      <td>₹259</td>\n",
       "    </tr>\n",
       "    <tr>\n",
       "      <th>9</th>\n",
       "      <td>ROZZETTA CRAFT</td>\n",
       "      <td>UV Protection Retro Square Sunglasses (Free Size)</td>\n",
       "      <td>₹474</td>\n",
       "    </tr>\n",
       "    <tr>\n",
       "      <th>10</th>\n",
       "      <td>PIRASO</td>\n",
       "      <td>UV Protection Aviator Sunglasses (54)</td>\n",
       "      <td>₹200</td>\n",
       "    </tr>\n",
       "    <tr>\n",
       "      <th>11</th>\n",
       "      <td>RYLEN</td>\n",
       "      <td>UV Protection Retro Square Sunglasses (Free Size)</td>\n",
       "      <td>₹182</td>\n",
       "    </tr>\n",
       "    <tr>\n",
       "      <th>12</th>\n",
       "      <td>ROZZETTA CRAFT</td>\n",
       "      <td>UV Protection, Gradient Rectangular Sunglasses...</td>\n",
       "      <td>₹383</td>\n",
       "    </tr>\n",
       "    <tr>\n",
       "      <th>13</th>\n",
       "      <td>SUNBEE</td>\n",
       "      <td>UV Protection, Polarized, Mirrored Round Sungl...</td>\n",
       "      <td>₹271</td>\n",
       "    </tr>\n",
       "    <tr>\n",
       "      <th>14</th>\n",
       "      <td>New Specs</td>\n",
       "      <td>Mirrored, UV Protection, Riding Glasses, Other...</td>\n",
       "      <td>₹262</td>\n",
       "    </tr>\n",
       "    <tr>\n",
       "      <th>15</th>\n",
       "      <td>VINCENT CHASE</td>\n",
       "      <td>by Lenskart UV Protection Aviator Sunglasses (...</td>\n",
       "      <td>₹999</td>\n",
       "    </tr>\n",
       "    <tr>\n",
       "      <th>16</th>\n",
       "      <td>kingsunglasses</td>\n",
       "      <td>Mirrored, UV Protection Wayfarer Sunglasses (53)</td>\n",
       "      <td>₹274</td>\n",
       "    </tr>\n",
       "    <tr>\n",
       "      <th>17</th>\n",
       "      <td>PHENOMENAL</td>\n",
       "      <td>UV Protection Retro Square Sunglasses (Free Size)</td>\n",
       "      <td>₹309</td>\n",
       "    </tr>\n",
       "    <tr>\n",
       "      <th>18</th>\n",
       "      <td>Fastrack</td>\n",
       "      <td>Gradient, UV Protection Wayfarer Sunglasses (F...</td>\n",
       "      <td>₹499</td>\n",
       "    </tr>\n",
       "    <tr>\n",
       "      <th>19</th>\n",
       "      <td>ROZZETTA CRAFT</td>\n",
       "      <td>UV Protection, Gradient Retro Square Sunglasse...</td>\n",
       "      <td>₹426</td>\n",
       "    </tr>\n",
       "    <tr>\n",
       "      <th>20</th>\n",
       "      <td>PIRASO</td>\n",
       "      <td>UV Protection Wayfarer Sunglasses (32)</td>\n",
       "      <td>₹190</td>\n",
       "    </tr>\n",
       "    <tr>\n",
       "      <th>21</th>\n",
       "      <td>SHAAH COLLECTIONS</td>\n",
       "      <td>UV Protection, Polarized, Mirrored Rectangular...</td>\n",
       "      <td>₹181</td>\n",
       "    </tr>\n",
       "    <tr>\n",
       "      <th>22</th>\n",
       "      <td>ROYAL SON</td>\n",
       "      <td>Mirrored Aviator Sunglasses (55)</td>\n",
       "      <td>₹359</td>\n",
       "    </tr>\n",
       "    <tr>\n",
       "      <th>23</th>\n",
       "      <td>VINCENT CHASE</td>\n",
       "      <td>by Lenskart Polarized, UV Protection Aviator S...</td>\n",
       "      <td>₹999</td>\n",
       "    </tr>\n",
       "    <tr>\n",
       "      <th>24</th>\n",
       "      <td>ROZZETTA CRAFT</td>\n",
       "      <td>UV Protection, Gradient Rectangular Sunglasses...</td>\n",
       "      <td>₹348</td>\n",
       "    </tr>\n",
       "    <tr>\n",
       "      <th>25</th>\n",
       "      <td>Elligator</td>\n",
       "      <td>UV Protection Round Sunglasses (53)</td>\n",
       "      <td>₹179</td>\n",
       "    </tr>\n",
       "    <tr>\n",
       "      <th>26</th>\n",
       "      <td>SUNBEE</td>\n",
       "      <td>UV Protection, Polarized Wayfarer Sunglasses (...</td>\n",
       "      <td>₹243</td>\n",
       "    </tr>\n",
       "    <tr>\n",
       "      <th>27</th>\n",
       "      <td>ROZZETTA CRAFT</td>\n",
       "      <td>UV Protection, Gradient Round Sunglasses (Free...</td>\n",
       "      <td>₹426</td>\n",
       "    </tr>\n",
       "    <tr>\n",
       "      <th>28</th>\n",
       "      <td>kingsunglasses</td>\n",
       "      <td>UV Protection, Riding Glasses, Mirrored Wayfar...</td>\n",
       "      <td>₹187</td>\n",
       "    </tr>\n",
       "    <tr>\n",
       "      <th>29</th>\n",
       "      <td>Rich Club</td>\n",
       "      <td>Polarized Round Sunglasses (48)</td>\n",
       "      <td>₹165</td>\n",
       "    </tr>\n",
       "  </tbody>\n",
       "</table>\n",
       "</div>"
      ],
      "text/plain": [
       "         Product Name                                        Description Price\n",
       "0                SRPM             UV Protection Wayfarer Sunglasses (56)  ₹188\n",
       "1      kingsunglasses                UV Protection Round Sunglasses (54)  ₹188\n",
       "2           Elligator                UV Protection Round Sunglasses (54)  ₹248\n",
       "3       VINCENT CHASE  by Lenskart UV Protection Aviator Sunglasses (53)  ₹999\n",
       "4            Fastrack      UV Protection Wayfarer Sunglasses (Free Size)  ₹759\n",
       "5   SHAAH COLLECTIONS  UV Protection, Polarized, Mirrored Rectangular...  ₹165\n",
       "6              PIRASO              UV Protection Aviator Sunglasses (54)  ₹200\n",
       "7      ROZZETTA CRAFT     UV Protection Spectacle Sunglasses (Free Size)  ₹449\n",
       "8           New Specs   UV Protection Rectangular Sunglasses (Free Size)  ₹259\n",
       "9      ROZZETTA CRAFT  UV Protection Retro Square Sunglasses (Free Size)  ₹474\n",
       "10             PIRASO              UV Protection Aviator Sunglasses (54)  ₹200\n",
       "11              RYLEN  UV Protection Retro Square Sunglasses (Free Size)  ₹182\n",
       "12     ROZZETTA CRAFT  UV Protection, Gradient Rectangular Sunglasses...  ₹383\n",
       "13             SUNBEE  UV Protection, Polarized, Mirrored Round Sungl...  ₹271\n",
       "14          New Specs  Mirrored, UV Protection, Riding Glasses, Other...  ₹262\n",
       "15      VINCENT CHASE  by Lenskart UV Protection Aviator Sunglasses (...  ₹999\n",
       "16     kingsunglasses   Mirrored, UV Protection Wayfarer Sunglasses (53)  ₹274\n",
       "17         PHENOMENAL  UV Protection Retro Square Sunglasses (Free Size)  ₹309\n",
       "18           Fastrack  Gradient, UV Protection Wayfarer Sunglasses (F...  ₹499\n",
       "19     ROZZETTA CRAFT  UV Protection, Gradient Retro Square Sunglasse...  ₹426\n",
       "20             PIRASO             UV Protection Wayfarer Sunglasses (32)  ₹190\n",
       "21  SHAAH COLLECTIONS  UV Protection, Polarized, Mirrored Rectangular...  ₹181\n",
       "22          ROYAL SON                   Mirrored Aviator Sunglasses (55)  ₹359\n",
       "23      VINCENT CHASE  by Lenskart Polarized, UV Protection Aviator S...  ₹999\n",
       "24     ROZZETTA CRAFT  UV Protection, Gradient Rectangular Sunglasses...  ₹348\n",
       "25          Elligator                UV Protection Round Sunglasses (53)  ₹179\n",
       "26             SUNBEE  UV Protection, Polarized Wayfarer Sunglasses (...  ₹243\n",
       "27     ROZZETTA CRAFT  UV Protection, Gradient Round Sunglasses (Free...  ₹426\n",
       "28     kingsunglasses  UV Protection, Riding Glasses, Mirrored Wayfar...  ₹187\n",
       "29          Rich Club                    Polarized Round Sunglasses (48)  ₹165"
      ]
     },
     "execution_count": 233,
     "metadata": {},
     "output_type": "execute_result"
    }
   ],
   "source": [
    "df=pd.DataFrame({'Product Name':title_name[0:30] , 'Description' :des[0:30], 'Price' :prices[0:30]})\n",
    "df"
   ]
  },
  {
   "cell_type": "code",
   "execution_count": 234,
   "id": "f140b195",
   "metadata": {},
   "outputs": [],
   "source": [
    "driver.find_element_by_xpath('/html/body/div/div/div[3]/div[1]/div[2]/div[12]/div/div/nav/a[11]/span').click()"
   ]
  },
  {
   "cell_type": "code",
   "execution_count": 235,
   "id": "746bf103",
   "metadata": {},
   "outputs": [
    {
     "data": {
      "text/plain": [
       "['UV Protection Wayfarer Sunglasses (56)',\n",
       " 'UV Protection Round Sunglasses (54)',\n",
       " 'UV Protection Round Sunglasses (54)',\n",
       " 'by Lenskart UV Protection Aviator Sunglasses (53)',\n",
       " 'UV Protection Wayfarer Sunglasses (Free Size)',\n",
       " 'UV Protection, Polarized, Mirrored Rectangular Sunglass...',\n",
       " 'UV Protection Aviator Sunglasses (54)',\n",
       " 'UV Protection Spectacle Sunglasses (Free Size)',\n",
       " 'UV Protection Rectangular Sunglasses (Free Size)',\n",
       " 'UV Protection Retro Square Sunglasses (Free Size)',\n",
       " 'UV Protection Aviator Sunglasses (54)',\n",
       " 'UV Protection Retro Square Sunglasses (Free Size)',\n",
       " 'UV Protection, Gradient Rectangular Sunglasses (Free Si...',\n",
       " 'UV Protection, Polarized, Mirrored Round Sunglasses (Fr...',\n",
       " 'Mirrored, UV Protection, Riding Glasses, Others Round S...',\n",
       " 'by Lenskart UV Protection Aviator Sunglasses (Free Size...',\n",
       " 'Mirrored, UV Protection Wayfarer Sunglasses (53)',\n",
       " 'UV Protection Retro Square Sunglasses (Free Size)',\n",
       " 'Gradient, UV Protection Wayfarer Sunglasses (Free Size)',\n",
       " 'UV Protection, Gradient Retro Square Sunglasses (Free S...',\n",
       " 'UV Protection Wayfarer Sunglasses (32)',\n",
       " 'UV Protection, Polarized, Mirrored Rectangular Sunglass...',\n",
       " 'Mirrored Aviator Sunglasses (55)',\n",
       " 'by Lenskart Polarized, UV Protection Aviator Sunglasses...',\n",
       " 'UV Protection, Gradient Rectangular Sunglasses (Free Si...',\n",
       " 'UV Protection Round Sunglasses (53)',\n",
       " 'UV Protection, Polarized Wayfarer Sunglasses (Free Size...',\n",
       " 'UV Protection, Gradient Round Sunglasses (Free Size)',\n",
       " 'UV Protection, Riding Glasses, Mirrored Wayfarer Sungla...',\n",
       " 'Polarized Round Sunglasses (48)',\n",
       " 'Riding Glasses, UV Protection Oval Sunglasses (48)',\n",
       " 'Gradient Round Sunglasses (Free Size)',\n",
       " 'UV Protection, Mirrored Retro Square Sunglasses (53)',\n",
       " 'UV Protection, Mirrored Retro Square Sunglasses (53)',\n",
       " 'UV Protection Rectangular Sunglasses (58)',\n",
       " 'UV Protection Retro Square Sunglasses (88)',\n",
       " 'UV Protection Aviator Sunglasses (58)',\n",
       " 'Riding Glasses, Night Vision Wrap-around Sunglasses (Fr...',\n",
       " 'UV Protection, Night Vision Wayfarer Sunglasses (Free S...',\n",
       " 'UV Protection, Others Rectangular Sunglasses (50)']"
      ]
     },
     "execution_count": 235,
     "metadata": {},
     "output_type": "execute_result"
    }
   ],
   "source": [
    "product_tag=driver.find_elements_by_xpath('//div[@class=\"_2WkVRV\"]')\n",
    "title_name1=[]\n",
    "for i in product_tag:\n",
    "    title_name1.append(i.text)\n",
    "title_name\n",
    "price_tags=driver.find_elements_by_xpath('//div[@class=\"_30jeq3\"]')\n",
    "prices1=[]\n",
    "for i in price_tags:\n",
    "    prices1.append(i.text)\n",
    "prices\n",
    "\n",
    "des_tag=driver.find_elements_by_xpath('//a[@class=\"IRpwTa\"]')\n",
    "des1=[]\n",
    "for i in des_tag:\n",
    "    des1.append(i.text)\n",
    "des\n"
   ]
  },
  {
   "cell_type": "code",
   "execution_count": 236,
   "id": "aeb8469c",
   "metadata": {},
   "outputs": [
    {
     "data": {
      "text/html": [
       "<div>\n",
       "<style scoped>\n",
       "    .dataframe tbody tr th:only-of-type {\n",
       "        vertical-align: middle;\n",
       "    }\n",
       "\n",
       "    .dataframe tbody tr th {\n",
       "        vertical-align: top;\n",
       "    }\n",
       "\n",
       "    .dataframe thead th {\n",
       "        text-align: right;\n",
       "    }\n",
       "</style>\n",
       "<table border=\"1\" class=\"dataframe\">\n",
       "  <thead>\n",
       "    <tr style=\"text-align: right;\">\n",
       "      <th></th>\n",
       "      <th>Product Name</th>\n",
       "      <th>Description</th>\n",
       "      <th>Price</th>\n",
       "    </tr>\n",
       "  </thead>\n",
       "  <tbody>\n",
       "    <tr>\n",
       "      <th>0</th>\n",
       "      <td>SRPM</td>\n",
       "      <td>UV Protection Wayfarer Sunglasses (56)</td>\n",
       "      <td>₹188</td>\n",
       "    </tr>\n",
       "    <tr>\n",
       "      <th>1</th>\n",
       "      <td>kingsunglasses</td>\n",
       "      <td>UV Protection Round Sunglasses (54)</td>\n",
       "      <td>₹188</td>\n",
       "    </tr>\n",
       "    <tr>\n",
       "      <th>2</th>\n",
       "      <td>Elligator</td>\n",
       "      <td>UV Protection Round Sunglasses (54)</td>\n",
       "      <td>₹248</td>\n",
       "    </tr>\n",
       "    <tr>\n",
       "      <th>3</th>\n",
       "      <td>VINCENT CHASE</td>\n",
       "      <td>by Lenskart UV Protection Aviator Sunglasses (53)</td>\n",
       "      <td>₹999</td>\n",
       "    </tr>\n",
       "    <tr>\n",
       "      <th>4</th>\n",
       "      <td>Fastrack</td>\n",
       "      <td>UV Protection Wayfarer Sunglasses (Free Size)</td>\n",
       "      <td>₹759</td>\n",
       "    </tr>\n",
       "    <tr>\n",
       "      <th>5</th>\n",
       "      <td>SHAAH COLLECTIONS</td>\n",
       "      <td>UV Protection, Polarized, Mirrored Rectangular...</td>\n",
       "      <td>₹165</td>\n",
       "    </tr>\n",
       "    <tr>\n",
       "      <th>6</th>\n",
       "      <td>PIRASO</td>\n",
       "      <td>UV Protection Aviator Sunglasses (54)</td>\n",
       "      <td>₹200</td>\n",
       "    </tr>\n",
       "    <tr>\n",
       "      <th>7</th>\n",
       "      <td>ROZZETTA CRAFT</td>\n",
       "      <td>UV Protection Spectacle Sunglasses (Free Size)</td>\n",
       "      <td>₹449</td>\n",
       "    </tr>\n",
       "    <tr>\n",
       "      <th>8</th>\n",
       "      <td>New Specs</td>\n",
       "      <td>UV Protection Rectangular Sunglasses (Free Size)</td>\n",
       "      <td>₹259</td>\n",
       "    </tr>\n",
       "    <tr>\n",
       "      <th>9</th>\n",
       "      <td>ROZZETTA CRAFT</td>\n",
       "      <td>UV Protection Retro Square Sunglasses (Free Size)</td>\n",
       "      <td>₹474</td>\n",
       "    </tr>\n",
       "    <tr>\n",
       "      <th>10</th>\n",
       "      <td>PIRASO</td>\n",
       "      <td>UV Protection Aviator Sunglasses (54)</td>\n",
       "      <td>₹200</td>\n",
       "    </tr>\n",
       "    <tr>\n",
       "      <th>11</th>\n",
       "      <td>RYLEN</td>\n",
       "      <td>UV Protection Retro Square Sunglasses (Free Size)</td>\n",
       "      <td>₹182</td>\n",
       "    </tr>\n",
       "    <tr>\n",
       "      <th>12</th>\n",
       "      <td>ROZZETTA CRAFT</td>\n",
       "      <td>UV Protection, Gradient Rectangular Sunglasses...</td>\n",
       "      <td>₹383</td>\n",
       "    </tr>\n",
       "    <tr>\n",
       "      <th>13</th>\n",
       "      <td>SUNBEE</td>\n",
       "      <td>UV Protection, Polarized, Mirrored Round Sungl...</td>\n",
       "      <td>₹271</td>\n",
       "    </tr>\n",
       "    <tr>\n",
       "      <th>14</th>\n",
       "      <td>New Specs</td>\n",
       "      <td>Mirrored, UV Protection, Riding Glasses, Other...</td>\n",
       "      <td>₹262</td>\n",
       "    </tr>\n",
       "    <tr>\n",
       "      <th>15</th>\n",
       "      <td>VINCENT CHASE</td>\n",
       "      <td>by Lenskart UV Protection Aviator Sunglasses (...</td>\n",
       "      <td>₹999</td>\n",
       "    </tr>\n",
       "    <tr>\n",
       "      <th>16</th>\n",
       "      <td>kingsunglasses</td>\n",
       "      <td>Mirrored, UV Protection Wayfarer Sunglasses (53)</td>\n",
       "      <td>₹274</td>\n",
       "    </tr>\n",
       "    <tr>\n",
       "      <th>17</th>\n",
       "      <td>PHENOMENAL</td>\n",
       "      <td>UV Protection Retro Square Sunglasses (Free Size)</td>\n",
       "      <td>₹309</td>\n",
       "    </tr>\n",
       "    <tr>\n",
       "      <th>18</th>\n",
       "      <td>Fastrack</td>\n",
       "      <td>Gradient, UV Protection Wayfarer Sunglasses (F...</td>\n",
       "      <td>₹499</td>\n",
       "    </tr>\n",
       "    <tr>\n",
       "      <th>19</th>\n",
       "      <td>ROZZETTA CRAFT</td>\n",
       "      <td>UV Protection, Gradient Retro Square Sunglasse...</td>\n",
       "      <td>₹426</td>\n",
       "    </tr>\n",
       "    <tr>\n",
       "      <th>20</th>\n",
       "      <td>PIRASO</td>\n",
       "      <td>UV Protection Wayfarer Sunglasses (32)</td>\n",
       "      <td>₹190</td>\n",
       "    </tr>\n",
       "    <tr>\n",
       "      <th>21</th>\n",
       "      <td>SHAAH COLLECTIONS</td>\n",
       "      <td>UV Protection, Polarized, Mirrored Rectangular...</td>\n",
       "      <td>₹181</td>\n",
       "    </tr>\n",
       "    <tr>\n",
       "      <th>22</th>\n",
       "      <td>ROYAL SON</td>\n",
       "      <td>Mirrored Aviator Sunglasses (55)</td>\n",
       "      <td>₹359</td>\n",
       "    </tr>\n",
       "    <tr>\n",
       "      <th>23</th>\n",
       "      <td>VINCENT CHASE</td>\n",
       "      <td>by Lenskart Polarized, UV Protection Aviator S...</td>\n",
       "      <td>₹999</td>\n",
       "    </tr>\n",
       "    <tr>\n",
       "      <th>24</th>\n",
       "      <td>ROZZETTA CRAFT</td>\n",
       "      <td>UV Protection, Gradient Rectangular Sunglasses...</td>\n",
       "      <td>₹348</td>\n",
       "    </tr>\n",
       "    <tr>\n",
       "      <th>25</th>\n",
       "      <td>Elligator</td>\n",
       "      <td>UV Protection Round Sunglasses (53)</td>\n",
       "      <td>₹179</td>\n",
       "    </tr>\n",
       "    <tr>\n",
       "      <th>26</th>\n",
       "      <td>SUNBEE</td>\n",
       "      <td>UV Protection, Polarized Wayfarer Sunglasses (...</td>\n",
       "      <td>₹243</td>\n",
       "    </tr>\n",
       "    <tr>\n",
       "      <th>27</th>\n",
       "      <td>ROZZETTA CRAFT</td>\n",
       "      <td>UV Protection, Gradient Round Sunglasses (Free...</td>\n",
       "      <td>₹426</td>\n",
       "    </tr>\n",
       "    <tr>\n",
       "      <th>28</th>\n",
       "      <td>kingsunglasses</td>\n",
       "      <td>UV Protection, Riding Glasses, Mirrored Wayfar...</td>\n",
       "      <td>₹187</td>\n",
       "    </tr>\n",
       "    <tr>\n",
       "      <th>29</th>\n",
       "      <td>Rich Club</td>\n",
       "      <td>Polarized Round Sunglasses (48)</td>\n",
       "      <td>₹165</td>\n",
       "    </tr>\n",
       "    <tr>\n",
       "      <th>30</th>\n",
       "      <td>Johaena</td>\n",
       "      <td>Riding Glasses, UV Protection Oval Sunglasses ...</td>\n",
       "      <td>₹156</td>\n",
       "    </tr>\n",
       "    <tr>\n",
       "      <th>31</th>\n",
       "      <td>ROZZETTA CRAFT</td>\n",
       "      <td>Gradient Round Sunglasses (Free Size)</td>\n",
       "      <td>₹426</td>\n",
       "    </tr>\n",
       "    <tr>\n",
       "      <th>32</th>\n",
       "      <td>PHENOMENAL</td>\n",
       "      <td>UV Protection, Mirrored Retro Square Sunglasse...</td>\n",
       "      <td>₹299</td>\n",
       "    </tr>\n",
       "    <tr>\n",
       "      <th>33</th>\n",
       "      <td>PHENOMENAL</td>\n",
       "      <td>UV Protection, Mirrored Retro Square Sunglasse...</td>\n",
       "      <td>₹299</td>\n",
       "    </tr>\n",
       "    <tr>\n",
       "      <th>34</th>\n",
       "      <td>ROYAL SON</td>\n",
       "      <td>UV Protection Rectangular Sunglasses (58)</td>\n",
       "      <td>₹449</td>\n",
       "    </tr>\n",
       "  </tbody>\n",
       "</table>\n",
       "</div>"
      ],
      "text/plain": [
       "         Product Name                                        Description Price\n",
       "0                SRPM             UV Protection Wayfarer Sunglasses (56)  ₹188\n",
       "1      kingsunglasses                UV Protection Round Sunglasses (54)  ₹188\n",
       "2           Elligator                UV Protection Round Sunglasses (54)  ₹248\n",
       "3       VINCENT CHASE  by Lenskart UV Protection Aviator Sunglasses (53)  ₹999\n",
       "4            Fastrack      UV Protection Wayfarer Sunglasses (Free Size)  ₹759\n",
       "5   SHAAH COLLECTIONS  UV Protection, Polarized, Mirrored Rectangular...  ₹165\n",
       "6              PIRASO              UV Protection Aviator Sunglasses (54)  ₹200\n",
       "7      ROZZETTA CRAFT     UV Protection Spectacle Sunglasses (Free Size)  ₹449\n",
       "8           New Specs   UV Protection Rectangular Sunglasses (Free Size)  ₹259\n",
       "9      ROZZETTA CRAFT  UV Protection Retro Square Sunglasses (Free Size)  ₹474\n",
       "10             PIRASO              UV Protection Aviator Sunglasses (54)  ₹200\n",
       "11              RYLEN  UV Protection Retro Square Sunglasses (Free Size)  ₹182\n",
       "12     ROZZETTA CRAFT  UV Protection, Gradient Rectangular Sunglasses...  ₹383\n",
       "13             SUNBEE  UV Protection, Polarized, Mirrored Round Sungl...  ₹271\n",
       "14          New Specs  Mirrored, UV Protection, Riding Glasses, Other...  ₹262\n",
       "15      VINCENT CHASE  by Lenskart UV Protection Aviator Sunglasses (...  ₹999\n",
       "16     kingsunglasses   Mirrored, UV Protection Wayfarer Sunglasses (53)  ₹274\n",
       "17         PHENOMENAL  UV Protection Retro Square Sunglasses (Free Size)  ₹309\n",
       "18           Fastrack  Gradient, UV Protection Wayfarer Sunglasses (F...  ₹499\n",
       "19     ROZZETTA CRAFT  UV Protection, Gradient Retro Square Sunglasse...  ₹426\n",
       "20             PIRASO             UV Protection Wayfarer Sunglasses (32)  ₹190\n",
       "21  SHAAH COLLECTIONS  UV Protection, Polarized, Mirrored Rectangular...  ₹181\n",
       "22          ROYAL SON                   Mirrored Aviator Sunglasses (55)  ₹359\n",
       "23      VINCENT CHASE  by Lenskart Polarized, UV Protection Aviator S...  ₹999\n",
       "24     ROZZETTA CRAFT  UV Protection, Gradient Rectangular Sunglasses...  ₹348\n",
       "25          Elligator                UV Protection Round Sunglasses (53)  ₹179\n",
       "26             SUNBEE  UV Protection, Polarized Wayfarer Sunglasses (...  ₹243\n",
       "27     ROZZETTA CRAFT  UV Protection, Gradient Round Sunglasses (Free...  ₹426\n",
       "28     kingsunglasses  UV Protection, Riding Glasses, Mirrored Wayfar...  ₹187\n",
       "29          Rich Club                    Polarized Round Sunglasses (48)  ₹165\n",
       "30            Johaena  Riding Glasses, UV Protection Oval Sunglasses ...  ₹156\n",
       "31     ROZZETTA CRAFT              Gradient Round Sunglasses (Free Size)  ₹426\n",
       "32         PHENOMENAL  UV Protection, Mirrored Retro Square Sunglasse...  ₹299\n",
       "33         PHENOMENAL  UV Protection, Mirrored Retro Square Sunglasse...  ₹299\n",
       "34          ROYAL SON          UV Protection Rectangular Sunglasses (58)  ₹449"
      ]
     },
     "execution_count": 236,
     "metadata": {},
     "output_type": "execute_result"
    }
   ],
   "source": [
    "df1=pd.DataFrame({'Product Name':title_name1[0:35] , 'Description' :des1[0:35], 'Price' :prices1[0:35]})\n",
    "df1"
   ]
  },
  {
   "cell_type": "code",
   "execution_count": 237,
   "id": "8615518f",
   "metadata": {},
   "outputs": [
    {
     "data": {
      "text/html": [
       "<div>\n",
       "<style scoped>\n",
       "    .dataframe tbody tr th:only-of-type {\n",
       "        vertical-align: middle;\n",
       "    }\n",
       "\n",
       "    .dataframe tbody tr th {\n",
       "        vertical-align: top;\n",
       "    }\n",
       "\n",
       "    .dataframe thead th {\n",
       "        text-align: right;\n",
       "    }\n",
       "</style>\n",
       "<table border=\"1\" class=\"dataframe\">\n",
       "  <thead>\n",
       "    <tr style=\"text-align: right;\">\n",
       "      <th></th>\n",
       "      <th>Product Name</th>\n",
       "      <th>Description</th>\n",
       "      <th>Price</th>\n",
       "    </tr>\n",
       "  </thead>\n",
       "  <tbody>\n",
       "    <tr>\n",
       "      <th>0</th>\n",
       "      <td>SRPM</td>\n",
       "      <td>UV Protection Wayfarer Sunglasses (56)</td>\n",
       "      <td>₹188</td>\n",
       "    </tr>\n",
       "    <tr>\n",
       "      <th>1</th>\n",
       "      <td>kingsunglasses</td>\n",
       "      <td>UV Protection Round Sunglasses (54)</td>\n",
       "      <td>₹188</td>\n",
       "    </tr>\n",
       "    <tr>\n",
       "      <th>2</th>\n",
       "      <td>Elligator</td>\n",
       "      <td>UV Protection Round Sunglasses (54)</td>\n",
       "      <td>₹248</td>\n",
       "    </tr>\n",
       "    <tr>\n",
       "      <th>3</th>\n",
       "      <td>VINCENT CHASE</td>\n",
       "      <td>by Lenskart UV Protection Aviator Sunglasses (53)</td>\n",
       "      <td>₹999</td>\n",
       "    </tr>\n",
       "    <tr>\n",
       "      <th>4</th>\n",
       "      <td>Fastrack</td>\n",
       "      <td>UV Protection Wayfarer Sunglasses (Free Size)</td>\n",
       "      <td>₹759</td>\n",
       "    </tr>\n",
       "    <tr>\n",
       "      <th>...</th>\n",
       "      <td>...</td>\n",
       "      <td>...</td>\n",
       "      <td>...</td>\n",
       "    </tr>\n",
       "    <tr>\n",
       "      <th>60</th>\n",
       "      <td>Johaena</td>\n",
       "      <td>Riding Glasses, UV Protection Oval Sunglasses ...</td>\n",
       "      <td>₹156</td>\n",
       "    </tr>\n",
       "    <tr>\n",
       "      <th>61</th>\n",
       "      <td>ROZZETTA CRAFT</td>\n",
       "      <td>Gradient Round Sunglasses (Free Size)</td>\n",
       "      <td>₹426</td>\n",
       "    </tr>\n",
       "    <tr>\n",
       "      <th>62</th>\n",
       "      <td>PHENOMENAL</td>\n",
       "      <td>UV Protection, Mirrored Retro Square Sunglasse...</td>\n",
       "      <td>₹299</td>\n",
       "    </tr>\n",
       "    <tr>\n",
       "      <th>63</th>\n",
       "      <td>PHENOMENAL</td>\n",
       "      <td>UV Protection, Mirrored Retro Square Sunglasse...</td>\n",
       "      <td>₹299</td>\n",
       "    </tr>\n",
       "    <tr>\n",
       "      <th>64</th>\n",
       "      <td>ROYAL SON</td>\n",
       "      <td>UV Protection Rectangular Sunglasses (58)</td>\n",
       "      <td>₹449</td>\n",
       "    </tr>\n",
       "  </tbody>\n",
       "</table>\n",
       "<p>65 rows × 3 columns</p>\n",
       "</div>"
      ],
      "text/plain": [
       "      Product Name                                        Description Price\n",
       "0             SRPM             UV Protection Wayfarer Sunglasses (56)  ₹188\n",
       "1   kingsunglasses                UV Protection Round Sunglasses (54)  ₹188\n",
       "2        Elligator                UV Protection Round Sunglasses (54)  ₹248\n",
       "3    VINCENT CHASE  by Lenskart UV Protection Aviator Sunglasses (53)  ₹999\n",
       "4         Fastrack      UV Protection Wayfarer Sunglasses (Free Size)  ₹759\n",
       "..             ...                                                ...   ...\n",
       "60         Johaena  Riding Glasses, UV Protection Oval Sunglasses ...  ₹156\n",
       "61  ROZZETTA CRAFT              Gradient Round Sunglasses (Free Size)  ₹426\n",
       "62      PHENOMENAL  UV Protection, Mirrored Retro Square Sunglasse...  ₹299\n",
       "63      PHENOMENAL  UV Protection, Mirrored Retro Square Sunglasse...  ₹299\n",
       "64       ROYAL SON          UV Protection Rectangular Sunglasses (58)  ₹449\n",
       "\n",
       "[65 rows x 3 columns]"
      ]
     },
     "execution_count": 237,
     "metadata": {},
     "output_type": "execute_result"
    }
   ],
   "source": [
    "df2=df.append(df1, ignore_index = True)\n",
    "df2"
   ]
  },
  {
   "cell_type": "code",
   "execution_count": 242,
   "id": "b2e08ea2",
   "metadata": {},
   "outputs": [],
   "source": [
    "driver.find_element_by_xpath('/html/body/div[1]/div/div[3]/div[1]/div[2]/div[12]/div/div/nav/a[12]/span').click()"
   ]
  },
  {
   "cell_type": "code",
   "execution_count": 243,
   "id": "717ca2e3",
   "metadata": {},
   "outputs": [
    {
     "data": {
      "text/plain": [
       "['UV Protection, Gradient Retro Square Sunglasses (Free S...',\n",
       " 'Mirrored Aviator Sunglasses (55)',\n",
       " 'UV Protection, Mirrored Clubmaster Sunglasses (Free Siz...',\n",
       " 'Gradient, UV Protection Round Sunglasses (Free Size)',\n",
       " 'UV Protection Round Sunglasses (Free Size)',\n",
       " 'UV Protection Retro Square Sunglasses (58)',\n",
       " 'UV Protection, Others Round Sunglasses (48)',\n",
       " 'Others Wayfarer Sunglasses (Free Size)',\n",
       " 'UV Protection Round Sunglasses (55)',\n",
       " 'Gradient, UV Protection Wayfarer Sunglasses (Free Size)',\n",
       " 'UV Protection Wayfarer Sunglasses (Free Size)',\n",
       " 'Polarized, UV Protection Cat-eye Sunglasses (55)',\n",
       " 'UV Protection Round Sunglasses (48)',\n",
       " 'Polarized Round Sunglasses (48)',\n",
       " 'Gradient, Toughened Glass Lens, UV Protection Retro Squ...',\n",
       " 'UV Protection Wayfarer Sunglasses (55)',\n",
       " 'UV Protection, Gradient Round Sunglasses (Free Size)',\n",
       " 'UV Protection Round, Oval Sunglasses (54)',\n",
       " 'UV Protection Aviator Sunglasses (Free Size)',\n",
       " 'UV Protection Aviator Sunglasses (Free Size)',\n",
       " 'UV Protection Round Sunglasses (Free Size)',\n",
       " 'UV Protection Oval Sunglasses (56)',\n",
       " 'Mirrored, UV Protection Aviator Sunglasses (56)',\n",
       " 'Polarized, UV Protection Rectangular Sunglasses (64)',\n",
       " 'UV Protection, Riding Glasses Rectangular Sunglasses (F...',\n",
       " 'UV Protection Round Sunglasses (Free Size)',\n",
       " 'UV Protection Round Sunglasses (Free Size)',\n",
       " 'UV Protection Shield, Wayfarer Sunglasses (61)',\n",
       " 'UV Protection, Mirrored Aviator Sunglasses (Free Size)',\n",
       " 'Mirrored Aviator Sunglasses (58)',\n",
       " 'Mirrored, UV Protection Round Sunglasses (Free Size)',\n",
       " 'Polarized, UV Protection Retro Square Sunglasses (55)',\n",
       " 'Polarized Retro Square Sunglasses (Free Size)',\n",
       " 'UV Protection, Gradient, Night Vision Retro Square Sung...',\n",
       " 'UV Protection Wayfarer Sunglasses (Free Size)',\n",
       " 'UV Protection Wayfarer Sunglasses (58)',\n",
       " 'UV Protection Wayfarer Sunglasses (53)',\n",
       " 'UV Protection, Gradient Butterfly, Retro Square Sunglas...',\n",
       " 'UV Protection, Mirrored Round Sunglasses (54)',\n",
       " 'UV Protection, Gradient Retro Square Sunglasses (Free S...']"
      ]
     },
     "execution_count": 243,
     "metadata": {},
     "output_type": "execute_result"
    }
   ],
   "source": [
    "product_tag=driver.find_elements_by_xpath('//div[@class=\"_2WkVRV\"]')\n",
    "title_name2=[]\n",
    "for i in product_tag:\n",
    "    title_name2.append(i.text)\n",
    "title_name\n",
    "price_tags=driver.find_elements_by_xpath('//div[@class=\"_30jeq3\"]')\n",
    "prices2=[]\n",
    "for i in price_tags:\n",
    "    prices2.append(i.text)\n",
    "prices\n",
    "\n",
    "des_tag=driver.find_elements_by_xpath('//a[@class=\"IRpwTa\"]')\n",
    "des2=[]\n",
    "for i in des_tag:\n",
    "    des2.append(i.text)\n",
    "des2"
   ]
  },
  {
   "cell_type": "code",
   "execution_count": 244,
   "id": "f8a1dd84",
   "metadata": {},
   "outputs": [
    {
     "data": {
      "text/html": [
       "<div>\n",
       "<style scoped>\n",
       "    .dataframe tbody tr th:only-of-type {\n",
       "        vertical-align: middle;\n",
       "    }\n",
       "\n",
       "    .dataframe tbody tr th {\n",
       "        vertical-align: top;\n",
       "    }\n",
       "\n",
       "    .dataframe thead th {\n",
       "        text-align: right;\n",
       "    }\n",
       "</style>\n",
       "<table border=\"1\" class=\"dataframe\">\n",
       "  <thead>\n",
       "    <tr style=\"text-align: right;\">\n",
       "      <th></th>\n",
       "      <th>Product Name</th>\n",
       "      <th>Description</th>\n",
       "      <th>Price</th>\n",
       "    </tr>\n",
       "  </thead>\n",
       "  <tbody>\n",
       "    <tr>\n",
       "      <th>0</th>\n",
       "      <td>ROZZETTA CRAFT</td>\n",
       "      <td>UV Protection, Gradient Retro Square Sunglasse...</td>\n",
       "      <td>₹349</td>\n",
       "    </tr>\n",
       "    <tr>\n",
       "      <th>1</th>\n",
       "      <td>ROYAL SON</td>\n",
       "      <td>Mirrored Aviator Sunglasses (55)</td>\n",
       "      <td>₹359</td>\n",
       "    </tr>\n",
       "    <tr>\n",
       "      <th>2</th>\n",
       "      <td>PHENOMENAL</td>\n",
       "      <td>UV Protection, Mirrored Clubmaster Sunglasses ...</td>\n",
       "      <td>₹287</td>\n",
       "    </tr>\n",
       "    <tr>\n",
       "      <th>3</th>\n",
       "      <td>ROZZETTA CRAFT</td>\n",
       "      <td>Gradient, UV Protection Round Sunglasses (Free...</td>\n",
       "      <td>₹426</td>\n",
       "    </tr>\n",
       "    <tr>\n",
       "      <th>4</th>\n",
       "      <td>ROZZETTA CRAFT</td>\n",
       "      <td>UV Protection Round Sunglasses (Free Size)</td>\n",
       "      <td>₹426</td>\n",
       "    </tr>\n",
       "    <tr>\n",
       "      <th>5</th>\n",
       "      <td>ROYAL SON</td>\n",
       "      <td>UV Protection Retro Square Sunglasses (58)</td>\n",
       "      <td>₹449</td>\n",
       "    </tr>\n",
       "    <tr>\n",
       "      <th>6</th>\n",
       "      <td>Rich Club</td>\n",
       "      <td>UV Protection, Others Round Sunglasses (48)</td>\n",
       "      <td>₹232</td>\n",
       "    </tr>\n",
       "    <tr>\n",
       "      <th>7</th>\n",
       "      <td>VILLAIN</td>\n",
       "      <td>Others Wayfarer Sunglasses (Free Size)</td>\n",
       "      <td>₹522</td>\n",
       "    </tr>\n",
       "    <tr>\n",
       "      <th>8</th>\n",
       "      <td>Fastrack</td>\n",
       "      <td>UV Protection Round Sunglasses (55)</td>\n",
       "      <td>₹899</td>\n",
       "    </tr>\n",
       "    <tr>\n",
       "      <th>9</th>\n",
       "      <td>Fastrack</td>\n",
       "      <td>Gradient, UV Protection Wayfarer Sunglasses (F...</td>\n",
       "      <td>₹659</td>\n",
       "    </tr>\n",
       "    <tr>\n",
       "      <th>10</th>\n",
       "      <td>Fastrack</td>\n",
       "      <td>UV Protection Wayfarer Sunglasses (Free Size)</td>\n",
       "      <td>₹759</td>\n",
       "    </tr>\n",
       "    <tr>\n",
       "      <th>11</th>\n",
       "      <td>ROYAL SON</td>\n",
       "      <td>Polarized, UV Protection Cat-eye Sunglasses (55)</td>\n",
       "      <td>₹649</td>\n",
       "    </tr>\n",
       "    <tr>\n",
       "      <th>12</th>\n",
       "      <td>Rich Club</td>\n",
       "      <td>UV Protection Round Sunglasses (48)</td>\n",
       "      <td>₹250</td>\n",
       "    </tr>\n",
       "    <tr>\n",
       "      <th>13</th>\n",
       "      <td>Rich Club</td>\n",
       "      <td>Polarized Round Sunglasses (48)</td>\n",
       "      <td>₹163</td>\n",
       "    </tr>\n",
       "    <tr>\n",
       "      <th>14</th>\n",
       "      <td>Singco India</td>\n",
       "      <td>Gradient, Toughened Glass Lens, UV Protection ...</td>\n",
       "      <td>₹599</td>\n",
       "    </tr>\n",
       "    <tr>\n",
       "      <th>15</th>\n",
       "      <td>ROYAL SON</td>\n",
       "      <td>UV Protection Wayfarer Sunglasses (55)</td>\n",
       "      <td>₹251</td>\n",
       "    </tr>\n",
       "    <tr>\n",
       "      <th>16</th>\n",
       "      <td>ROZZETTA CRAFT</td>\n",
       "      <td>UV Protection, Gradient Round Sunglasses (Free...</td>\n",
       "      <td>₹426</td>\n",
       "    </tr>\n",
       "    <tr>\n",
       "      <th>17</th>\n",
       "      <td>Elligator</td>\n",
       "      <td>UV Protection Round, Oval Sunglasses (54)</td>\n",
       "      <td>₹266</td>\n",
       "    </tr>\n",
       "    <tr>\n",
       "      <th>18</th>\n",
       "      <td>PIRASO</td>\n",
       "      <td>UV Protection Aviator Sunglasses (Free Size)</td>\n",
       "      <td>₹261</td>\n",
       "    </tr>\n",
       "    <tr>\n",
       "      <th>19</th>\n",
       "      <td>Sewell</td>\n",
       "      <td>UV Protection Aviator Sunglasses (Free Size)</td>\n",
       "      <td>₹320</td>\n",
       "    </tr>\n",
       "    <tr>\n",
       "      <th>20</th>\n",
       "      <td>New Specs</td>\n",
       "      <td>UV Protection Round Sunglasses (Free Size)</td>\n",
       "      <td>₹233</td>\n",
       "    </tr>\n",
       "    <tr>\n",
       "      <th>21</th>\n",
       "      <td>Silver Kartz</td>\n",
       "      <td>UV Protection Oval Sunglasses (56)</td>\n",
       "      <td>₹284</td>\n",
       "    </tr>\n",
       "    <tr>\n",
       "      <th>22</th>\n",
       "      <td>kingsunglasses</td>\n",
       "      <td>Mirrored, UV Protection Aviator Sunglasses (56)</td>\n",
       "      <td>₹211</td>\n",
       "    </tr>\n",
       "    <tr>\n",
       "      <th>23</th>\n",
       "      <td>ROYAL SON</td>\n",
       "      <td>Polarized, UV Protection Rectangular Sunglasse...</td>\n",
       "      <td>₹699</td>\n",
       "    </tr>\n",
       "    <tr>\n",
       "      <th>24</th>\n",
       "      <td>ROZZETTA CRAFT</td>\n",
       "      <td>UV Protection, Riding Glasses Rectangular Sung...</td>\n",
       "      <td>₹426</td>\n",
       "    </tr>\n",
       "    <tr>\n",
       "      <th>25</th>\n",
       "      <td>Lee Topper</td>\n",
       "      <td>UV Protection Round Sunglasses (Free Size)</td>\n",
       "      <td>₹244</td>\n",
       "    </tr>\n",
       "    <tr>\n",
       "      <th>26</th>\n",
       "      <td>SHAAH COLLECTIONS</td>\n",
       "      <td>UV Protection Round Sunglasses (Free Size)</td>\n",
       "      <td>₹270</td>\n",
       "    </tr>\n",
       "    <tr>\n",
       "      <th>27</th>\n",
       "      <td>AISLIN</td>\n",
       "      <td>UV Protection Shield, Wayfarer Sunglasses (61)</td>\n",
       "      <td>₹356</td>\n",
       "    </tr>\n",
       "    <tr>\n",
       "      <th>28</th>\n",
       "      <td>kingsunglasses</td>\n",
       "      <td>UV Protection, Mirrored Aviator Sunglasses (Fr...</td>\n",
       "      <td>₹235</td>\n",
       "    </tr>\n",
       "    <tr>\n",
       "      <th>29</th>\n",
       "      <td>ROYAL SON</td>\n",
       "      <td>Mirrored Aviator Sunglasses (58)</td>\n",
       "      <td>₹359</td>\n",
       "    </tr>\n",
       "    <tr>\n",
       "      <th>30</th>\n",
       "      <td>ROZZETTA CRAFT</td>\n",
       "      <td>Mirrored, UV Protection Round Sunglasses (Free...</td>\n",
       "      <td>₹360</td>\n",
       "    </tr>\n",
       "    <tr>\n",
       "      <th>31</th>\n",
       "      <td>ROYAL SON</td>\n",
       "      <td>Polarized, UV Protection Retro Square Sunglass...</td>\n",
       "      <td>₹649</td>\n",
       "    </tr>\n",
       "    <tr>\n",
       "      <th>32</th>\n",
       "      <td>Fastrack</td>\n",
       "      <td>Polarized Retro Square Sunglasses (Free Size)</td>\n",
       "      <td>₹639</td>\n",
       "    </tr>\n",
       "    <tr>\n",
       "      <th>33</th>\n",
       "      <td>Fravy</td>\n",
       "      <td>UV Protection, Gradient, Night Vision Retro Sq...</td>\n",
       "      <td>₹245</td>\n",
       "    </tr>\n",
       "    <tr>\n",
       "      <th>34</th>\n",
       "      <td>Poloport</td>\n",
       "      <td>UV Protection Wayfarer Sunglasses (Free Size)</td>\n",
       "      <td>₹236</td>\n",
       "    </tr>\n",
       "  </tbody>\n",
       "</table>\n",
       "</div>"
      ],
      "text/plain": [
       "         Product Name                                        Description Price\n",
       "0      ROZZETTA CRAFT  UV Protection, Gradient Retro Square Sunglasse...  ₹349\n",
       "1           ROYAL SON                   Mirrored Aviator Sunglasses (55)  ₹359\n",
       "2          PHENOMENAL  UV Protection, Mirrored Clubmaster Sunglasses ...  ₹287\n",
       "3      ROZZETTA CRAFT  Gradient, UV Protection Round Sunglasses (Free...  ₹426\n",
       "4      ROZZETTA CRAFT         UV Protection Round Sunglasses (Free Size)  ₹426\n",
       "5           ROYAL SON         UV Protection Retro Square Sunglasses (58)  ₹449\n",
       "6           Rich Club        UV Protection, Others Round Sunglasses (48)  ₹232\n",
       "7             VILLAIN             Others Wayfarer Sunglasses (Free Size)  ₹522\n",
       "8            Fastrack                UV Protection Round Sunglasses (55)  ₹899\n",
       "9            Fastrack  Gradient, UV Protection Wayfarer Sunglasses (F...  ₹659\n",
       "10           Fastrack      UV Protection Wayfarer Sunglasses (Free Size)  ₹759\n",
       "11          ROYAL SON   Polarized, UV Protection Cat-eye Sunglasses (55)  ₹649\n",
       "12          Rich Club                UV Protection Round Sunglasses (48)  ₹250\n",
       "13          Rich Club                    Polarized Round Sunglasses (48)  ₹163\n",
       "14       Singco India  Gradient, Toughened Glass Lens, UV Protection ...  ₹599\n",
       "15          ROYAL SON             UV Protection Wayfarer Sunglasses (55)  ₹251\n",
       "16     ROZZETTA CRAFT  UV Protection, Gradient Round Sunglasses (Free...  ₹426\n",
       "17          Elligator          UV Protection Round, Oval Sunglasses (54)  ₹266\n",
       "18             PIRASO       UV Protection Aviator Sunglasses (Free Size)  ₹261\n",
       "19             Sewell       UV Protection Aviator Sunglasses (Free Size)  ₹320\n",
       "20          New Specs         UV Protection Round Sunglasses (Free Size)  ₹233\n",
       "21       Silver Kartz                 UV Protection Oval Sunglasses (56)  ₹284\n",
       "22     kingsunglasses    Mirrored, UV Protection Aviator Sunglasses (56)  ₹211\n",
       "23          ROYAL SON  Polarized, UV Protection Rectangular Sunglasse...  ₹699\n",
       "24     ROZZETTA CRAFT  UV Protection, Riding Glasses Rectangular Sung...  ₹426\n",
       "25         Lee Topper         UV Protection Round Sunglasses (Free Size)  ₹244\n",
       "26  SHAAH COLLECTIONS         UV Protection Round Sunglasses (Free Size)  ₹270\n",
       "27             AISLIN     UV Protection Shield, Wayfarer Sunglasses (61)  ₹356\n",
       "28     kingsunglasses  UV Protection, Mirrored Aviator Sunglasses (Fr...  ₹235\n",
       "29          ROYAL SON                   Mirrored Aviator Sunglasses (58)  ₹359\n",
       "30     ROZZETTA CRAFT  Mirrored, UV Protection Round Sunglasses (Free...  ₹360\n",
       "31          ROYAL SON  Polarized, UV Protection Retro Square Sunglass...  ₹649\n",
       "32           Fastrack      Polarized Retro Square Sunglasses (Free Size)  ₹639\n",
       "33              Fravy  UV Protection, Gradient, Night Vision Retro Sq...  ₹245\n",
       "34           Poloport      UV Protection Wayfarer Sunglasses (Free Size)  ₹236"
      ]
     },
     "execution_count": 244,
     "metadata": {},
     "output_type": "execute_result"
    }
   ],
   "source": [
    "df3=pd.DataFrame({'Product Name':title_name2[0:35] , 'Description' :des2[0:35], 'Price' :prices2[0:35]})\n",
    "df3"
   ]
  },
  {
   "cell_type": "code",
   "execution_count": 245,
   "id": "719ade61",
   "metadata": {},
   "outputs": [
    {
     "data": {
      "text/html": [
       "<div>\n",
       "<style scoped>\n",
       "    .dataframe tbody tr th:only-of-type {\n",
       "        vertical-align: middle;\n",
       "    }\n",
       "\n",
       "    .dataframe tbody tr th {\n",
       "        vertical-align: top;\n",
       "    }\n",
       "\n",
       "    .dataframe thead th {\n",
       "        text-align: right;\n",
       "    }\n",
       "</style>\n",
       "<table border=\"1\" class=\"dataframe\">\n",
       "  <thead>\n",
       "    <tr style=\"text-align: right;\">\n",
       "      <th></th>\n",
       "      <th>Product Name</th>\n",
       "      <th>Description</th>\n",
       "      <th>Price</th>\n",
       "    </tr>\n",
       "  </thead>\n",
       "  <tbody>\n",
       "    <tr>\n",
       "      <th>0</th>\n",
       "      <td>ROZZETTA CRAFT</td>\n",
       "      <td>UV Protection, Gradient Retro Square Sunglasse...</td>\n",
       "      <td>₹349</td>\n",
       "    </tr>\n",
       "    <tr>\n",
       "      <th>1</th>\n",
       "      <td>ROYAL SON</td>\n",
       "      <td>Mirrored Aviator Sunglasses (55)</td>\n",
       "      <td>₹359</td>\n",
       "    </tr>\n",
       "    <tr>\n",
       "      <th>2</th>\n",
       "      <td>PHENOMENAL</td>\n",
       "      <td>UV Protection, Mirrored Clubmaster Sunglasses ...</td>\n",
       "      <td>₹287</td>\n",
       "    </tr>\n",
       "    <tr>\n",
       "      <th>3</th>\n",
       "      <td>ROZZETTA CRAFT</td>\n",
       "      <td>Gradient, UV Protection Round Sunglasses (Free...</td>\n",
       "      <td>₹426</td>\n",
       "    </tr>\n",
       "    <tr>\n",
       "      <th>4</th>\n",
       "      <td>ROZZETTA CRAFT</td>\n",
       "      <td>UV Protection Round Sunglasses (Free Size)</td>\n",
       "      <td>₹426</td>\n",
       "    </tr>\n",
       "    <tr>\n",
       "      <th>...</th>\n",
       "      <td>...</td>\n",
       "      <td>...</td>\n",
       "      <td>...</td>\n",
       "    </tr>\n",
       "    <tr>\n",
       "      <th>95</th>\n",
       "      <td>Johaena</td>\n",
       "      <td>Riding Glasses, UV Protection Oval Sunglasses ...</td>\n",
       "      <td>₹156</td>\n",
       "    </tr>\n",
       "    <tr>\n",
       "      <th>96</th>\n",
       "      <td>ROZZETTA CRAFT</td>\n",
       "      <td>Gradient Round Sunglasses (Free Size)</td>\n",
       "      <td>₹426</td>\n",
       "    </tr>\n",
       "    <tr>\n",
       "      <th>97</th>\n",
       "      <td>PHENOMENAL</td>\n",
       "      <td>UV Protection, Mirrored Retro Square Sunglasse...</td>\n",
       "      <td>₹299</td>\n",
       "    </tr>\n",
       "    <tr>\n",
       "      <th>98</th>\n",
       "      <td>PHENOMENAL</td>\n",
       "      <td>UV Protection, Mirrored Retro Square Sunglasse...</td>\n",
       "      <td>₹299</td>\n",
       "    </tr>\n",
       "    <tr>\n",
       "      <th>99</th>\n",
       "      <td>ROYAL SON</td>\n",
       "      <td>UV Protection Rectangular Sunglasses (58)</td>\n",
       "      <td>₹449</td>\n",
       "    </tr>\n",
       "  </tbody>\n",
       "</table>\n",
       "<p>100 rows × 3 columns</p>\n",
       "</div>"
      ],
      "text/plain": [
       "      Product Name                                        Description Price\n",
       "0   ROZZETTA CRAFT  UV Protection, Gradient Retro Square Sunglasse...  ₹349\n",
       "1        ROYAL SON                   Mirrored Aviator Sunglasses (55)  ₹359\n",
       "2       PHENOMENAL  UV Protection, Mirrored Clubmaster Sunglasses ...  ₹287\n",
       "3   ROZZETTA CRAFT  Gradient, UV Protection Round Sunglasses (Free...  ₹426\n",
       "4   ROZZETTA CRAFT         UV Protection Round Sunglasses (Free Size)  ₹426\n",
       "..             ...                                                ...   ...\n",
       "95         Johaena  Riding Glasses, UV Protection Oval Sunglasses ...  ₹156\n",
       "96  ROZZETTA CRAFT              Gradient Round Sunglasses (Free Size)  ₹426\n",
       "97      PHENOMENAL  UV Protection, Mirrored Retro Square Sunglasse...  ₹299\n",
       "98      PHENOMENAL  UV Protection, Mirrored Retro Square Sunglasse...  ₹299\n",
       "99       ROYAL SON          UV Protection Rectangular Sunglasses (58)  ₹449\n",
       "\n",
       "[100 rows x 3 columns]"
      ]
     },
     "execution_count": 245,
     "metadata": {},
     "output_type": "execute_result"
    }
   ],
   "source": [
    "df3.append(df2, ignore_index = True)"
   ]
  },
  {
   "cell_type": "markdown",
   "id": "1c79c921",
   "metadata": {},
   "source": [
    "## 5. Scrape 100 reviews data from flipkart.com for iphone11 phone. You have to go to the link\n",
    "1. Rating\n",
    "2. Review Summary\n",
    "3. Full Summary\n",
    "4. Scrape this data for first 100 reviews"
   ]
  },
  {
   "cell_type": "code",
   "execution_count": 246,
   "id": "482ea372",
   "metadata": {},
   "outputs": [],
   "source": [
    "import selenium\n",
    "from selenium import webdriver\n",
    "import pandas as pd\n",
    "import warnings\n",
    "warnings.filterwarnings(\"ignore\")\n",
    "import time"
   ]
  },
  {
   "cell_type": "code",
   "execution_count": 446,
   "id": "3abb03a3",
   "metadata": {},
   "outputs": [],
   "source": [
    "driver = webdriver.Chrome(r'C:\\Users\\Ashish Jain\\Downloads\\chromedriver_win32\\chromedriver.exe')"
   ]
  },
  {
   "cell_type": "code",
   "execution_count": 477,
   "id": "a743d171",
   "metadata": {},
   "outputs": [],
   "source": [
    "url=\"https://www.flipkart.com/apple-iphone-11-black-128-gb/product-reviews/itm8244e8d955aba?pid=MOBFWQ6BKRYBP5X8&lid=LSTMOBFWQ6BKRYBP5X8HS0EXP&marketplace=FLIPKART\"\n",
    "driver.get(url)\n",
    "time.sleep(2)"
   ]
  },
  {
   "cell_type": "code",
   "execution_count": 478,
   "id": "55e48117",
   "metadata": {},
   "outputs": [],
   "source": [
    "rating=driver.find_elements_by_xpath('//div[@class=\"_3LWZlK _1BLPMq\"]')"
   ]
  },
  {
   "cell_type": "code",
   "execution_count": 479,
   "id": "ae5a6874",
   "metadata": {},
   "outputs": [],
   "source": [
    "ratings=[]\n",
    "for i in rating:\n",
    "    ratings.append(i.text)\n",
    "    \n",
    "review=driver.find_elements_by_xpath('//p[@class=\"_2-N8zT\"]')\n",
    "reviews=[]\n",
    "for i in review:\n",
    "    reviews.append(i.text)\n",
    "    \n",
    "summary=driver.find_elements_by_xpath('//div[@class=\"t-ZTKy\"]')\n",
    "summarys=[]\n",
    "for i in summary:\n",
    "    summarys.append(i.text)"
   ]
  },
  {
   "cell_type": "code",
   "execution_count": 480,
   "id": "fdb801d3",
   "metadata": {},
   "outputs": [
    {
     "data": {
      "text/html": [
       "<div>\n",
       "<style scoped>\n",
       "    .dataframe tbody tr th:only-of-type {\n",
       "        vertical-align: middle;\n",
       "    }\n",
       "\n",
       "    .dataframe tbody tr th {\n",
       "        vertical-align: top;\n",
       "    }\n",
       "\n",
       "    .dataframe thead th {\n",
       "        text-align: right;\n",
       "    }\n",
       "</style>\n",
       "<table border=\"1\" class=\"dataframe\">\n",
       "  <thead>\n",
       "    <tr style=\"text-align: right;\">\n",
       "      <th></th>\n",
       "      <th>Rating</th>\n",
       "      <th>Review_Summary</th>\n",
       "      <th>Full Review</th>\n",
       "    </tr>\n",
       "  </thead>\n",
       "  <tbody>\n",
       "    <tr>\n",
       "      <th>0</th>\n",
       "      <td>5</td>\n",
       "      <td>Brilliant</td>\n",
       "      <td>The Best Phone for the Money\\n\\nThe iPhone 11 ...</td>\n",
       "    </tr>\n",
       "    <tr>\n",
       "      <th>1</th>\n",
       "      <td>5</td>\n",
       "      <td>Simply awesome</td>\n",
       "      <td>Really satisfied with the Product I received.....</td>\n",
       "    </tr>\n",
       "    <tr>\n",
       "      <th>2</th>\n",
       "      <td>5</td>\n",
       "      <td>Perfect product!</td>\n",
       "      <td>Amazing phone with great cameras and better ba...</td>\n",
       "    </tr>\n",
       "    <tr>\n",
       "      <th>3</th>\n",
       "      <td>5</td>\n",
       "      <td>Best in the market!</td>\n",
       "      <td>Great iPhone very snappy experience as apple k...</td>\n",
       "    </tr>\n",
       "    <tr>\n",
       "      <th>4</th>\n",
       "      <td>5</td>\n",
       "      <td>Worth every penny</td>\n",
       "      <td>Previously I was using one plus 3t it was a gr...</td>\n",
       "    </tr>\n",
       "    <tr>\n",
       "      <th>5</th>\n",
       "      <td>5</td>\n",
       "      <td>Fabulous!</td>\n",
       "      <td>This is my first iOS phone. I am very happy wi...</td>\n",
       "    </tr>\n",
       "    <tr>\n",
       "      <th>6</th>\n",
       "      <td>5</td>\n",
       "      <td>Great product</td>\n",
       "      <td>Amazing Powerful and Durable Gadget.\\n\\nI’m am...</td>\n",
       "    </tr>\n",
       "    <tr>\n",
       "      <th>7</th>\n",
       "      <td>4</td>\n",
       "      <td>Good choice</td>\n",
       "      <td>So far it’s been an AMAZING experience coming ...</td>\n",
       "    </tr>\n",
       "    <tr>\n",
       "      <th>8</th>\n",
       "      <td>5</td>\n",
       "      <td>Worth every penny</td>\n",
       "      <td>i11 is worthy to buy, too much happy with the ...</td>\n",
       "    </tr>\n",
       "    <tr>\n",
       "      <th>9</th>\n",
       "      <td>5</td>\n",
       "      <td>Highly recommended</td>\n",
       "      <td>What a camera .....just awesome ..you can feel...</td>\n",
       "    </tr>\n",
       "  </tbody>\n",
       "</table>\n",
       "</div>"
      ],
      "text/plain": [
       "  Rating       Review_Summary  \\\n",
       "0      5            Brilliant   \n",
       "1      5       Simply awesome   \n",
       "2      5     Perfect product!   \n",
       "3      5  Best in the market!   \n",
       "4      5    Worth every penny   \n",
       "5      5            Fabulous!   \n",
       "6      5        Great product   \n",
       "7      4          Good choice   \n",
       "8      5    Worth every penny   \n",
       "9      5   Highly recommended   \n",
       "\n",
       "                                         Full Review  \n",
       "0  The Best Phone for the Money\\n\\nThe iPhone 11 ...  \n",
       "1  Really satisfied with the Product I received.....  \n",
       "2  Amazing phone with great cameras and better ba...  \n",
       "3  Great iPhone very snappy experience as apple k...  \n",
       "4  Previously I was using one plus 3t it was a gr...  \n",
       "5  This is my first iOS phone. I am very happy wi...  \n",
       "6  Amazing Powerful and Durable Gadget.\\n\\nI’m am...  \n",
       "7  So far it’s been an AMAZING experience coming ...  \n",
       "8  i11 is worthy to buy, too much happy with the ...  \n",
       "9  What a camera .....just awesome ..you can feel...  "
      ]
     },
     "execution_count": 480,
     "metadata": {},
     "output_type": "execute_result"
    }
   ],
   "source": [
    "df=pd.DataFrame({'Rating':ratings[0:20] , 'Review_Summary' :reviews[0:20], 'Full Review' :summarys[0:20]})\n",
    "df"
   ]
  },
  {
   "cell_type": "code",
   "execution_count": 481,
   "id": "646f6ed4",
   "metadata": {},
   "outputs": [],
   "source": [
    "driver.find_element_by_xpath('/html/body/div/div/div[3]/div/div/div[2]/div[3]/div/div/div/div[1]/div').click()"
   ]
  },
  {
   "cell_type": "code",
   "execution_count": 482,
   "id": "30948cab",
   "metadata": {},
   "outputs": [],
   "source": [
    "rating=driver.find_elements_by_xpath('//div[@class=\"_3LWZlK _1BLPMq\"]')\n",
    "ratings=[]\n",
    "for i in rating:\n",
    "    ratings.append(i.text)\n",
    "    \n",
    "review=driver.find_elements_by_xpath('//p[@class=\"_2-N8zT\"]')\n",
    "reviews=[]\n",
    "for i in review:\n",
    "    reviews.append(i.text)\n",
    "    \n",
    "summary=driver.find_elements_by_xpath('//div[@class=\"t-ZTKy\"]')\n",
    "summarys=[]\n",
    "for i in summary:\n",
    "    summarys.append(i.text)"
   ]
  },
  {
   "cell_type": "code",
   "execution_count": 483,
   "id": "1a272404",
   "metadata": {},
   "outputs": [
    {
     "data": {
      "text/html": [
       "<div>\n",
       "<style scoped>\n",
       "    .dataframe tbody tr th:only-of-type {\n",
       "        vertical-align: middle;\n",
       "    }\n",
       "\n",
       "    .dataframe tbody tr th {\n",
       "        vertical-align: top;\n",
       "    }\n",
       "\n",
       "    .dataframe thead th {\n",
       "        text-align: right;\n",
       "    }\n",
       "</style>\n",
       "<table border=\"1\" class=\"dataframe\">\n",
       "  <thead>\n",
       "    <tr style=\"text-align: right;\">\n",
       "      <th></th>\n",
       "      <th>Rating</th>\n",
       "      <th>Review_Summary</th>\n",
       "      <th>Full Review</th>\n",
       "    </tr>\n",
       "  </thead>\n",
       "  <tbody>\n",
       "    <tr>\n",
       "      <th>0</th>\n",
       "      <td>5</td>\n",
       "      <td>Brilliant</td>\n",
       "      <td>The Best Phone for the Money\\n\\nThe iPhone 11 ...</td>\n",
       "    </tr>\n",
       "    <tr>\n",
       "      <th>1</th>\n",
       "      <td>5</td>\n",
       "      <td>Simply awesome</td>\n",
       "      <td>Really satisfied with the Product I received.....</td>\n",
       "    </tr>\n",
       "    <tr>\n",
       "      <th>2</th>\n",
       "      <td>5</td>\n",
       "      <td>Perfect product!</td>\n",
       "      <td>Amazing phone with great cameras and better ba...</td>\n",
       "    </tr>\n",
       "    <tr>\n",
       "      <th>3</th>\n",
       "      <td>5</td>\n",
       "      <td>Best in the market!</td>\n",
       "      <td>Great iPhone very snappy experience as apple k...</td>\n",
       "    </tr>\n",
       "    <tr>\n",
       "      <th>4</th>\n",
       "      <td>5</td>\n",
       "      <td>Worth every penny</td>\n",
       "      <td>Previously I was using one plus 3t it was a gr...</td>\n",
       "    </tr>\n",
       "    <tr>\n",
       "      <th>5</th>\n",
       "      <td>5</td>\n",
       "      <td>Fabulous!</td>\n",
       "      <td>This is my first iOS phone. I am very happy wi...</td>\n",
       "    </tr>\n",
       "    <tr>\n",
       "      <th>6</th>\n",
       "      <td>5</td>\n",
       "      <td>Great product</td>\n",
       "      <td>Amazing Powerful and Durable Gadget.\\n\\nI’m am...</td>\n",
       "    </tr>\n",
       "    <tr>\n",
       "      <th>7</th>\n",
       "      <td>4</td>\n",
       "      <td>Good choice</td>\n",
       "      <td>So far it’s been an AMAZING experience coming ...</td>\n",
       "    </tr>\n",
       "    <tr>\n",
       "      <th>8</th>\n",
       "      <td>5</td>\n",
       "      <td>Worth every penny</td>\n",
       "      <td>i11 is worthy to buy, too much happy with the ...</td>\n",
       "    </tr>\n",
       "    <tr>\n",
       "      <th>9</th>\n",
       "      <td>5</td>\n",
       "      <td>Highly recommended</td>\n",
       "      <td>What a camera .....just awesome ..you can feel...</td>\n",
       "    </tr>\n",
       "  </tbody>\n",
       "</table>\n",
       "</div>"
      ],
      "text/plain": [
       "  Rating       Review_Summary  \\\n",
       "0      5            Brilliant   \n",
       "1      5       Simply awesome   \n",
       "2      5     Perfect product!   \n",
       "3      5  Best in the market!   \n",
       "4      5    Worth every penny   \n",
       "5      5            Fabulous!   \n",
       "6      5        Great product   \n",
       "7      4          Good choice   \n",
       "8      5    Worth every penny   \n",
       "9      5   Highly recommended   \n",
       "\n",
       "                                         Full Review  \n",
       "0  The Best Phone for the Money\\n\\nThe iPhone 11 ...  \n",
       "1  Really satisfied with the Product I received.....  \n",
       "2  Amazing phone with great cameras and better ba...  \n",
       "3  Great iPhone very snappy experience as apple k...  \n",
       "4  Previously I was using one plus 3t it was a gr...  \n",
       "5  This is my first iOS phone. I am very happy wi...  \n",
       "6  Amazing Powerful and Durable Gadget.\\n\\nI’m am...  \n",
       "7  So far it’s been an AMAZING experience coming ...  \n",
       "8  i11 is worthy to buy, too much happy with the ...  \n",
       "9  What a camera .....just awesome ..you can feel...  "
      ]
     },
     "execution_count": 483,
     "metadata": {},
     "output_type": "execute_result"
    }
   ],
   "source": [
    "df1=pd.DataFrame({'Rating':ratings[0:20] , 'Review_Summary' :reviews[0:20], 'Full Review' :summarys[0:20]})\n",
    "df1"
   ]
  },
  {
   "cell_type": "code",
   "execution_count": 484,
   "id": "3ddaaf82",
   "metadata": {},
   "outputs": [],
   "source": [
    "df2=df.append(df1, ignore_index = True)"
   ]
  },
  {
   "cell_type": "code",
   "execution_count": 485,
   "id": "8de35aeb",
   "metadata": {},
   "outputs": [],
   "source": [
    "driver.find_element_by_xpath('/html/body/div/div/div[3]/div/div/div[2]/div[13]/div/div/nav/a[4]').click()"
   ]
  },
  {
   "cell_type": "code",
   "execution_count": 486,
   "id": "7767a510",
   "metadata": {},
   "outputs": [],
   "source": [
    "rating=driver.find_elements_by_xpath('//div[@class=\"_3LWZlK _1BLPMq\"]')\n",
    "ratings=[]\n",
    "for i in rating:\n",
    "    ratings.append(i.text)\n",
    "    \n",
    "review=driver.find_elements_by_xpath('//p[@class=\"_2-N8zT\"]')\n",
    "reviews=[]\n",
    "for i in review:\n",
    "    reviews.append(i.text)\n",
    "    \n",
    "summary=driver.find_elements_by_xpath('//div[@class=\"t-ZTKy\"]')\n",
    "summarys=[]\n",
    "for i in summary:\n",
    "    summarys.append(i.text)"
   ]
  },
  {
   "cell_type": "code",
   "execution_count": 487,
   "id": "e591079b",
   "metadata": {},
   "outputs": [],
   "source": [
    "df3=pd.DataFrame({'Rating':ratings[0:20] , 'Review_Summary' :reviews[0:20], 'Full Review' :summarys[0:20]})"
   ]
  },
  {
   "cell_type": "code",
   "execution_count": 488,
   "id": "d34e2021",
   "metadata": {},
   "outputs": [],
   "source": [
    "df4=df3.append(df2, ignore_index = True)"
   ]
  },
  {
   "cell_type": "code",
   "execution_count": 489,
   "id": "93812d1a",
   "metadata": {},
   "outputs": [],
   "source": [
    "driver.find_element_by_xpath('/html/body/div/div/div[1]/div[1]/div[2]/div[2]/form/div/div/input').click()"
   ]
  },
  {
   "cell_type": "code",
   "execution_count": 490,
   "id": "b18e6b39",
   "metadata": {},
   "outputs": [],
   "source": [
    "rating=driver.find_elements_by_xpath('//div[@class=\"_3LWZlK _1BLPMq\"]')\n",
    "ratings=[]\n",
    "for i in rating:\n",
    "    ratings.append(i.text)\n",
    "    \n",
    "review=driver.find_elements_by_xpath('//p[@class=\"_2-N8zT\"]')\n",
    "reviews=[]\n",
    "for i in review:\n",
    "    reviews.append(i.text)\n",
    "    \n",
    "summary=driver.find_elements_by_xpath('//div[@class=\"t-ZTKy\"]')\n",
    "summarys=[]\n",
    "for i in summary:\n",
    "    summarys.append(i.text)"
   ]
  },
  {
   "cell_type": "code",
   "execution_count": 491,
   "id": "e8ae9580",
   "metadata": {},
   "outputs": [],
   "source": [
    "df5=pd.DataFrame({'Rating':ratings , 'Review_Summary' :reviews, 'Full Review' :summarys})"
   ]
  },
  {
   "cell_type": "code",
   "execution_count": 492,
   "id": "54dbb233",
   "metadata": {},
   "outputs": [],
   "source": [
    "df6=df4.append(df5, ignore_index = True)"
   ]
  },
  {
   "cell_type": "code",
   "execution_count": 493,
   "id": "5dc772aa",
   "metadata": {},
   "outputs": [],
   "source": [
    "driver.find_element_by_xpath('/html/body/div/div/div[1]/div[1]/div[2]/div[2]/form/div/div/input').click()"
   ]
  },
  {
   "cell_type": "code",
   "execution_count": 494,
   "id": "21136f92",
   "metadata": {},
   "outputs": [],
   "source": [
    "rating=driver.find_elements_by_xpath('//div[@class=\"_3LWZlK _1BLPMq\"]')\n",
    "ratings=[]\n",
    "for i in rating:\n",
    "    ratings.append(i.text)\n",
    "    \n",
    "review=driver.find_elements_by_xpath('//p[@class=\"_2-N8zT\"]')\n",
    "reviews=[]\n",
    "for i in review:\n",
    "    reviews.append(i.text)\n",
    "    \n",
    "summary=driver.find_elements_by_xpath('//div[@class=\"t-ZTKy\"]')\n",
    "summarys=[]\n",
    "for i in summary:\n",
    "    summarys.append(i.text)\n",
    "#summarys\n",
    "df7=pd.DataFrame({'Rating':ratings , 'Review_Summary' :reviews, 'Full Review' :summarys})"
   ]
  },
  {
   "cell_type": "code",
   "execution_count": 495,
   "id": "358e666d",
   "metadata": {},
   "outputs": [],
   "source": [
    "df8=df6.append(df7, ignore_index = True)"
   ]
  },
  {
   "cell_type": "code",
   "execution_count": 496,
   "id": "8b52b486",
   "metadata": {},
   "outputs": [],
   "source": [
    "driver.find_element_by_xpath('/html/body/div/div/div[1]/div[1]/div[2]/div[2]/form/div/div/input').click()"
   ]
  },
  {
   "cell_type": "code",
   "execution_count": 497,
   "id": "bcbb253a",
   "metadata": {},
   "outputs": [],
   "source": [
    "rating=driver.find_elements_by_xpath('//div[@class=\"_3LWZlK _1BLPMq\"]')\n",
    "ratings=[]\n",
    "for i in rating:\n",
    "    ratings.append(i.text)\n",
    "    \n",
    "review=driver.find_elements_by_xpath('//p[@class=\"_2-N8zT\"]')\n",
    "reviews=[]\n",
    "for i in review:\n",
    "    reviews.append(i.text)\n",
    "    \n",
    "summary=driver.find_elements_by_xpath('//div[@class=\"t-ZTKy\"]')\n",
    "summarys=[]\n",
    "for i in summary:\n",
    "    summarys.append(i.text)\n",
    "#summarys\n",
    "df9=pd.DataFrame({'Rating':ratings[0:9] , 'Review_Summary' :reviews[0:9], 'Full Review' :summarys[0:9]})\n"
   ]
  },
  {
   "cell_type": "code",
   "execution_count": 498,
   "id": "0cfcbef0",
   "metadata": {},
   "outputs": [],
   "source": [
    "df10=df8.append(df9, ignore_index = True)"
   ]
  },
  {
   "cell_type": "code",
   "execution_count": 499,
   "id": "d0fa1f4c",
   "metadata": {},
   "outputs": [],
   "source": [
    "driver.find_element_by_xpath('/html/body/div/div/div[1]/div[1]/div[2]/div[2]/form/div/div/input').click()"
   ]
  },
  {
   "cell_type": "code",
   "execution_count": 500,
   "id": "d1889822",
   "metadata": {},
   "outputs": [],
   "source": [
    "rating=driver.find_elements_by_xpath('//div[@class=\"_3LWZlK _1BLPMq\"]')\n",
    "ratings=[]\n",
    "for i in rating:\n",
    "    ratings.append(i.text)\n",
    "    \n",
    "review=driver.find_elements_by_xpath('//p[@class=\"_2-N8zT\"]')\n",
    "reviews=[]\n",
    "for i in review:\n",
    "    reviews.append(i.text)\n",
    "    \n",
    "summary=driver.find_elements_by_xpath('//div[@class=\"t-ZTKy\"]')\n",
    "summarys=[]\n",
    "for i in summary:\n",
    "    summarys.append(i.text)\n",
    "#summarys\n",
    "df11=pd.DataFrame({'Rating':ratings[0:9] , 'Review_Summary' :reviews[0:9], 'Full Review' :summarys[0:9]})\n"
   ]
  },
  {
   "cell_type": "code",
   "execution_count": 501,
   "id": "6ba910b2",
   "metadata": {},
   "outputs": [],
   "source": [
    "df12=df10.append(df11, ignore_index = True)"
   ]
  },
  {
   "cell_type": "code",
   "execution_count": 502,
   "id": "b6ef45c4",
   "metadata": {},
   "outputs": [],
   "source": [
    "driver.find_element_by_xpath('/html/body/div/div/div[1]/div[1]/div[2]/div[2]/form/div/div/input').click()"
   ]
  },
  {
   "cell_type": "code",
   "execution_count": 503,
   "id": "8d722364",
   "metadata": {},
   "outputs": [],
   "source": [
    "rating=driver.find_elements_by_xpath('//div[@class=\"_3LWZlK _1BLPMq\"]')\n",
    "ratings=[]\n",
    "for i in rating:\n",
    "    ratings.append(i.text)\n",
    "    \n",
    "review=driver.find_elements_by_xpath('//p[@class=\"_2-N8zT\"]')\n",
    "reviews=[]\n",
    "for i in review:\n",
    "    reviews.append(i.text)\n",
    "    \n",
    "summary=driver.find_elements_by_xpath('//div[@class=\"t-ZTKy\"]')\n",
    "summarys=[]\n",
    "for i in summary:\n",
    "    summarys.append(i.text)\n",
    "#summarys\n",
    "df13=pd.DataFrame({'Rating':ratings[0:9] , 'Review_Summary' :reviews[0:9], 'Full Review' :summarys[0:9]})\n"
   ]
  },
  {
   "cell_type": "code",
   "execution_count": 504,
   "id": "ab2bc808",
   "metadata": {},
   "outputs": [],
   "source": [
    "df14=df12.append(df13, ignore_index = True)"
   ]
  },
  {
   "cell_type": "code",
   "execution_count": 505,
   "id": "d0068f23",
   "metadata": {},
   "outputs": [],
   "source": [
    "driver.find_element_by_xpath('/html/body/div/div/div[1]/div[1]/div[2]/div[2]/form/div/div/input').click()"
   ]
  },
  {
   "cell_type": "code",
   "execution_count": 506,
   "id": "f3f8196b",
   "metadata": {},
   "outputs": [],
   "source": [
    "rating=driver.find_elements_by_xpath('//div[@class=\"_3LWZlK _1BLPMq\"]')\n",
    "ratings=[]\n",
    "for i in rating:\n",
    "    ratings.append(i.text)\n",
    "    \n",
    "review=driver.find_elements_by_xpath('//p[@class=\"_2-N8zT\"]')\n",
    "reviews=[]\n",
    "for i in review:\n",
    "    reviews.append(i.text)\n",
    "    \n",
    "summary=driver.find_elements_by_xpath('//div[@class=\"t-ZTKy\"]')\n",
    "summarys=[]\n",
    "for i in summary:\n",
    "    summarys.append(i.text)\n",
    "#summarys\n",
    "df15=pd.DataFrame({'Rating':ratings[0:9] , 'Review_Summary' :reviews[0:9], 'Full Review' :summarys[0:9]})"
   ]
  },
  {
   "cell_type": "code",
   "execution_count": 507,
   "id": "b9ea1327",
   "metadata": {},
   "outputs": [],
   "source": [
    "df16=df14.append(df15, ignore_index = True)"
   ]
  },
  {
   "cell_type": "code",
   "execution_count": 508,
   "id": "878cbf03",
   "metadata": {},
   "outputs": [],
   "source": [
    "driver.find_element_by_xpath('/html/body/div/div/div[1]/div[1]/div[2]/div[2]/form/div/div/input').click()"
   ]
  },
  {
   "cell_type": "code",
   "execution_count": 509,
   "id": "0194b7f3",
   "metadata": {},
   "outputs": [],
   "source": [
    "rating=driver.find_elements_by_xpath('//div[@class=\"_3LWZlK _1BLPMq\"]')\n",
    "ratings=[]\n",
    "for i in rating:\n",
    "    ratings.append(i.text)\n",
    "    \n",
    "review=driver.find_elements_by_xpath('//p[@class=\"_2-N8zT\"]')\n",
    "reviews=[]\n",
    "for i in review:\n",
    "    reviews.append(i.text)\n",
    "    \n",
    "summary=driver.find_elements_by_xpath('//div[@class=\"t-ZTKy\"]')\n",
    "summarys=[]\n",
    "for i in summary:\n",
    "    summarys.append(i.text)\n",
    "#summarys\n",
    "df17=pd.DataFrame({'Rating':ratings[0:9] , 'Review_Summary' :reviews[0:9], 'Full Review' :summarys[0:9]})\n"
   ]
  },
  {
   "cell_type": "code",
   "execution_count": 510,
   "id": "e321da64",
   "metadata": {},
   "outputs": [],
   "source": [
    "df18=df16.append(df17, ignore_index = True)"
   ]
  },
  {
   "cell_type": "code",
   "execution_count": 511,
   "id": "40c874a7",
   "metadata": {},
   "outputs": [],
   "source": [
    "driver.find_element_by_xpath('/html/body/div/div/div[1]/div[1]/div[2]/div[2]/form/div/div/input').click()"
   ]
  },
  {
   "cell_type": "code",
   "execution_count": 512,
   "id": "cff1924c",
   "metadata": {},
   "outputs": [],
   "source": [
    "rating=driver.find_elements_by_xpath('//div[@class=\"_3LWZlK _1BLPMq\"]')\n",
    "ratings=[]\n",
    "for i in rating:\n",
    "    ratings.append(i.text)\n",
    "    \n",
    "review=driver.find_elements_by_xpath('//p[@class=\"_2-N8zT\"]')\n",
    "reviews=[]\n",
    "for i in review:\n",
    "    reviews.append(i.text)\n",
    "    \n",
    "summary=driver.find_elements_by_xpath('//div[@class=\"t-ZTKy\"]')\n",
    "summarys=[]\n",
    "for i in summary:\n",
    "    summarys.append(i.text)\n",
    "#summarys\n",
    "df19=pd.DataFrame({'Rating':ratings[0:5] , 'Review_Summary' :reviews[0:5], 'Full Review' :summarys[0:5]})\n"
   ]
  },
  {
   "cell_type": "code",
   "execution_count": 513,
   "id": "c4caa1f1",
   "metadata": {},
   "outputs": [
    {
     "data": {
      "text/html": [
       "<div>\n",
       "<style scoped>\n",
       "    .dataframe tbody tr th:only-of-type {\n",
       "        vertical-align: middle;\n",
       "    }\n",
       "\n",
       "    .dataframe tbody tr th {\n",
       "        vertical-align: top;\n",
       "    }\n",
       "\n",
       "    .dataframe thead th {\n",
       "        text-align: right;\n",
       "    }\n",
       "</style>\n",
       "<table border=\"1\" class=\"dataframe\">\n",
       "  <thead>\n",
       "    <tr style=\"text-align: right;\">\n",
       "      <th></th>\n",
       "      <th>Rating</th>\n",
       "      <th>Review_Summary</th>\n",
       "      <th>Full Review</th>\n",
       "    </tr>\n",
       "  </thead>\n",
       "  <tbody>\n",
       "    <tr>\n",
       "      <th>0</th>\n",
       "      <td>5</td>\n",
       "      <td>Brilliant</td>\n",
       "      <td>The Best Phone for the Money\\n\\nThe iPhone 11 ...</td>\n",
       "    </tr>\n",
       "    <tr>\n",
       "      <th>1</th>\n",
       "      <td>5</td>\n",
       "      <td>Simply awesome</td>\n",
       "      <td>Really satisfied with the Product I received.....</td>\n",
       "    </tr>\n",
       "    <tr>\n",
       "      <th>2</th>\n",
       "      <td>5</td>\n",
       "      <td>Perfect product!</td>\n",
       "      <td>Amazing phone with great cameras and better ba...</td>\n",
       "    </tr>\n",
       "    <tr>\n",
       "      <th>3</th>\n",
       "      <td>5</td>\n",
       "      <td>Best in the market!</td>\n",
       "      <td>Great iPhone very snappy experience as apple k...</td>\n",
       "    </tr>\n",
       "    <tr>\n",
       "      <th>4</th>\n",
       "      <td>5</td>\n",
       "      <td>Worth every penny</td>\n",
       "      <td>Previously I was using one plus 3t it was a gr...</td>\n",
       "    </tr>\n",
       "    <tr>\n",
       "      <th>...</th>\n",
       "      <td>...</td>\n",
       "      <td>...</td>\n",
       "      <td>...</td>\n",
       "    </tr>\n",
       "    <tr>\n",
       "      <th>95</th>\n",
       "      <td>5</td>\n",
       "      <td>Brilliant</td>\n",
       "      <td>The Best Phone for the Money\\n\\nThe iPhone 11 ...</td>\n",
       "    </tr>\n",
       "    <tr>\n",
       "      <th>96</th>\n",
       "      <td>5</td>\n",
       "      <td>Simply awesome</td>\n",
       "      <td>Really satisfied with the Product I received.....</td>\n",
       "    </tr>\n",
       "    <tr>\n",
       "      <th>97</th>\n",
       "      <td>5</td>\n",
       "      <td>Perfect product!</td>\n",
       "      <td>Amazing phone with great cameras and better ba...</td>\n",
       "    </tr>\n",
       "    <tr>\n",
       "      <th>98</th>\n",
       "      <td>5</td>\n",
       "      <td>Best in the market!</td>\n",
       "      <td>Great iPhone very snappy experience as apple k...</td>\n",
       "    </tr>\n",
       "    <tr>\n",
       "      <th>99</th>\n",
       "      <td>5</td>\n",
       "      <td>Worth every penny</td>\n",
       "      <td>Previously I was using one plus 3t it was a gr...</td>\n",
       "    </tr>\n",
       "  </tbody>\n",
       "</table>\n",
       "<p>100 rows × 3 columns</p>\n",
       "</div>"
      ],
      "text/plain": [
       "   Rating       Review_Summary  \\\n",
       "0       5            Brilliant   \n",
       "1       5       Simply awesome   \n",
       "2       5     Perfect product!   \n",
       "3       5  Best in the market!   \n",
       "4       5    Worth every penny   \n",
       "..    ...                  ...   \n",
       "95      5            Brilliant   \n",
       "96      5       Simply awesome   \n",
       "97      5     Perfect product!   \n",
       "98      5  Best in the market!   \n",
       "99      5    Worth every penny   \n",
       "\n",
       "                                          Full Review  \n",
       "0   The Best Phone for the Money\\n\\nThe iPhone 11 ...  \n",
       "1   Really satisfied with the Product I received.....  \n",
       "2   Amazing phone with great cameras and better ba...  \n",
       "3   Great iPhone very snappy experience as apple k...  \n",
       "4   Previously I was using one plus 3t it was a gr...  \n",
       "..                                                ...  \n",
       "95  The Best Phone for the Money\\n\\nThe iPhone 11 ...  \n",
       "96  Really satisfied with the Product I received.....  \n",
       "97  Amazing phone with great cameras and better ba...  \n",
       "98  Great iPhone very snappy experience as apple k...  \n",
       "99  Previously I was using one plus 3t it was a gr...  \n",
       "\n",
       "[100 rows x 3 columns]"
      ]
     },
     "execution_count": 513,
     "metadata": {},
     "output_type": "execute_result"
    }
   ],
   "source": [
    "df20=df18.append(df19, ignore_index = True)\n",
    "df20"
   ]
  },
  {
   "cell_type": "markdown",
   "id": "f3ed0b12",
   "metadata": {},
   "source": [
    "## 6. Scrape data for first 100 sneakers you find when you visit flipkart.com and search for sneakers in the search field\n",
    "1. Brand\n",
    "2. Product Description\n",
    "3. Price\n",
    "4. Scrape first 100 shoes data"
   ]
  },
  {
   "cell_type": "code",
   "execution_count": 325,
   "id": "eb5b8c07",
   "metadata": {},
   "outputs": [],
   "source": [
    "import selenium\n",
    "from selenium import webdriver\n",
    "import pandas as pd\n",
    "import warnings\n",
    "warnings.filterwarnings(\"ignore\")\n",
    "import time"
   ]
  },
  {
   "cell_type": "code",
   "execution_count": 515,
   "id": "8aa853f1",
   "metadata": {},
   "outputs": [],
   "source": [
    "driver = webdriver.Chrome(r'C:\\Users\\Ashish Jain\\Downloads\\chromedriver_win32\\chromedriver.exe')"
   ]
  },
  {
   "cell_type": "code",
   "execution_count": 516,
   "id": "776f9125",
   "metadata": {},
   "outputs": [],
   "source": [
    "url='https://www.flipkart.com/'\n",
    "driver.get(url)\n",
    "time.sleep(2)"
   ]
  },
  {
   "cell_type": "code",
   "execution_count": 517,
   "id": "0a2385f1",
   "metadata": {},
   "outputs": [],
   "source": [
    "search_bar_fk=driver.find_element_by_class_name('_3704LK')\n",
    "search_bar_fk.clear()\n",
    "search_bar_fk.send_keys('sneakers')"
   ]
  },
  {
   "cell_type": "code",
   "execution_count": 518,
   "id": "00cb7b45",
   "metadata": {},
   "outputs": [],
   "source": [
    "search_btn_fk=driver.find_element_by_class_name('_34RNph')\n",
    "search_btn_fk.click()"
   ]
  },
  {
   "cell_type": "code",
   "execution_count": 519,
   "id": "9e2774f6",
   "metadata": {},
   "outputs": [
    {
     "data": {
      "text/plain": [
       "<selenium.webdriver.remote.webelement.WebElement (session=\"ad2fe4994c614418c1eed8315a827574\", element=\"713e5ec7-7cfb-4f51-bb53-635dbc1bdb8a\")>"
      ]
     },
     "execution_count": 519,
     "metadata": {},
     "output_type": "execute_result"
    }
   ],
   "source": [
    "search_locn=driver.find_element_by_xpath('/html/body/div/div/div[1]/div[1]/div[2]/div[2]/form/ul')\n",
    "search_locn"
   ]
  },
  {
   "cell_type": "code",
   "execution_count": 520,
   "id": "f84d1aec",
   "metadata": {},
   "outputs": [],
   "source": [
    "product_tag=driver.find_elements_by_xpath('//div[@class=\"_2WkVRV\"]')\n",
    "title_name=[]\n",
    "for i in product_tag:\n",
    "    title_name.append(i.text)\n",
    "title_name\n",
    "price_tags=driver.find_elements_by_xpath('//div[@class=\"_30jeq3\"]')\n",
    "prices=[]\n",
    "for i in price_tags:\n",
    "    prices.append(i.text)\n",
    "prices\n",
    "des_tag=driver.find_elements_by_xpath('//a[@class=\"IRpwTa\"]')\n",
    "des=[]\n",
    "for i in des_tag:\n",
    "    des.append(i.text)\n",
    "#des\n",
    "df=pd.DataFrame({'Product Name':title_name[0:20] , 'Description' :des[0:20], 'Price' :prices[0:20]})"
   ]
  },
  {
   "cell_type": "code",
   "execution_count": 521,
   "id": "1a462f4d",
   "metadata": {},
   "outputs": [],
   "source": [
    "driver.find_element_by_xpath('/html/body/div[1]/div/div[1]/div[1]/div[2]/div[2]/form/div/div/input').click()"
   ]
  },
  {
   "cell_type": "code",
   "execution_count": 522,
   "id": "d7d86215",
   "metadata": {},
   "outputs": [],
   "source": [
    "product_tag=driver.find_elements_by_xpath('//div[@class=\"_2WkVRV\"]')\n",
    "title_name1=[]\n",
    "for i in product_tag:\n",
    "    title_name1.append(i.text)\n",
    "title_name\n",
    "price_tags=driver.find_elements_by_xpath('//div[@class=\"_30jeq3\"]')\n",
    "prices1=[]\n",
    "for i in price_tags:\n",
    "    prices1.append(i.text)\n",
    "prices\n",
    "\n",
    "des_tag=driver.find_elements_by_xpath('//a[@class=\"IRpwTa\"]')\n",
    "des1=[]\n",
    "for i in des_tag:\n",
    "    des1.append(i.text)\n",
    "#des\n",
    "df1=pd.DataFrame({'Product Name':title_name1[0:25] , 'Description' :des1[0:25], 'Price' :prices1[0:25]})\n"
   ]
  },
  {
   "cell_type": "code",
   "execution_count": 523,
   "id": "6ea9b2e3",
   "metadata": {},
   "outputs": [],
   "source": [
    "df2=df.append(df1, ignore_index = True)"
   ]
  },
  {
   "cell_type": "code",
   "execution_count": 524,
   "id": "c718acda",
   "metadata": {},
   "outputs": [],
   "source": [
    "driver.find_element_by_xpath('/html/body/div[1]/div/div[1]/div[1]/div[2]/div[2]/form/div/div/input').click()"
   ]
  },
  {
   "cell_type": "code",
   "execution_count": 525,
   "id": "1cd879fd",
   "metadata": {},
   "outputs": [],
   "source": [
    "product_tag=driver.find_elements_by_xpath('//div[@class=\"_2WkVRV\"]')\n",
    "title_name2=[]\n",
    "for i in product_tag:\n",
    "    title_name2.append(i.text)\n",
    "title_name\n",
    "price_tags=driver.find_elements_by_xpath('//div[@class=\"_30jeq3\"]')\n",
    "prices2=[]\n",
    "for i in price_tags:\n",
    "    prices2.append(i.text)\n",
    "prices\n",
    "\n",
    "des_tag=driver.find_elements_by_xpath('//a[@class=\"IRpwTa\"]')\n",
    "des2=[]\n",
    "for i in des_tag:\n",
    "    des2.append(i.text)\n",
    "df3=pd.DataFrame({'Product Name':title_name2[0:25] , 'Description' :des2[0:25], 'Price' :prices2[0:25]})\n",
    "#df3"
   ]
  },
  {
   "cell_type": "code",
   "execution_count": 429,
   "id": "d12bf3b8",
   "metadata": {},
   "outputs": [],
   "source": [
    "driver.find_element_by_xpath('/html/body/div[1]/div/div[1]/div[1]/div[2]/div[2]/form/div/div/input').click()"
   ]
  },
  {
   "cell_type": "code",
   "execution_count": 526,
   "id": "ac26f935",
   "metadata": {},
   "outputs": [],
   "source": [
    "product_tag=driver.find_elements_by_xpath('//div[@class=\"_2WkVRV\"]')\n",
    "title_name2=[]\n",
    "for i in product_tag:\n",
    "    title_name2.append(i.text)\n",
    "title_name\n",
    "price_tags=driver.find_elements_by_xpath('//div[@class=\"_30jeq3\"]')\n",
    "prices2=[]\n",
    "for i in price_tags:\n",
    "    prices2.append(i.text)\n",
    "prices\n",
    "\n",
    "des_tag=driver.find_elements_by_xpath('//a[@class=\"IRpwTa\"]')\n",
    "des2=[]\n",
    "for i in des_tag:\n",
    "    des2.append(i.text)\n",
    "df3=pd.DataFrame({'Product Name':title_name2[0:25] , 'Description' :des2[0:25], 'Price' :prices2[0:25]})\n",
    "#df3"
   ]
  },
  {
   "cell_type": "code",
   "execution_count": 527,
   "id": "c81590f8",
   "metadata": {},
   "outputs": [],
   "source": [
    "df=df3.append(df2, ignore_index = True)\n"
   ]
  },
  {
   "cell_type": "code",
   "execution_count": 528,
   "id": "b34b17c4",
   "metadata": {},
   "outputs": [],
   "source": [
    "driver.find_element_by_xpath('/html/body/div[1]/div/div[1]/div[1]/div[2]/div[2]/form/div/div/input').click()"
   ]
  },
  {
   "cell_type": "code",
   "execution_count": 529,
   "id": "0c20ec4c",
   "metadata": {},
   "outputs": [],
   "source": [
    "product_tag=driver.find_elements_by_xpath('//div[@class=\"_2WkVRV\"]')\n",
    "title_name3=[]\n",
    "for i in product_tag:\n",
    "    title_name3.append(i.text)\n",
    "title_name\n",
    "price_tags=driver.find_elements_by_xpath('//div[@class=\"_30jeq3\"]')\n",
    "prices3=[]\n",
    "for i in price_tags:\n",
    "    prices3.append(i.text)\n",
    "prices\n",
    "\n",
    "des_tag=driver.find_elements_by_xpath('//a[@class=\"IRpwTa\"]')\n",
    "des3=[]\n",
    "for i in des_tag:\n",
    "    des3.append(i.text)\n",
    "df4=pd.DataFrame({'Product Name':title_name3[0:30] , 'Description' :des3[0:30], 'Price' :prices3[0:30]})"
   ]
  },
  {
   "cell_type": "code",
   "execution_count": 530,
   "id": "37217033",
   "metadata": {},
   "outputs": [
    {
     "data": {
      "text/html": [
       "<div>\n",
       "<style scoped>\n",
       "    .dataframe tbody tr th:only-of-type {\n",
       "        vertical-align: middle;\n",
       "    }\n",
       "\n",
       "    .dataframe tbody tr th {\n",
       "        vertical-align: top;\n",
       "    }\n",
       "\n",
       "    .dataframe thead th {\n",
       "        text-align: right;\n",
       "    }\n",
       "</style>\n",
       "<table border=\"1\" class=\"dataframe\">\n",
       "  <thead>\n",
       "    <tr style=\"text-align: right;\">\n",
       "      <th></th>\n",
       "      <th>Product Name</th>\n",
       "      <th>Description</th>\n",
       "      <th>Price</th>\n",
       "    </tr>\n",
       "  </thead>\n",
       "  <tbody>\n",
       "    <tr>\n",
       "      <th>0</th>\n",
       "      <td>PEHANOSA</td>\n",
       "      <td>Sneakers For Men</td>\n",
       "      <td>₹699</td>\n",
       "    </tr>\n",
       "    <tr>\n",
       "      <th>1</th>\n",
       "      <td>WROGN</td>\n",
       "      <td>Sneakers For Men</td>\n",
       "      <td>₹2,811</td>\n",
       "    </tr>\n",
       "    <tr>\n",
       "      <th>2</th>\n",
       "      <td>Magnolia</td>\n",
       "      <td>Luxury Fashionable casual sneaker shoes Sneake...</td>\n",
       "      <td>₹398</td>\n",
       "    </tr>\n",
       "    <tr>\n",
       "      <th>3</th>\n",
       "      <td>luxury fashion</td>\n",
       "      <td>Modern Trendy Shoes Combo pack of 4 Sneakers F...</td>\n",
       "      <td>₹449</td>\n",
       "    </tr>\n",
       "    <tr>\n",
       "      <th>4</th>\n",
       "      <td>URBANBOX</td>\n",
       "      <td>Sneakers For Men</td>\n",
       "      <td>₹220</td>\n",
       "    </tr>\n",
       "    <tr>\n",
       "      <th>...</th>\n",
       "      <td>...</td>\n",
       "      <td>...</td>\n",
       "      <td>...</td>\n",
       "    </tr>\n",
       "    <tr>\n",
       "      <th>95</th>\n",
       "      <td>Shoes Bank</td>\n",
       "      <td>Shark-41 Sneakers For Men</td>\n",
       "      <td>₹331</td>\n",
       "    </tr>\n",
       "    <tr>\n",
       "      <th>96</th>\n",
       "      <td>BIRDE</td>\n",
       "      <td>Sneakers For Men</td>\n",
       "      <td>₹299</td>\n",
       "    </tr>\n",
       "    <tr>\n",
       "      <th>97</th>\n",
       "      <td>HOTSTYLE</td>\n",
       "      <td>Sneakers For Men</td>\n",
       "      <td>₹298</td>\n",
       "    </tr>\n",
       "    <tr>\n",
       "      <th>98</th>\n",
       "      <td>hecta</td>\n",
       "      <td>RS-X Mix Sneakers For Men</td>\n",
       "      <td>₹489</td>\n",
       "    </tr>\n",
       "    <tr>\n",
       "      <th>99</th>\n",
       "      <td>RapidBox</td>\n",
       "      <td>Modern Trendy Sneakers Shoes Sneakers For Men</td>\n",
       "      <td>₹680</td>\n",
       "    </tr>\n",
       "  </tbody>\n",
       "</table>\n",
       "<p>100 rows × 3 columns</p>\n",
       "</div>"
      ],
      "text/plain": [
       "      Product Name                                        Description   Price\n",
       "0         PEHANOSA                                   Sneakers For Men    ₹699\n",
       "1            WROGN                                   Sneakers For Men  ₹2,811\n",
       "2         Magnolia  Luxury Fashionable casual sneaker shoes Sneake...    ₹398\n",
       "3   luxury fashion  Modern Trendy Shoes Combo pack of 4 Sneakers F...    ₹449\n",
       "4         URBANBOX                                   Sneakers For Men    ₹220\n",
       "..             ...                                                ...     ...\n",
       "95      Shoes Bank                          Shark-41 Sneakers For Men    ₹331\n",
       "96           BIRDE                                   Sneakers For Men    ₹299\n",
       "97        HOTSTYLE                                   Sneakers For Men    ₹298\n",
       "98           hecta                          RS-X Mix Sneakers For Men    ₹489\n",
       "99        RapidBox      Modern Trendy Sneakers Shoes Sneakers For Men    ₹680\n",
       "\n",
       "[100 rows x 3 columns]"
      ]
     },
     "execution_count": 530,
     "metadata": {},
     "output_type": "execute_result"
    }
   ],
   "source": [
    "df4.append(df, ignore_index = True)"
   ]
  },
  {
   "cell_type": "markdown",
   "id": "8dba9bdd",
   "metadata": {},
   "source": [
    "## Q7: Go to the link - https://www.myntra.com/shoes\n",
    "Set Price filter to “Rs. 7149 to Rs. 14099 ” , Color filter to “Black”, as shown inthe below image."
   ]
  },
  {
   "cell_type": "code",
   "execution_count": 560,
   "id": "21beb452",
   "metadata": {},
   "outputs": [],
   "source": [
    "import selenium\n",
    "from selenium import webdriver\n",
    "import pandas as pd\n",
    "import warnings\n",
    "warnings.filterwarnings(\"ignore\")\n",
    "import time"
   ]
  },
  {
   "cell_type": "code",
   "execution_count": 561,
   "id": "5e645f53",
   "metadata": {},
   "outputs": [],
   "source": [
    "driver = webdriver.Chrome(r'C:\\Users\\Ashish Jain\\Downloads\\chromedriver_win32\\chromedriver.exe')"
   ]
  },
  {
   "cell_type": "code",
   "execution_count": 562,
   "id": "7c0ec522",
   "metadata": {},
   "outputs": [],
   "source": [
    "url='https://www.myntra.com/shoes'\n",
    "driver.get(url)"
   ]
  },
  {
   "cell_type": "code",
   "execution_count": 563,
   "id": "e2aa6f71",
   "metadata": {},
   "outputs": [],
   "source": [
    "price_check=driver.find_element_by_xpath('/html/body/div[2]/div/div[1]/main/div[3]/div[1]/section/div/div[5]/ul/li[2]/label')"
   ]
  },
  {
   "cell_type": "code",
   "execution_count": 564,
   "id": "b00ce623",
   "metadata": {},
   "outputs": [],
   "source": [
    "price_check.click()"
   ]
  },
  {
   "cell_type": "code",
   "execution_count": 565,
   "id": "f0dea08e",
   "metadata": {},
   "outputs": [],
   "source": [
    "color_chk=driver.find_element_by_xpath('/html/body/div[2]/div/div[1]/main/div[3]/div[1]/section/div/div[6]/ul/li[1]/label')\n",
    "color_chk.click()"
   ]
  },
  {
   "cell_type": "code",
   "execution_count": 566,
   "id": "2a73e439",
   "metadata": {},
   "outputs": [],
   "source": [
    "title_tag=driver.find_elements_by_xpath('//h3[@class=\"product-brand\"]')\n",
    "title_name=[]\n",
    "for i in title_tag:\n",
    "    title_name.append(i.text)\n",
    "title_name\n",
    "product_des=driver.find_elements_by_xpath('//h4[@class=\"product-product\"]')\n",
    "des=[]\n",
    "for i in product_des:\n",
    "    des.append(i.text)\n",
    "des\n",
    "price=driver.find_elements_by_xpath('//span[@class=\"product-strike\"]')\n",
    "prices=[]\n",
    "for i in price:\n",
    "    prices.append(i.text)\n",
    "prices\n",
    "dis_price=driver.find_elements_by_xpath('//span[@class=\"product-discountedPrice\"]')\n",
    "disc_prices=[]\n",
    "for i in dis_price:\n",
    "    disc_prices.append(i.text)\n",
    "#disc_prices\n",
    "df=pd.DataFrame({'Product Brand':title_name[0:20] , 'Product_Description' :des[0:20], 'Original Price' :prices[0:20],'Discounted_Price' :disc_prices[0:20]})\n"
   ]
  },
  {
   "cell_type": "code",
   "execution_count": 569,
   "id": "748ce48b",
   "metadata": {},
   "outputs": [],
   "source": [
    "driver.find_element_by_xpath('/html/body/div[2]/div/div[1]/main/div[3]/div[2]/div/div[2]/section/div[2]/ul/li[12]/a').click()"
   ]
  },
  {
   "cell_type": "code",
   "execution_count": 570,
   "id": "2548af56",
   "metadata": {},
   "outputs": [],
   "source": [
    "title_tag=driver.find_elements_by_xpath('//h3[@class=\"product-brand\"]')\n",
    "title_name=[]\n",
    "for i in title_tag:\n",
    "    title_name.append(i.text)\n",
    "title_name\n",
    "product_des=driver.find_elements_by_xpath('//h4[@class=\"product-product\"]')\n",
    "des=[]\n",
    "for i in product_des:\n",
    "    des.append(i.text)\n",
    "des\n",
    "price=driver.find_elements_by_xpath('//span[@class=\"product-strike\"]')\n",
    "prices=[]\n",
    "for i in price:\n",
    "    prices.append(i.text)\n",
    "prices\n",
    "dis_price=driver.find_elements_by_xpath('//span[@class=\"product-discountedPrice\"]')\n",
    "disc_prices=[]\n",
    "for i in dis_price:\n",
    "    disc_prices.append(i.text)\n",
    "#disc_prices\n",
    "df=pd.DataFrame({'Product Brand':title_name[0:20] , 'Product_Description' :des[0:20], 'Original Price' :prices[0:20],'Discounted_Price' :disc_prices[0:20]})\n"
   ]
  },
  {
   "cell_type": "code",
   "execution_count": 571,
   "id": "1e039b38",
   "metadata": {},
   "outputs": [],
   "source": [
    "df2=df.append(df1, ignore_index = True)"
   ]
  },
  {
   "cell_type": "code",
   "execution_count": 572,
   "id": "b917c1b5",
   "metadata": {},
   "outputs": [],
   "source": [
    "driver.find_element_by_xpath('/html/body/div[2]/div/div[1]/main/div[3]/div[2]/div/div[2]/section/div[2]/ul/li[8]/a').click()"
   ]
  },
  {
   "cell_type": "code",
   "execution_count": 573,
   "id": "9cb2a3ab",
   "metadata": {},
   "outputs": [],
   "source": [
    "title_tag=driver.find_elements_by_xpath('//h3[@class=\"product-brand\"]')\n",
    "title_name=[]\n",
    "for i in title_tag:\n",
    "    title_name.append(i.text)\n",
    "title_name\n",
    "product_des=driver.find_elements_by_xpath('//h4[@class=\"product-product\"]')\n",
    "des=[]\n",
    "for i in product_des:\n",
    "    des.append(i.text)\n",
    "des\n",
    "price=driver.find_elements_by_xpath('//span[@class=\"product-strike\"]')\n",
    "prices=[]\n",
    "for i in price:\n",
    "    prices.append(i.text)\n",
    "prices\n",
    "dis_price=driver.find_elements_by_xpath('//span[@class=\"product-discountedPrice\"]')\n",
    "disc_prices=[]\n",
    "for i in dis_price:\n",
    "    disc_prices.append(i.text)\n",
    "disc_prices\n",
    "df3=pd.DataFrame({'Product Brand':title_name[0:15] , 'Product_Description' :des[0:15], 'Original Price' :prices[0:15],'Discounted_Price' :disc_prices[0:15]})\n"
   ]
  },
  {
   "cell_type": "code",
   "execution_count": 574,
   "id": "8177109d",
   "metadata": {},
   "outputs": [],
   "source": [
    "df4=df2.append(df3, ignore_index = True)"
   ]
  },
  {
   "cell_type": "code",
   "execution_count": 575,
   "id": "12ab8330",
   "metadata": {},
   "outputs": [],
   "source": [
    "driver.find_element_by_xpath('/html/body/div[2]/div/div[1]/main/div[3]/div[2]/div/div[2]/section/div[2]/ul/li[8]/a').click()"
   ]
  },
  {
   "cell_type": "code",
   "execution_count": 576,
   "id": "f430e6ed",
   "metadata": {},
   "outputs": [],
   "source": [
    "title_tag=driver.find_elements_by_xpath('//h3[@class=\"product-brand\"]')\n",
    "title_name=[]\n",
    "for i in title_tag:\n",
    "    title_name.append(i.text)\n",
    "title_name\n",
    "product_des=driver.find_elements_by_xpath('//h4[@class=\"product-product\"]')\n",
    "des=[]\n",
    "for i in product_des:\n",
    "    des.append(i.text)\n",
    "des\n",
    "price=driver.find_elements_by_xpath('//span[@class=\"product-strike\"]')\n",
    "prices=[]\n",
    "for i in price:\n",
    "    prices.append(i.text)\n",
    "prices\n",
    "dis_price=driver.find_elements_by_xpath('//span[@class=\"product-discountedPrice\"]')\n",
    "disc_prices=[]\n",
    "for i in dis_price:\n",
    "    disc_prices.append(i.text)\n",
    "disc_prices\n",
    "df5=pd.DataFrame({'Product Brand':title_name[0:15] , 'Product_Description' :des[0:15], 'Original Price' :prices[0:15],'Discounted_Price' :disc_prices[0:15]})\n"
   ]
  },
  {
   "cell_type": "code",
   "execution_count": 577,
   "id": "2d17b1a8",
   "metadata": {},
   "outputs": [],
   "source": [
    "df6=df4.append(df5, ignore_index = True)"
   ]
  },
  {
   "cell_type": "code",
   "execution_count": 578,
   "id": "d2d4c9d1",
   "metadata": {},
   "outputs": [],
   "source": [
    "driver.find_element_by_xpath('/html/body/div[2]/div/div[1]/main/div[3]/div[2]/div/div[2]/section/div[2]/ul/li[8]/a').click()"
   ]
  },
  {
   "cell_type": "code",
   "execution_count": 579,
   "id": "d68e3ac3",
   "metadata": {},
   "outputs": [],
   "source": [
    "title_tag=driver.find_elements_by_xpath('//h3[@class=\"product-brand\"]')\n",
    "title_name=[]\n",
    "for i in title_tag:\n",
    "    title_name.append(i.text)\n",
    "title_name\n",
    "product_des=driver.find_elements_by_xpath('//h4[@class=\"product-product\"]')\n",
    "des=[]\n",
    "for i in product_des:\n",
    "    des.append(i.text)\n",
    "des\n",
    "price=driver.find_elements_by_xpath('//span[@class=\"product-strike\"]')\n",
    "prices=[]\n",
    "for i in price:\n",
    "    prices.append(i.text)\n",
    "prices\n",
    "dis_price=driver.find_elements_by_xpath('//span[@class=\"product-discountedPrice\"]')\n",
    "disc_prices=[]\n",
    "for i in dis_price:\n",
    "    disc_prices.append(i.text)\n",
    "disc_prices\n",
    "df7=pd.DataFrame({'Product Brand':title_name[0:15] , 'Product_Description' :des[0:15], 'Original Price' :prices[0:15],'Discounted_Price' :disc_prices[0:15]})\n",
    "df7\n",
    "df8=df6.append(df7, ignore_index = True)"
   ]
  },
  {
   "cell_type": "code",
   "execution_count": 580,
   "id": "cd964066",
   "metadata": {},
   "outputs": [],
   "source": [
    "driver.find_element_by_xpath('/html/body/div[2]/div/div[1]/main/div[3]/div[2]/div/div[2]/section/div[2]/ul/li[11]/a').click()"
   ]
  },
  {
   "cell_type": "code",
   "execution_count": 581,
   "id": "2f43ea1f",
   "metadata": {},
   "outputs": [
    {
     "data": {
      "text/html": [
       "<div>\n",
       "<style scoped>\n",
       "    .dataframe tbody tr th:only-of-type {\n",
       "        vertical-align: middle;\n",
       "    }\n",
       "\n",
       "    .dataframe tbody tr th {\n",
       "        vertical-align: top;\n",
       "    }\n",
       "\n",
       "    .dataframe thead th {\n",
       "        text-align: right;\n",
       "    }\n",
       "</style>\n",
       "<table border=\"1\" class=\"dataframe\">\n",
       "  <thead>\n",
       "    <tr style=\"text-align: right;\">\n",
       "      <th></th>\n",
       "      <th>Product Brand</th>\n",
       "      <th>Product_Description</th>\n",
       "      <th>Original Price</th>\n",
       "      <th>Discounted_Price</th>\n",
       "    </tr>\n",
       "  </thead>\n",
       "  <tbody>\n",
       "    <tr>\n",
       "      <th>0</th>\n",
       "      <td>Columbia</td>\n",
       "      <td>PEAKFREAK XCRSN II XCEL OUTDRY</td>\n",
       "      <td>Rs. 10999</td>\n",
       "      <td>Rs. 7699</td>\n",
       "    </tr>\n",
       "    <tr>\n",
       "      <th>1</th>\n",
       "      <td>DAVINCHI</td>\n",
       "      <td>Men Semiformal Slip-Ons</td>\n",
       "      <td>Rs. 10999</td>\n",
       "      <td>Rs. 7699</td>\n",
       "    </tr>\n",
       "    <tr>\n",
       "      <th>2</th>\n",
       "      <td>Call It Spring</td>\n",
       "      <td>Men Derby Shoes</td>\n",
       "      <td>Rs. 11999</td>\n",
       "      <td>Rs. 8999</td>\n",
       "    </tr>\n",
       "    <tr>\n",
       "      <th>3</th>\n",
       "      <td>Clarks</td>\n",
       "      <td>Men Sneakers</td>\n",
       "      <td>Rs. 11995</td>\n",
       "      <td>Rs. 8996</td>\n",
       "    </tr>\n",
       "    <tr>\n",
       "      <th>4</th>\n",
       "      <td>ADIDAS NEO</td>\n",
       "      <td>Men Cloudfoam Ultimate Sneakers</td>\n",
       "      <td>Rs. 10999</td>\n",
       "      <td>Rs. 7699</td>\n",
       "    </tr>\n",
       "    <tr>\n",
       "      <th>...</th>\n",
       "      <td>...</td>\n",
       "      <td>...</td>\n",
       "      <td>...</td>\n",
       "      <td>...</td>\n",
       "    </tr>\n",
       "    <tr>\n",
       "      <th>95</th>\n",
       "      <td>ALDO</td>\n",
       "      <td>Men Leather Formal Loafers</td>\n",
       "      <td>Rs. 12999</td>\n",
       "      <td>Rs. 7799</td>\n",
       "    </tr>\n",
       "    <tr>\n",
       "      <th>96</th>\n",
       "      <td>Onitsuka Tiger</td>\n",
       "      <td>Unisex Colourblocked Sneakers</td>\n",
       "      <td>Rs. 15999</td>\n",
       "      <td>Rs. 11199</td>\n",
       "    </tr>\n",
       "    <tr>\n",
       "      <th>97</th>\n",
       "      <td>Kalenji By Decathlon</td>\n",
       "      <td>Men KD500 Running Shoe</td>\n",
       "      <td>Rs. 11495</td>\n",
       "      <td>Rs. 10345</td>\n",
       "    </tr>\n",
       "    <tr>\n",
       "      <th>98</th>\n",
       "      <td>ALDO</td>\n",
       "      <td>Women Sneakers</td>\n",
       "      <td>Rs. 11999</td>\n",
       "      <td>Rs. 9599</td>\n",
       "    </tr>\n",
       "    <tr>\n",
       "      <th>99</th>\n",
       "      <td>ADIDAS</td>\n",
       "      <td>Terrex Two Trail Running Shoes</td>\n",
       "      <td>Rs. 13999</td>\n",
       "      <td>Rs. 9099</td>\n",
       "    </tr>\n",
       "  </tbody>\n",
       "</table>\n",
       "<p>100 rows × 4 columns</p>\n",
       "</div>"
      ],
      "text/plain": [
       "           Product Brand              Product_Description Original Price  \\\n",
       "0               Columbia   PEAKFREAK XCRSN II XCEL OUTDRY      Rs. 10999   \n",
       "1               DAVINCHI          Men Semiformal Slip-Ons      Rs. 10999   \n",
       "2         Call It Spring                  Men Derby Shoes      Rs. 11999   \n",
       "3                 Clarks                     Men Sneakers      Rs. 11995   \n",
       "4             ADIDAS NEO  Men Cloudfoam Ultimate Sneakers      Rs. 10999   \n",
       "..                   ...                              ...            ...   \n",
       "95                  ALDO       Men Leather Formal Loafers      Rs. 12999   \n",
       "96        Onitsuka Tiger    Unisex Colourblocked Sneakers      Rs. 15999   \n",
       "97  Kalenji By Decathlon           Men KD500 Running Shoe      Rs. 11495   \n",
       "98                  ALDO                   Women Sneakers      Rs. 11999   \n",
       "99                ADIDAS   Terrex Two Trail Running Shoes      Rs. 13999   \n",
       "\n",
       "   Discounted_Price  \n",
       "0          Rs. 7699  \n",
       "1          Rs. 7699  \n",
       "2          Rs. 8999  \n",
       "3          Rs. 8996  \n",
       "4          Rs. 7699  \n",
       "..              ...  \n",
       "95         Rs. 7799  \n",
       "96        Rs. 11199  \n",
       "97        Rs. 10345  \n",
       "98         Rs. 9599  \n",
       "99         Rs. 9099  \n",
       "\n",
       "[100 rows x 4 columns]"
      ]
     },
     "execution_count": 581,
     "metadata": {},
     "output_type": "execute_result"
    }
   ],
   "source": [
    "title_tag=driver.find_elements_by_xpath('//h3[@class=\"product-brand\"]')\n",
    "title_name=[]\n",
    "for i in title_tag:\n",
    "    title_name.append(i.text)\n",
    "title_name\n",
    "product_des=driver.find_elements_by_xpath('//h4[@class=\"product-product\"]')\n",
    "des=[]\n",
    "for i in product_des:\n",
    "    des.append(i.text)\n",
    "des\n",
    "price=driver.find_elements_by_xpath('//span[@class=\"product-strike\"]')\n",
    "prices=[]\n",
    "for i in price:\n",
    "    prices.append(i.text)\n",
    "prices\n",
    "dis_price=driver.find_elements_by_xpath('//span[@class=\"product-discountedPrice\"]')\n",
    "disc_prices=[]\n",
    "for i in dis_price:\n",
    "    disc_prices.append(i.text)\n",
    "disc_prices\n",
    "df9=pd.DataFrame({'Product Brand':title_name[0:15] , 'Product_Description' :des[0:15], 'Original Price' :prices[0:15],'Discounted_Price' :disc_prices[0:15]})\n",
    "df10=df8.append(df9, ignore_index = True)\n",
    "df10"
   ]
  },
  {
   "cell_type": "markdown",
   "id": "fa02e90b",
   "metadata": {},
   "source": [
    "## Q8: Go to webpage https://www.amazon.in/\n",
    "Enter “Laptop” in the search field and then click the search icon.\n",
    "\n",
    "Then set CPU Type filter to “Intel Core i7” and “Intel Core i9” as shown in the below image:"
   ]
  },
  {
   "cell_type": "code",
   "execution_count": 588,
   "id": "ae2deed1",
   "metadata": {},
   "outputs": [],
   "source": [
    "import selenium\n",
    "from selenium import webdriver\n",
    "import pandas as pd\n",
    "import warnings\n",
    "warnings.filterwarnings(\"ignore\")\n",
    "import time"
   ]
  },
  {
   "cell_type": "code",
   "execution_count": 589,
   "id": "145a5c23",
   "metadata": {},
   "outputs": [],
   "source": [
    "driver = webdriver.Chrome(r'C:\\Users\\Ashish Jain\\Downloads\\chromedriver_win32\\chromedriver.exe')"
   ]
  },
  {
   "cell_type": "code",
   "execution_count": 590,
   "id": "ee46a411",
   "metadata": {},
   "outputs": [],
   "source": [
    "url='https://www.amazon.in/'\n",
    "driver.get(url)"
   ]
  },
  {
   "cell_type": "code",
   "execution_count": 591,
   "id": "d0299198",
   "metadata": {},
   "outputs": [
    {
     "data": {
      "text/plain": [
       "<selenium.webdriver.remote.webelement.WebElement (session=\"d0a370f50c1b42fc43434b5aa3d10fb5\", element=\"f75acf24-a131-4ca8-9f85-2b8c0487b499\")>"
      ]
     },
     "execution_count": 591,
     "metadata": {},
     "output_type": "execute_result"
    }
   ],
   "source": [
    "search_item=driver.find_element_by_id(\"twotabsearchtextbox\")\n",
    "search_item"
   ]
  },
  {
   "cell_type": "code",
   "execution_count": 592,
   "id": "c3f00b6b",
   "metadata": {},
   "outputs": [],
   "source": [
    "search_item.send_keys(\"laptop,\")"
   ]
  },
  {
   "cell_type": "code",
   "execution_count": 593,
   "id": "a5a924ca",
   "metadata": {},
   "outputs": [],
   "source": [
    "search_btn_fk=driver.find_element_by_id('nav-search-submit-button')\n",
    "search_btn_fk.click()"
   ]
  },
  {
   "cell_type": "code",
   "execution_count": 594,
   "id": "fa468103",
   "metadata": {},
   "outputs": [],
   "source": [
    "cputype_chk=driver.find_element_by_xpath('/html/body/div[1]/header/div/div[1]/div[2]/div/form/div[2]/div[1]/input')\n",
    "cputype_chk.click()"
   ]
  },
  {
   "cell_type": "code",
   "execution_count": 598,
   "id": "b817d601",
   "metadata": {},
   "outputs": [],
   "source": [
    "title_tag=driver.find_elements_by_xpath('//span[@class=\"a-size-medium a-color-base a-text-normal\"]')\n",
    "title_name=[]\n",
    "for i in title_tag:\n",
    "    title_name.append(i.text)\n",
    "title_name\n",
    "ratings=driver.find_elements_by_xpath('//span[@class=\"a-size-base\"]')\n",
    "rating=[]\n",
    "for i in ratings:\n",
    "    rating.append(i.text)\n",
    "rating\n",
    "price=driver.find_elements_by_xpath('//span[@class=\"a-price-whole\"]')\n",
    "prices=[]\n",
    "for i in price:\n",
    "    prices.append(i.text)\n",
    "prices\n",
    "df=pd.DataFrame({'Product Brand':title_name[0:5] , 'Ratings' :rating[0:5], 'Original Price' :prices[0:5]})"
   ]
  },
  {
   "cell_type": "code",
   "execution_count": 601,
   "id": "e9cbbba9",
   "metadata": {},
   "outputs": [],
   "source": [
    "driver.find_element_by_xpath('/html/body/div[1]/header/div/div[1]/div[2]/div/form/div[2]/div[1]/input').click()"
   ]
  },
  {
   "cell_type": "code",
   "execution_count": 602,
   "id": "bfe4ffa2",
   "metadata": {},
   "outputs": [],
   "source": [
    "cputype_chk=driver.find_element_by_xpath('/html/body/div[1]/header/div/div[1]/div[2]/div/form/div[2]/div[1]/input')\n",
    "cputype_chk.click()"
   ]
  },
  {
   "cell_type": "code",
   "execution_count": 604,
   "id": "1ed67545",
   "metadata": {},
   "outputs": [],
   "source": [
    "title_tag=driver.find_elements_by_xpath('//span[@class=\"a-size-medium a-color-base a-text-normal\"]')\n",
    "title_name=[]\n",
    "for i in title_tag:\n",
    "    title_name.append(i.text)\n",
    "title_name\n",
    "ratings=driver.find_elements_by_xpath('//span[@class=\"a-size-base\"]')\n",
    "rating=[]\n",
    "for i in ratings:\n",
    "    rating.append(i.text)\n",
    "rating\n",
    "price=driver.find_elements_by_xpath('//span[@class=\"a-price-whole\"]')\n",
    "prices=[]\n",
    "for i in price:\n",
    "    prices.append(i.text)\n",
    "prices\n",
    "df1=pd.DataFrame({'Product Brand':title_name[0:5] , 'Ratings' :rating[0:5], 'Original Price' :prices[0:5]})"
   ]
  },
  {
   "cell_type": "code",
   "execution_count": 605,
   "id": "43fefc91",
   "metadata": {},
   "outputs": [
    {
     "data": {
      "text/html": [
       "<div>\n",
       "<style scoped>\n",
       "    .dataframe tbody tr th:only-of-type {\n",
       "        vertical-align: middle;\n",
       "    }\n",
       "\n",
       "    .dataframe tbody tr th {\n",
       "        vertical-align: top;\n",
       "    }\n",
       "\n",
       "    .dataframe thead th {\n",
       "        text-align: right;\n",
       "    }\n",
       "</style>\n",
       "<table border=\"1\" class=\"dataframe\">\n",
       "  <thead>\n",
       "    <tr style=\"text-align: right;\">\n",
       "      <th></th>\n",
       "      <th>Product Brand</th>\n",
       "      <th>Ratings</th>\n",
       "      <th>Original Price</th>\n",
       "    </tr>\n",
       "  </thead>\n",
       "  <tbody>\n",
       "    <tr>\n",
       "      <th>0</th>\n",
       "      <td>Dell 14 (2021) i5-1155G7 2in1 Touch Screen Lap...</td>\n",
       "      <td>25</td>\n",
       "      <td>70,790</td>\n",
       "    </tr>\n",
       "    <tr>\n",
       "      <th>1</th>\n",
       "      <td>Dell 14 (2021) Ryzen 7-5700U 2in1 Touch Screen...</td>\n",
       "      <td>197</td>\n",
       "      <td>84,990</td>\n",
       "    </tr>\n",
       "    <tr>\n",
       "      <th>2</th>\n",
       "      <td>AVITA Cosmos 2 in 1 Intel Celeron Dual Core 11...</td>\n",
       "      <td>251</td>\n",
       "      <td>17,845</td>\n",
       "    </tr>\n",
       "    <tr>\n",
       "      <th>3</th>\n",
       "      <td>HP 15 AMD Ryzen 3 3250U Thin &amp; Light 15.6 inch...</td>\n",
       "      <td>912</td>\n",
       "      <td>39,490</td>\n",
       "    </tr>\n",
       "    <tr>\n",
       "      <th>4</th>\n",
       "      <td>HP Chromebook 14 inches Thin &amp; Light Touchscre...</td>\n",
       "      <td>41</td>\n",
       "      <td>26,490</td>\n",
       "    </tr>\n",
       "    <tr>\n",
       "      <th>5</th>\n",
       "      <td>Dell 14 (2021) i5-1155G7 2in1 Touch Screen Lap...</td>\n",
       "      <td>25</td>\n",
       "      <td>70,790</td>\n",
       "    </tr>\n",
       "    <tr>\n",
       "      <th>6</th>\n",
       "      <td>Dell 14 (2021) Ryzen 7-5700U 2in1 Touch Screen...</td>\n",
       "      <td>197</td>\n",
       "      <td>84,990</td>\n",
       "    </tr>\n",
       "    <tr>\n",
       "      <th>7</th>\n",
       "      <td>AVITA Cosmos 2 in 1 Intel Celeron Dual Core 11...</td>\n",
       "      <td>251</td>\n",
       "      <td>17,845</td>\n",
       "    </tr>\n",
       "    <tr>\n",
       "      <th>8</th>\n",
       "      <td>HP 15 AMD Ryzen 3 3250U Thin &amp; Light 15.6 inch...</td>\n",
       "      <td>912</td>\n",
       "      <td>39,490</td>\n",
       "    </tr>\n",
       "    <tr>\n",
       "      <th>9</th>\n",
       "      <td>HP Chromebook 14 inches Thin &amp; Light Touchscre...</td>\n",
       "      <td>41</td>\n",
       "      <td>26,490</td>\n",
       "    </tr>\n",
       "  </tbody>\n",
       "</table>\n",
       "</div>"
      ],
      "text/plain": [
       "                                       Product Brand Ratings Original Price\n",
       "0  Dell 14 (2021) i5-1155G7 2in1 Touch Screen Lap...      25         70,790\n",
       "1  Dell 14 (2021) Ryzen 7-5700U 2in1 Touch Screen...     197         84,990\n",
       "2  AVITA Cosmos 2 in 1 Intel Celeron Dual Core 11...     251         17,845\n",
       "3  HP 15 AMD Ryzen 3 3250U Thin & Light 15.6 inch...     912         39,490\n",
       "4  HP Chromebook 14 inches Thin & Light Touchscre...      41         26,490\n",
       "5  Dell 14 (2021) i5-1155G7 2in1 Touch Screen Lap...      25         70,790\n",
       "6  Dell 14 (2021) Ryzen 7-5700U 2in1 Touch Screen...     197         84,990\n",
       "7  AVITA Cosmos 2 in 1 Intel Celeron Dual Core 11...     251         17,845\n",
       "8  HP 15 AMD Ryzen 3 3250U Thin & Light 15.6 inch...     912         39,490\n",
       "9  HP Chromebook 14 inches Thin & Light Touchscre...      41         26,490"
      ]
     },
     "execution_count": 605,
     "metadata": {},
     "output_type": "execute_result"
    }
   ],
   "source": [
    "df2=df.append(df1, ignore_index = True)\n",
    "df2"
   ]
  },
  {
   "cell_type": "markdown",
   "id": "a1b4213d",
   "metadata": {},
   "source": [
    "### 9. Write a python program to scrape data from http://www.ambitionbox.com for first 10 job results for Data Scientist Designation in noida location.You have to scrape\n",
    "1. Company Name\n",
    "2. No. of days when jobs was posted\n",
    "3. Rating of the company"
   ]
  },
  {
   "cell_type": "code",
   "execution_count": 2,
   "id": "67f6c0b3",
   "metadata": {},
   "outputs": [],
   "source": [
    "import selenium\n",
    "from selenium import webdriver\n",
    "import pandas as pd\n",
    "import warnings\n",
    "warnings.filterwarnings(\"ignore\")\n",
    "import time"
   ]
  },
  {
   "cell_type": "code",
   "execution_count": 3,
   "id": "dc0f6053",
   "metadata": {},
   "outputs": [],
   "source": [
    "driver = webdriver.Chrome(r'C:\\Users\\Ashish Jain\\Downloads\\chromedriver_win32\\chromedriver.exe')"
   ]
  },
  {
   "cell_type": "code",
   "execution_count": 4,
   "id": "86b1e605",
   "metadata": {},
   "outputs": [],
   "source": [
    "url='https://www.ambitionbox.com/'\n",
    "driver.get(url)"
   ]
  },
  {
   "cell_type": "code",
   "execution_count": 5,
   "id": "95641ac7",
   "metadata": {},
   "outputs": [],
   "source": [
    "job_chk=driver.find_element_by_xpath(\"/html/body/div[1]/nav/nav/a[6]\")\n",
    "job_chk.click()"
   ]
  },
  {
   "cell_type": "code",
   "execution_count": 6,
   "id": "cd036ac0",
   "metadata": {},
   "outputs": [
    {
     "data": {
      "text/plain": [
       "<selenium.webdriver.remote.webelement.WebElement (session=\"157a37615f87254a16cc219c74073a86\", element=\"999d2005-e9b4-40e7-b28b-a1a7a8715b07\")>"
      ]
     },
     "execution_count": 6,
     "metadata": {},
     "output_type": "execute_result"
    }
   ],
   "source": [
    "search_item=driver.find_element_by_xpath('/html/body/div/div/div/div[2]/div[1]/div/div/div/div/span/input')\n",
    "search_item"
   ]
  },
  {
   "cell_type": "code",
   "execution_count": 7,
   "id": "befb8145",
   "metadata": {},
   "outputs": [],
   "source": [
    "search_item.send_keys(\"Data Scientist,\")"
   ]
  },
  {
   "cell_type": "code",
   "execution_count": 8,
   "id": "f05f4a26",
   "metadata": {},
   "outputs": [],
   "source": [
    "find=driver.find_element_by_xpath('/html/body/div/div/div/div[2]/div[1]/div/div/div/button')\n",
    "find.click()"
   ]
  },
  {
   "cell_type": "code",
   "execution_count": 9,
   "id": "9636d284",
   "metadata": {},
   "outputs": [],
   "source": [
    "select_DS = driver.find_element_by_xpath(\"/html/body/div/div/div/div[2]/div[2]/div[1]/div/div/div/div[2]/div[1]/p\")\n",
    "\n",
    "select_DS.click()"
   ]
  },
  {
   "cell_type": "code",
   "execution_count": 10,
   "id": "aabd0fb7",
   "metadata": {},
   "outputs": [],
   "source": [
    "select_DS1 = driver.find_element_by_xpath(\"/html/body/div/div/div/div[2]/div[2]/div[1]/div/div/div/div[2]/div[2]/div/div[3]/div[1]/div[5]/div/label\")\n",
    "\n",
    "select_DS1.click()"
   ]
  },
  {
   "cell_type": "code",
   "execution_count": 11,
   "id": "d83d8d87",
   "metadata": {},
   "outputs": [],
   "source": [
    "title_tag=driver.find_elements_by_xpath('//a[@class=\"title noclick\"]')"
   ]
  },
  {
   "cell_type": "code",
   "execution_count": 12,
   "id": "d12ac45d",
   "metadata": {},
   "outputs": [],
   "source": [
    "title_name=[]\n",
    "for i in title_tag:\n",
    "    title_name.append(i.text.split()[0:4])"
   ]
  },
  {
   "cell_type": "code",
   "execution_count": 13,
   "id": "6958baff",
   "metadata": {},
   "outputs": [],
   "source": [
    "company=driver.find_elements_by_xpath('//p[@class=\"company body-medium\"]')"
   ]
  },
  {
   "cell_type": "code",
   "execution_count": 14,
   "id": "b10cc923",
   "metadata": {},
   "outputs": [],
   "source": [
    "company1=[]\n",
    "for i in company:\n",
    "    company1.append(i.text)"
   ]
  },
  {
   "cell_type": "code",
   "execution_count": 15,
   "id": "559c8fda",
   "metadata": {},
   "outputs": [],
   "source": [
    "rating_post=driver.find_elements_by_xpath('//span[@class=\"body-small\"]')"
   ]
  },
  {
   "cell_type": "code",
   "execution_count": 16,
   "id": "b78b712b",
   "metadata": {},
   "outputs": [],
   "source": [
    "rating=[]\n",
    "for i in rating_post:\n",
    "    rating.append(i.text.split()[0])"
   ]
  },
  {
   "cell_type": "code",
   "execution_count": 18,
   "id": "d62f871a",
   "metadata": {},
   "outputs": [
    {
     "data": {
      "text/html": [
       "<div>\n",
       "<style scoped>\n",
       "    .dataframe tbody tr th:only-of-type {\n",
       "        vertical-align: middle;\n",
       "    }\n",
       "\n",
       "    .dataframe tbody tr th {\n",
       "        vertical-align: top;\n",
       "    }\n",
       "\n",
       "    .dataframe thead th {\n",
       "        text-align: right;\n",
       "    }\n",
       "</style>\n",
       "<table border=\"1\" class=\"dataframe\">\n",
       "  <thead>\n",
       "    <tr style=\"text-align: right;\">\n",
       "      <th></th>\n",
       "      <th>Job Title</th>\n",
       "      <th>Company Name</th>\n",
       "      <th>Rating</th>\n",
       "    </tr>\n",
       "  </thead>\n",
       "  <tbody>\n",
       "    <tr>\n",
       "      <th>0</th>\n",
       "      <td>[Data, Scientist, @, Bangalore]</td>\n",
       "      <td>Fujitsu Consulting India Pvt. Ltd.</td>\n",
       "      <td>3.8</td>\n",
       "    </tr>\n",
       "    <tr>\n",
       "      <th>1</th>\n",
       "      <td>[Job, opening, with, Wipro]</td>\n",
       "      <td>Wipro Limited</td>\n",
       "      <td>3.8</td>\n",
       "    </tr>\n",
       "    <tr>\n",
       "      <th>2</th>\n",
       "      <td>[Spark, ML, Data, Scientist]</td>\n",
       "      <td>Wipro Limited</td>\n",
       "      <td>3.8</td>\n",
       "    </tr>\n",
       "    <tr>\n",
       "      <th>3</th>\n",
       "      <td>[Spark, ML, Data, Scientist]</td>\n",
       "      <td>Wipro Limited</td>\n",
       "      <td>3.8</td>\n",
       "    </tr>\n",
       "    <tr>\n",
       "      <th>4</th>\n",
       "      <td>[Data, Scientist]</td>\n",
       "      <td>Amazon Development Centre (India) Pvt. Ltd.</td>\n",
       "      <td>4.2</td>\n",
       "    </tr>\n",
       "    <tr>\n",
       "      <th>5</th>\n",
       "      <td>[Lead, Data, Scientist]</td>\n",
       "      <td>Wipro Limited</td>\n",
       "      <td>3.8</td>\n",
       "    </tr>\n",
       "    <tr>\n",
       "      <th>6</th>\n",
       "      <td>[Data, Scientist, -, Analytics]</td>\n",
       "      <td>Crescendo Global</td>\n",
       "      <td>4.8</td>\n",
       "    </tr>\n",
       "    <tr>\n",
       "      <th>7</th>\n",
       "      <td>[Finserv, Markets, is, hiring]</td>\n",
       "      <td>BAJAJ FINSERV DIRECT LIMITED</td>\n",
       "      <td>4.0</td>\n",
       "    </tr>\n",
       "    <tr>\n",
       "      <th>8</th>\n",
       "      <td>[Data, Scientist, -, Consultant]</td>\n",
       "      <td>TransUnion Software Services Pvt. Ltd</td>\n",
       "      <td>4.5</td>\n",
       "    </tr>\n",
       "    <tr>\n",
       "      <th>9</th>\n",
       "      <td>[Senior, Site, Reliability, Engineer]</td>\n",
       "      <td>NUANCE INDIA PVT LTD</td>\n",
       "      <td>4.4</td>\n",
       "    </tr>\n",
       "  </tbody>\n",
       "</table>\n",
       "</div>"
      ],
      "text/plain": [
       "                               Job Title  \\\n",
       "0        [Data, Scientist, @, Bangalore]   \n",
       "1            [Job, opening, with, Wipro]   \n",
       "2           [Spark, ML, Data, Scientist]   \n",
       "3           [Spark, ML, Data, Scientist]   \n",
       "4                      [Data, Scientist]   \n",
       "5                [Lead, Data, Scientist]   \n",
       "6        [Data, Scientist, -, Analytics]   \n",
       "7         [Finserv, Markets, is, hiring]   \n",
       "8       [Data, Scientist, -, Consultant]   \n",
       "9  [Senior, Site, Reliability, Engineer]   \n",
       "\n",
       "                                  Company Name Rating  \n",
       "0           Fujitsu Consulting India Pvt. Ltd.    3.8  \n",
       "1                                Wipro Limited    3.8  \n",
       "2                                Wipro Limited    3.8  \n",
       "3                                Wipro Limited    3.8  \n",
       "4  Amazon Development Centre (India) Pvt. Ltd.    4.2  \n",
       "5                                Wipro Limited    3.8  \n",
       "6                             Crescendo Global    4.8  \n",
       "7                 BAJAJ FINSERV DIRECT LIMITED    4.0  \n",
       "8        TransUnion Software Services Pvt. Ltd    4.5  \n",
       "9                         NUANCE INDIA PVT LTD    4.4  "
      ]
     },
     "execution_count": 18,
     "metadata": {},
     "output_type": "execute_result"
    }
   ],
   "source": [
    "pd.DataFrame({'Job Title':title_name[0:10] , 'Company Name' :company1[0:10],'Rating' :rating[0:10]})"
   ]
  },
  {
   "cell_type": "markdown",
   "id": "2faa2c86",
   "metadata": {},
   "source": [
    "### 10. Write a python program to scrape the salary data for Data Scientist Designation.\n",
    "You have to scrape \n",
    "1. Company Name\n",
    "2. Number of Salaries\n",
    "3. Average Salary\n",
    "4. Min Salary\n",
    "5. Max Salary"
   ]
  },
  {
   "cell_type": "code",
   "execution_count": 19,
   "id": "c6b29d32",
   "metadata": {},
   "outputs": [],
   "source": [
    "import selenium\n",
    "from selenium import webdriver\n",
    "import pandas as pd\n",
    "import warnings\n",
    "warnings.filterwarnings(\"ignore\")\n",
    "import time"
   ]
  },
  {
   "cell_type": "code",
   "execution_count": 20,
   "id": "3ae97e78",
   "metadata": {},
   "outputs": [],
   "source": [
    "driver = webdriver.Chrome(r'C:\\Users\\Ashish Jain\\Downloads\\chromedriver_win32\\chromedriver.exe')"
   ]
  },
  {
   "cell_type": "code",
   "execution_count": 21,
   "id": "3fe791d2",
   "metadata": {},
   "outputs": [],
   "source": [
    "url='https://www.ambitionbox.com/'\n",
    "driver.get(url)"
   ]
  },
  {
   "cell_type": "code",
   "execution_count": 22,
   "id": "6422cce8",
   "metadata": {},
   "outputs": [],
   "source": [
    "job_chk=driver.find_element_by_xpath('/html/body/div[1]/nav/nav/a[4]')\n",
    "job_chk.click()"
   ]
  },
  {
   "cell_type": "code",
   "execution_count": 23,
   "id": "0802cccb",
   "metadata": {},
   "outputs": [
    {
     "data": {
      "text/plain": [
       "<selenium.webdriver.remote.webelement.WebElement (session=\"e17dd2e4c8dc3fb501abb0dc302a8097\", element=\"66d97b28-5c81-4d66-bf1c-6c46a115a3b5\")>"
      ]
     },
     "execution_count": 23,
     "metadata": {},
     "output_type": "execute_result"
    }
   ],
   "source": [
    "search_item=driver.find_element_by_xpath('/html/body/div/div/div/main/section[1]/div[2]/div[1]/span/input')\n",
    "search_item"
   ]
  },
  {
   "cell_type": "code",
   "execution_count": 24,
   "id": "272f4609",
   "metadata": {},
   "outputs": [],
   "source": [
    "search_item.send_keys(\"Data Scientist\")"
   ]
  },
  {
   "cell_type": "code",
   "execution_count": 25,
   "id": "02a86f62",
   "metadata": {},
   "outputs": [],
   "source": [
    "find=driver.find_element_by_xpath('/html/body/div/div/div/main/section[1]/div[2]/div[1]/i[1]')\n",
    "find.click()"
   ]
  },
  {
   "cell_type": "code",
   "execution_count": 26,
   "id": "5d7cf3aa",
   "metadata": {},
   "outputs": [],
   "source": [
    "title_tag=driver.find_elements_by_xpath('//div[@class=\"name\"]')"
   ]
  },
  {
   "cell_type": "code",
   "execution_count": 27,
   "id": "6392666f",
   "metadata": {},
   "outputs": [],
   "source": [
    "title_name=[]\n",
    "title1_name=[]\n",
    "for i in title_tag:\n",
    "\n",
    "    title_name.append(i.text.split()[0:1])\n",
    "    title1_name.append(i.text.split()[2:5])"
   ]
  },
  {
   "cell_type": "code",
   "execution_count": 28,
   "id": "16eb80fa",
   "metadata": {},
   "outputs": [],
   "source": [
    "Asalary_tag=driver.find_elements_by_xpath('//p[@class=\"averageCtc\"]')\n",
    "Avg_salary=[]\n",
    "for i in Asalary_tag:\n",
    "    Avg_salary.append(i.text)\n"
   ]
  },
  {
   "cell_type": "code",
   "execution_count": 29,
   "id": "7145580a",
   "metadata": {},
   "outputs": [],
   "source": [
    "Minsalary_tag=driver.find_elements_by_xpath('//div[@class=\"salary-values\"]')\n",
    "MinAvg_salary=[]\n",
    "maxsalary=[]\n",
    "for i in Minsalary_tag:\n",
    "    MinAvg_salary.append(i.text.strip('[').split()[1:2])\n",
    "    maxsalary.append(i.text.replace(r\" ?\\([^)]+\\))\",\"\").split()[3:4])"
   ]
  },
  {
   "cell_type": "code",
   "execution_count": 30,
   "id": "4b917983",
   "metadata": {},
   "outputs": [],
   "source": [
    "Exp=driver.find_elements_by_xpath('//div[@class=\"salaries sbold-list-header\"]')"
   ]
  },
  {
   "cell_type": "code",
   "execution_count": 31,
   "id": "88b8a888",
   "metadata": {},
   "outputs": [],
   "source": [
    "Experience=[]\n",
    "for i in Exp:\n",
    "    Experience.append(i.text.split()[3:5])"
   ]
  },
  {
   "cell_type": "code",
   "execution_count": 34,
   "id": "425d8ae2",
   "metadata": {},
   "outputs": [],
   "source": [
    "df=pd.DataFrame({'Company Name ':title_name[0:10] , 'Total salary record,' :title1_name[0:10], 'Average Salary' :Avg_salary[0:10],'Maximum Salary' :maxsalary[0:10],'Minimum Salary ':MinAvg_salary,'Experience':Experience})"
   ]
  },
  {
   "cell_type": "code",
   "execution_count": 35,
   "id": "888ba13a",
   "metadata": {},
   "outputs": [
    {
     "data": {
      "text/html": [
       "<div>\n",
       "<style scoped>\n",
       "    .dataframe tbody tr th:only-of-type {\n",
       "        vertical-align: middle;\n",
       "    }\n",
       "\n",
       "    .dataframe tbody tr th {\n",
       "        vertical-align: top;\n",
       "    }\n",
       "\n",
       "    .dataframe thead th {\n",
       "        text-align: right;\n",
       "    }\n",
       "</style>\n",
       "<table border=\"1\" class=\"dataframe\">\n",
       "  <thead>\n",
       "    <tr style=\"text-align: right;\">\n",
       "      <th></th>\n",
       "      <th>Company Name</th>\n",
       "      <th>Total salary record,</th>\n",
       "      <th>Average Salary</th>\n",
       "      <th>Maximum Salary</th>\n",
       "      <th>Minimum Salary</th>\n",
       "      <th>Experience</th>\n",
       "    </tr>\n",
       "  </thead>\n",
       "  <tbody>\n",
       "    <tr>\n",
       "      <th>0</th>\n",
       "      <td>[Tekion]</td>\n",
       "      <td>[on, 10, salaries]</td>\n",
       "      <td>₹ 23.3L</td>\n",
       "      <td>[32.0L]</td>\n",
       "      <td>[14.0L]</td>\n",
       "      <td>[4, yrs]</td>\n",
       "    </tr>\n",
       "    <tr>\n",
       "      <th>1</th>\n",
       "      <td>[Microsoft]</td>\n",
       "      <td>[based, on, 224]</td>\n",
       "      <td>₹ 22.4L</td>\n",
       "      <td>[45.0L]</td>\n",
       "      <td>[12.0L]</td>\n",
       "      <td>[1-4, yrs]</td>\n",
       "    </tr>\n",
       "    <tr>\n",
       "      <th>2</th>\n",
       "      <td>[Goldman]</td>\n",
       "      <td>[based, on, 11]</td>\n",
       "      <td>₹ 21.9L</td>\n",
       "      <td>[30.0L]</td>\n",
       "      <td>[16.0L]</td>\n",
       "      <td>[2, yrs]</td>\n",
       "    </tr>\n",
       "    <tr>\n",
       "      <th>3</th>\n",
       "      <td>[Flipkart]</td>\n",
       "      <td>[on, 54, salaries]</td>\n",
       "      <td>₹ 20.6L</td>\n",
       "      <td>[30.0L]</td>\n",
       "      <td>[7.0L]</td>\n",
       "      <td>[1-4, yrs]</td>\n",
       "    </tr>\n",
       "    <tr>\n",
       "      <th>4</th>\n",
       "      <td>[Amazon]</td>\n",
       "      <td>[on, 85, salaries]</td>\n",
       "      <td>₹ 19.4L</td>\n",
       "      <td>[41.5L]</td>\n",
       "      <td>[8.0L]</td>\n",
       "      <td>[1-4, yrs]</td>\n",
       "    </tr>\n",
       "    <tr>\n",
       "      <th>5</th>\n",
       "      <td>[Arcesium]</td>\n",
       "      <td>[on, 37, salaries]</td>\n",
       "      <td>₹ 18.5L</td>\n",
       "      <td>[30.0L]</td>\n",
       "      <td>[12.0L]</td>\n",
       "      <td>[1, yr]</td>\n",
       "    </tr>\n",
       "    <tr>\n",
       "      <th>6</th>\n",
       "      <td>[PayPal]</td>\n",
       "      <td>[on, 12, salaries]</td>\n",
       "      <td>₹ 18.4L</td>\n",
       "      <td>[25.0L]</td>\n",
       "      <td>[12.0L]</td>\n",
       "      <td>[1, yr]</td>\n",
       "    </tr>\n",
       "    <tr>\n",
       "      <th>7</th>\n",
       "      <td>[Servicenow]</td>\n",
       "      <td>[Development, India, based]</td>\n",
       "      <td>₹ 18.3L</td>\n",
       "      <td>[25.0L]</td>\n",
       "      <td>[12.0L]</td>\n",
       "      <td>[2-3, yrs]</td>\n",
       "    </tr>\n",
       "    <tr>\n",
       "      <th>8</th>\n",
       "      <td>[Walmart]</td>\n",
       "      <td>[on, 79, salaries]</td>\n",
       "      <td>₹ 17.9L</td>\n",
       "      <td>[32.0L]</td>\n",
       "      <td>[10.0L]</td>\n",
       "      <td>[1-4, yrs]</td>\n",
       "    </tr>\n",
       "    <tr>\n",
       "      <th>9</th>\n",
       "      <td>[ServiceNow]</td>\n",
       "      <td>[on, 16, salaries]</td>\n",
       "      <td>₹ 17.8L</td>\n",
       "      <td>[23.0L]</td>\n",
       "      <td>[11.2L]</td>\n",
       "      <td>[3, yrs]</td>\n",
       "    </tr>\n",
       "  </tbody>\n",
       "</table>\n",
       "</div>"
      ],
      "text/plain": [
       "  Company Name          Total salary record, Average Salary Maximum Salary  \\\n",
       "0      [Tekion]           [on, 10, salaries]        ₹ 23.3L        [32.0L]   \n",
       "1   [Microsoft]             [based, on, 224]        ₹ 22.4L        [45.0L]   \n",
       "2     [Goldman]              [based, on, 11]        ₹ 21.9L        [30.0L]   \n",
       "3    [Flipkart]           [on, 54, salaries]        ₹ 20.6L        [30.0L]   \n",
       "4      [Amazon]           [on, 85, salaries]        ₹ 19.4L        [41.5L]   \n",
       "5    [Arcesium]           [on, 37, salaries]        ₹ 18.5L        [30.0L]   \n",
       "6      [PayPal]           [on, 12, salaries]        ₹ 18.4L        [25.0L]   \n",
       "7  [Servicenow]  [Development, India, based]        ₹ 18.3L        [25.0L]   \n",
       "8     [Walmart]           [on, 79, salaries]        ₹ 17.9L        [32.0L]   \n",
       "9  [ServiceNow]           [on, 16, salaries]        ₹ 17.8L        [23.0L]   \n",
       "\n",
       "  Minimum Salary   Experience  \n",
       "0         [14.0L]    [4, yrs]  \n",
       "1         [12.0L]  [1-4, yrs]  \n",
       "2         [16.0L]    [2, yrs]  \n",
       "3          [7.0L]  [1-4, yrs]  \n",
       "4          [8.0L]  [1-4, yrs]  \n",
       "5         [12.0L]     [1, yr]  \n",
       "6         [12.0L]     [1, yr]  \n",
       "7         [12.0L]  [2-3, yrs]  \n",
       "8         [10.0L]  [1-4, yrs]  \n",
       "9         [11.2L]    [3, yrs]  "
      ]
     },
     "execution_count": 35,
     "metadata": {},
     "output_type": "execute_result"
    }
   ],
   "source": [
    "df"
   ]
  },
  {
   "cell_type": "code",
   "execution_count": null,
   "id": "4fa24424",
   "metadata": {},
   "outputs": [],
   "source": []
  }
 ],
 "metadata": {
  "kernelspec": {
   "display_name": "Python 3",
   "language": "python",
   "name": "python3"
  },
  "language_info": {
   "codemirror_mode": {
    "name": "ipython",
    "version": 3
   },
   "file_extension": ".py",
   "mimetype": "text/x-python",
   "name": "python",
   "nbconvert_exporter": "python",
   "pygments_lexer": "ipython3",
   "version": "3.8.8"
  }
 },
 "nbformat": 4,
 "nbformat_minor": 5
}
