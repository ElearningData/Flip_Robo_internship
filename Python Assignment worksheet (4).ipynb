{
 "cells": [
  {
   "cell_type": "markdown",
   "id": "6d0774ab",
   "metadata": {},
   "source": [
    "## 1. Write a program to find the factorial of a number"
   ]
  },
  {
   "cell_type": "code",
   "execution_count": 1,
   "id": "990c71b0",
   "metadata": {},
   "outputs": [
    {
     "name": "stdout",
     "output_type": "stream",
     "text": [
      "Enter number :  5\n",
      "the factorial of 5 is 120\n"
     ]
    }
   ],
   "source": [
    "def num_factorial(x):\n",
    "    \n",
    "    if (x==1):\n",
    "        return 1\n",
    "    else:\n",
    "        return(x * num_factorial(x-1))\n",
    "\n",
    "n = int(input(\"Enter number :  \"))\n",
    "print(\"the factorial of\", n, \"is\" , num_factorial(n))\n",
    "    "
   ]
  },
  {
   "cell_type": "markdown",
   "id": "a85fa816",
   "metadata": {},
   "source": [
    "## 2. Write a program to find whether a number is prime or composite?"
   ]
  },
  {
   "cell_type": "code",
   "execution_count": 2,
   "id": "c0bd20b7",
   "metadata": {},
   "outputs": [
    {
     "name": "stdout",
     "output_type": "stream",
     "text": [
      "11 is a prime number\n"
     ]
    }
   ],
   "source": [
    "num1 = 11\n",
    "#num1 = 6\n",
    "# if given number is greater than 2\n",
    "if num1 >1:\n",
    "    # iterate from 2 to n/2\n",
    "    for i in range(2, int(num1/2)+1):\n",
    "        if(num1 % i) == 0:\n",
    "            print(num1, \"is not a prime number\")\n",
    "            break\n",
    "    else:\n",
    "            print(num1,\"is a prime number\")\n",
    "else:\n",
    "    print(num1,\" is not a prime number\")"
   ]
  },
  {
   "cell_type": "markdown",
   "id": "6f9701d1",
   "metadata": {},
   "source": [
    "## 3. Write a program to check whether a given string is palindrome or not"
   ]
  },
  {
   "cell_type": "code",
   "execution_count": 4,
   "id": "eb85725c",
   "metadata": {},
   "outputs": [
    {
     "name": "stdout",
     "output_type": "stream",
     "text": [
      "enter a string   madam\n",
      "the string is palindrome  \n"
     ]
    }
   ],
   "source": [
    "string= input(\"enter a string   \")\n",
    "if(string == string[::-1]):\n",
    "    print(\"the string is palindrome  \")\n",
    "else:\n",
    "    print(\"the string is not palindrome  \")\n"
   ]
  },
  {
   "cell_type": "markdown",
   "id": "35ad8aa1",
   "metadata": {},
   "source": [
    "## 4. Write a python program to get the third side of right- angled triangle from two given sides "
   ]
  },
  {
   "cell_type": "code",
   "execution_count": 12,
   "id": "85322011",
   "metadata": {},
   "outputs": [
    {
     "name": "stdout",
     "output_type": "stream",
     "text": [
      "Hypotenuse5.0\n",
      "Adj = 4.0\n",
      "Opp = 3.0\n",
      "You know the answer\n"
     ]
    }
   ],
   "source": [
    "#use biwise operation to add two numbers\n",
    "def pythagoras(opp_side,adj_side,hypotenuse):\n",
    "    if opp_side == str(\"x\"):\n",
    "        return(\"Opp = \"+ str(((hypotenuse**2) - (adj_side**2))**0.5))\n",
    "    elif adj_side == str(\"x\"):\n",
    "        return(\"Adj = \"+ str(((hypotenuse**2) - (opp_side**2))**0.5))\n",
    "    elif hypotenuse == str(\"x\"):\n",
    "        return(\"Hypotenuse\"+str(((opp_side**2) + (adj_side**2))**0.5))\n",
    "    else:\n",
    "        return(\"You know the answer\")\n",
    "print(pythagoras(3,4,'x'))\n",
    "print(pythagoras(3,'x',5))\n",
    "print(pythagoras('x',4,5))\n",
    "print(pythagoras(3,4,5))"
   ]
  },
  {
   "cell_type": "markdown",
   "id": "35f3ead7",
   "metadata": {},
   "source": [
    "## 5. Write a python program to print the frequency of each of the characters present in the given string"
   ]
  },
  {
   "cell_type": "code",
   "execution_count": 11,
   "id": "4f9079b5",
   "metadata": {},
   "outputs": [
    {
     "name": "stdout",
     "output_type": "stream",
     "text": [
      "enter the string   abcdeabc\n",
      "a,2\n",
      "b,2\n",
      "c,2\n",
      "d,1\n",
      "e,1\n",
      "a,3\n",
      "b,5\n",
      "c,7\n"
     ]
    }
   ],
   "source": [
    "string = input(\"enter the string   \")\n",
    "newstr = list(string)\n",
    "newlist = []\n",
    "for j in newstr:\n",
    "    \n",
    "    if j not in newlist:\n",
    "        newlist.append(j)\n",
    "        count = 0\n",
    "    for i in range(len(newstr)):\n",
    "        if j == newstr[i]:\n",
    "            count+=1\n",
    "    print(\"{},{}\".format(j,count))"
   ]
  },
  {
   "cell_type": "code",
   "execution_count": 13,
   "id": "f088847e",
   "metadata": {},
   "outputs": [
    {
     "data": {
      "text/plain": [
       "0"
      ]
     },
     "execution_count": 13,
     "metadata": {},
     "output_type": "execute_result"
    }
   ],
   "source": [
    "2//3"
   ]
  },
  {
   "cell_type": "code",
   "execution_count": 14,
   "id": "b6a27cea",
   "metadata": {},
   "outputs": [
    {
     "data": {
      "text/plain": [
       "24"
      ]
     },
     "execution_count": 14,
     "metadata": {},
     "output_type": "execute_result"
    }
   ],
   "source": [
    "6<<2"
   ]
  },
  {
   "cell_type": "code",
   "execution_count": 15,
   "id": "9ae7d2f7",
   "metadata": {},
   "outputs": [
    {
     "data": {
      "text/plain": [
       "2"
      ]
     },
     "execution_count": 15,
     "metadata": {},
     "output_type": "execute_result"
    }
   ],
   "source": [
    "6&2"
   ]
  },
  {
   "cell_type": "code",
   "execution_count": 16,
   "id": "96ad94db",
   "metadata": {},
   "outputs": [
    {
     "data": {
      "text/plain": [
       "6"
      ]
     },
     "execution_count": 16,
     "metadata": {},
     "output_type": "execute_result"
    }
   ],
   "source": [
    "6|2"
   ]
  },
  {
   "cell_type": "code",
   "execution_count": null,
   "id": "11ebdace",
   "metadata": {},
   "outputs": [],
   "source": []
  }
 ],
 "metadata": {
  "kernelspec": {
   "display_name": "Python 3",
   "language": "python",
   "name": "python3"
  },
  "language_info": {
   "codemirror_mode": {
    "name": "ipython",
    "version": 3
   },
   "file_extension": ".py",
   "mimetype": "text/x-python",
   "name": "python",
   "nbconvert_exporter": "python",
   "pygments_lexer": "ipython3",
   "version": "3.8.8"
  }
 },
 "nbformat": 4,
 "nbformat_minor": 5
}
